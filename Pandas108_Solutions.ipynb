{
 "cells": [
  {
   "cell_type": "markdown",
   "id": "9016ac2d-2705-4ff4-9619-75d68bb0f519",
   "metadata": {},
   "source": [
    "### Pandas 108 \n"
   ]
  },
  {
   "cell_type": "code",
   "execution_count": 2,
   "id": "715fbd13-11d0-4dad-9082-88dff4eb1382",
   "metadata": {},
   "outputs": [],
   "source": [
    "import pandas as pd\n",
    "import matplotlib.pyplot as plt\n",
    "import seaborn as sns\n",
    "from datetime import datetime, timedelta"
   ]
  },
  {
   "cell_type": "code",
   "execution_count": 3,
   "id": "22135631-b12a-4911-8e61-5494d18dfdc1",
   "metadata": {},
   "outputs": [],
   "source": [
    "df = pd.read_csv('Amazon_BooksDataset.csv')"
   ]
  },
  {
   "cell_type": "markdown",
   "id": "f8bf70ac-0325-4f52-b577-f099b68fe37a",
   "metadata": {},
   "source": [
    "**1. Get the names of all the columns**"
   ]
  },
  {
   "cell_type": "code",
   "execution_count": 5,
   "id": "722b709b-3419-4196-8282-2c97a535777a",
   "metadata": {
    "scrolled": true
   },
   "outputs": [
    {
     "data": {
      "text/plain": [
       "Index(['Book Name', 'Author', 'Pages', 'Language', 'Ratings', 'Total Ratings',\n",
       "       'Price', 'Category'],\n",
       "      dtype='object')"
      ]
     },
     "execution_count": 5,
     "metadata": {},
     "output_type": "execute_result"
    }
   ],
   "source": [
    "df.columns"
   ]
  },
  {
   "cell_type": "markdown",
   "id": "c2b59dd8-6eba-4a91-991f-4189de416bfe",
   "metadata": {},
   "source": [
    "**2. Display the first 3 rows**"
   ]
  },
  {
   "cell_type": "code",
   "execution_count": 7,
   "id": "694ea9d7-cb97-4c28-a4e5-73600e8233e6",
   "metadata": {
    "scrolled": true
   },
   "outputs": [
    {
     "data": {
      "text/html": [
       "<div>\n",
       "<style scoped>\n",
       "    .dataframe tbody tr th:only-of-type {\n",
       "        vertical-align: middle;\n",
       "    }\n",
       "\n",
       "    .dataframe tbody tr th {\n",
       "        vertical-align: top;\n",
       "    }\n",
       "\n",
       "    .dataframe thead th {\n",
       "        text-align: right;\n",
       "    }\n",
       "</style>\n",
       "<table border=\"1\" class=\"dataframe\">\n",
       "  <thead>\n",
       "    <tr style=\"text-align: right;\">\n",
       "      <th></th>\n",
       "      <th>Book Name</th>\n",
       "      <th>Author</th>\n",
       "      <th>Pages</th>\n",
       "      <th>Language</th>\n",
       "      <th>Ratings</th>\n",
       "      <th>Total Ratings</th>\n",
       "      <th>Price</th>\n",
       "      <th>Category</th>\n",
       "    </tr>\n",
       "  </thead>\n",
       "  <tbody>\n",
       "    <tr>\n",
       "      <th>0</th>\n",
       "      <td>11 Rules For Life: Secrets to Level Up</td>\n",
       "      <td>Chetan Bhagat</td>\n",
       "      <td>256.0</td>\n",
       "      <td>English</td>\n",
       "      <td>4.5</td>\n",
       "      <td>735</td>\n",
       "      <td>183</td>\n",
       "      <td>Self Improvement</td>\n",
       "    </tr>\n",
       "    <tr>\n",
       "      <th>1</th>\n",
       "      <td>1984 [Paperback] George Orwell</td>\n",
       "      <td>George Orwell</td>\n",
       "      <td>304.0</td>\n",
       "      <td>English</td>\n",
       "      <td>4.5</td>\n",
       "      <td>1,26,238</td>\n",
       "      <td>139</td>\n",
       "      <td>Literature</td>\n",
       "    </tr>\n",
       "    <tr>\n",
       "      <th>2</th>\n",
       "      <td>1984 [Paperback] George Orwell</td>\n",
       "      <td>George Orwell</td>\n",
       "      <td>304.0</td>\n",
       "      <td>English</td>\n",
       "      <td>4.5</td>\n",
       "      <td>1,26,238</td>\n",
       "      <td>139</td>\n",
       "      <td>Literature</td>\n",
       "    </tr>\n",
       "  </tbody>\n",
       "</table>\n",
       "</div>"
      ],
      "text/plain": [
       "                                Book Name         Author  Pages Language  \\\n",
       "0  11 Rules For Life: Secrets to Level Up  Chetan Bhagat  256.0  English   \n",
       "1          1984 [Paperback] George Orwell  George Orwell  304.0  English   \n",
       "2          1984 [Paperback] George Orwell  George Orwell  304.0  English   \n",
       "\n",
       "   Ratings Total Ratings Price          Category  \n",
       "0      4.5           735   183  Self Improvement  \n",
       "1      4.5      1,26,238   139        Literature  \n",
       "2      4.5      1,26,238   139        Literature  "
      ]
     },
     "execution_count": 7,
     "metadata": {},
     "output_type": "execute_result"
    }
   ],
   "source": [
    "df.head(3)"
   ]
  },
  {
   "cell_type": "markdown",
   "id": "d9d6f724-daa3-4025-97b9-b392f155f7ef",
   "metadata": {},
   "source": [
    "**3. Display 4 random rows from the dataframe**"
   ]
  },
  {
   "cell_type": "code",
   "execution_count": 9,
   "id": "7919cf69-9a78-47b7-998d-1b24f3bc1b29",
   "metadata": {},
   "outputs": [
    {
     "data": {
      "text/html": [
       "<div>\n",
       "<style scoped>\n",
       "    .dataframe tbody tr th:only-of-type {\n",
       "        vertical-align: middle;\n",
       "    }\n",
       "\n",
       "    .dataframe tbody tr th {\n",
       "        vertical-align: top;\n",
       "    }\n",
       "\n",
       "    .dataframe thead th {\n",
       "        text-align: right;\n",
       "    }\n",
       "</style>\n",
       "<table border=\"1\" class=\"dataframe\">\n",
       "  <thead>\n",
       "    <tr style=\"text-align: right;\">\n",
       "      <th></th>\n",
       "      <th>Book Name</th>\n",
       "      <th>Author</th>\n",
       "      <th>Pages</th>\n",
       "      <th>Language</th>\n",
       "      <th>Ratings</th>\n",
       "      <th>Total Ratings</th>\n",
       "      <th>Price</th>\n",
       "      <th>Category</th>\n",
       "    </tr>\n",
       "  </thead>\n",
       "  <tbody>\n",
       "    <tr>\n",
       "      <th>228</th>\n",
       "      <td>The Hobbit: Illustrated Edition: Or There and ...</td>\n",
       "      <td>J.R.R. Tolkien</td>\n",
       "      <td>384.0</td>\n",
       "      <td>English</td>\n",
       "      <td>4.9</td>\n",
       "      <td>6,055</td>\n",
       "      <td>2,994.00</td>\n",
       "      <td>Religion and Spirtuality</td>\n",
       "    </tr>\n",
       "    <tr>\n",
       "      <th>218</th>\n",
       "      <td>The Complete Novels of Sherlock Holmes [Paperb...</td>\n",
       "      <td>Arthur Conan Doyle</td>\n",
       "      <td>536.0</td>\n",
       "      <td>English</td>\n",
       "      <td>4.4</td>\n",
       "      <td>20,458</td>\n",
       "      <td>189</td>\n",
       "      <td>Literature</td>\n",
       "    </tr>\n",
       "    <tr>\n",
       "      <th>64</th>\n",
       "      <td>Doglapan : The Hard Truth about Life and Start...</td>\n",
       "      <td>ASHNEER GROVER</td>\n",
       "      <td>256.0</td>\n",
       "      <td>English</td>\n",
       "      <td>4.3</td>\n",
       "      <td>3,221</td>\n",
       "      <td>286</td>\n",
       "      <td>Finance</td>\n",
       "    </tr>\n",
       "    <tr>\n",
       "      <th>101</th>\n",
       "      <td>I AM MALALA (ADULT REGULAR B FORMAT) [Paperbac...</td>\n",
       "      <td>Malala Yousafzai</td>\n",
       "      <td>320.0</td>\n",
       "      <td>English</td>\n",
       "      <td>4.5</td>\n",
       "      <td>17,246</td>\n",
       "      <td>333</td>\n",
       "      <td>Political</td>\n",
       "    </tr>\n",
       "  </tbody>\n",
       "</table>\n",
       "</div>"
      ],
      "text/plain": [
       "                                             Book Name              Author  \\\n",
       "228  The Hobbit: Illustrated Edition: Or There and ...      J.R.R. Tolkien   \n",
       "218  The Complete Novels of Sherlock Holmes [Paperb...  Arthur Conan Doyle   \n",
       "64   Doglapan : The Hard Truth about Life and Start...      ASHNEER GROVER   \n",
       "101  I AM MALALA (ADULT REGULAR B FORMAT) [Paperbac...    Malala Yousafzai   \n",
       "\n",
       "     Pages Language  Ratings Total Ratings     Price                  Category  \n",
       "228  384.0  English      4.9         6,055  2,994.00  Religion and Spirtuality  \n",
       "218  536.0  English      4.4        20,458       189                Literature  \n",
       "64   256.0  English      4.3         3,221       286                   Finance  \n",
       "101  320.0  English      4.5        17,246       333                 Political  "
      ]
     },
     "execution_count": 9,
     "metadata": {},
     "output_type": "execute_result"
    }
   ],
   "source": [
    "df.sample(4)"
   ]
  },
  {
   "cell_type": "markdown",
   "id": "05c97f48-294c-4d96-9e65-0d20fd7c423f",
   "metadata": {},
   "source": [
    "**4. What is the total number of rows in the dataset?**"
   ]
  },
  {
   "cell_type": "code",
   "execution_count": 11,
   "id": "35a9bd52-e9d8-4b0a-bada-213ff4f58854",
   "metadata": {},
   "outputs": [
    {
     "data": {
      "text/plain": [
       "320"
      ]
     },
     "execution_count": 11,
     "metadata": {},
     "output_type": "execute_result"
    }
   ],
   "source": [
    "df.shape[0]"
   ]
  },
  {
   "cell_type": "markdown",
   "id": "22a3d0d4-4fa0-4545-9193-3d36e2389a4c",
   "metadata": {},
   "source": [
    "**5. Rename 'Ratings' column to 'Average Rating'**"
   ]
  },
  {
   "cell_type": "code",
   "execution_count": 13,
   "id": "ad4b805c-c1a1-4900-973f-7a05833459b7",
   "metadata": {},
   "outputs": [],
   "source": [
    "df = df.rename(columns={'Ratings': 'Average Rating'})"
   ]
  },
  {
   "cell_type": "markdown",
   "id": "5ef2d97d-e355-4c12-b470-76261022dbe9",
   "metadata": {},
   "source": [
    "**6. Check if there are any duplicate rows**"
   ]
  },
  {
   "cell_type": "code",
   "execution_count": 15,
   "id": "7d5ad40c-ce22-40ce-bb12-a1ee2f479e96",
   "metadata": {
    "scrolled": true
   },
   "outputs": [
    {
     "data": {
      "text/plain": [
       "False    241\n",
       "True      79\n",
       "Name: count, dtype: int64"
      ]
     },
     "execution_count": 15,
     "metadata": {},
     "output_type": "execute_result"
    }
   ],
   "source": [
    "df.duplicated().value_counts()  "
   ]
  },
  {
   "cell_type": "markdown",
   "id": "90fa3da5-7c34-42f4-a94d-febe2ce68a0b",
   "metadata": {},
   "source": [
    "**7. Remove any duplicate rows**"
   ]
  },
  {
   "cell_type": "code",
   "execution_count": 17,
   "id": "5c1cd03a-9960-40e1-8109-4c15e7805287",
   "metadata": {},
   "outputs": [],
   "source": [
    "df = df.drop_duplicates()"
   ]
  },
  {
   "cell_type": "markdown",
   "id": "dc689580-0458-4730-a508-88e944e73c2f",
   "metadata": {},
   "source": [
    "**8. Remove rows where 'Average Rating' and 'Total Ratings' are missing**"
   ]
  },
  {
   "cell_type": "code",
   "execution_count": 19,
   "id": "3c777399-dc5a-4b71-9b87-f117ffb194a6",
   "metadata": {},
   "outputs": [],
   "source": [
    "df = df.dropna(subset=['Average Rating', 'Total Ratings'])"
   ]
  },
  {
   "cell_type": "markdown",
   "id": "540c2eb2-3b27-464f-959e-a0fc75478b55",
   "metadata": {},
   "source": [
    "**9. Check the datatype of all the columns**"
   ]
  },
  {
   "cell_type": "code",
   "execution_count": 21,
   "id": "565562bf-e827-4127-bd6a-286d8b4ae4c2",
   "metadata": {
    "scrolled": true
   },
   "outputs": [
    {
     "data": {
      "text/plain": [
       "Book Name          object\n",
       "Author             object\n",
       "Pages             float64\n",
       "Language           object\n",
       "Average Rating    float64\n",
       "Total Ratings      object\n",
       "Price              object\n",
       "Category           object\n",
       "dtype: object"
      ]
     },
     "execution_count": 21,
     "metadata": {},
     "output_type": "execute_result"
    }
   ],
   "source": [
    "df.dtypes"
   ]
  },
  {
   "cell_type": "markdown",
   "id": "d28493fc-8ff9-4b4b-b841-8fb43c6d5866",
   "metadata": {},
   "source": [
    "**10. Remove comma from values in Price column and change the type to float64**"
   ]
  },
  {
   "cell_type": "code",
   "execution_count": 23,
   "id": "93ff3331-6745-49df-91e1-92da868e42c4",
   "metadata": {},
   "outputs": [],
   "source": [
    "df['Price'] = df['Price'].str.replace(',', '').astype('float64')"
   ]
  },
  {
   "cell_type": "markdown",
   "id": "735b91b5-0b96-4940-b994-29062feb63e0",
   "metadata": {},
   "source": [
    "**11. Remove comma from values in Total Ratings column and change the type to int64**"
   ]
  },
  {
   "cell_type": "code",
   "execution_count": 25,
   "id": "5164a45c-2349-4606-816c-f4d9dd323710",
   "metadata": {},
   "outputs": [],
   "source": [
    "df['Total Ratings'] = df['Total Ratings'].str.replace(',', '').astype('int64')"
   ]
  },
  {
   "cell_type": "markdown",
   "id": "34b2edc1-07e2-4592-91e8-1f4314471adf",
   "metadata": {},
   "source": [
    "**12. Check how many missing values are there in all columns**"
   ]
  },
  {
   "cell_type": "code",
   "execution_count": 27,
   "id": "399d175d-72e6-454e-864c-bfd336fbf870",
   "metadata": {},
   "outputs": [
    {
     "data": {
      "text/plain": [
       "Book Name          0\n",
       "Author             2\n",
       "Pages             24\n",
       "Language           5\n",
       "Average Rating     0\n",
       "Total Ratings      0\n",
       "Price             19\n",
       "Category           0\n",
       "dtype: int64"
      ]
     },
     "execution_count": 27,
     "metadata": {},
     "output_type": "execute_result"
    }
   ],
   "source": [
    "df.isnull().sum()"
   ]
  },
  {
   "cell_type": "markdown",
   "id": "28474aba-3afb-48f8-8598-accac915d9b0",
   "metadata": {},
   "source": [
    "**13. Replace missing values in Author column with 'Unknown'**"
   ]
  },
  {
   "cell_type": "code",
   "execution_count": 29,
   "id": "4a5c132b-c616-49c6-810e-981e7bbe8f3e",
   "metadata": {},
   "outputs": [],
   "source": [
    "df['Author'] = df['Author'].fillna('Unknown')"
   ]
  },
  {
   "cell_type": "markdown",
   "id": "de678655-4477-4a65-bcc1-a69944c34704",
   "metadata": {},
   "source": [
    "**14. Replace missing values in Language column with the most occuring langauge**"
   ]
  },
  {
   "cell_type": "code",
   "execution_count": 31,
   "id": "635466f6-709e-4b56-955f-70c397b57ed2",
   "metadata": {},
   "outputs": [],
   "source": [
    "df.loc[:, 'Language'] = df['Language'].fillna(df['Language'].mode()[0]) "
   ]
  },
  {
   "cell_type": "markdown",
   "id": "3bd9f5a7-51a9-4873-bd6d-6c5edcbbabad",
   "metadata": {},
   "source": [
    "**15. Replace missing values in Pages column with median and convert data of Pages column type to int64**"
   ]
  },
  {
   "cell_type": "code",
   "execution_count": 33,
   "id": "c3feb94e-51dc-4e82-95ae-e134f4cce9ab",
   "metadata": {},
   "outputs": [],
   "source": [
    "df['Pages'] = df['Pages'].fillna(df['Pages'].median())\n",
    "df['Pages'] = df['Pages'].astype('int64')"
   ]
  },
  {
   "cell_type": "markdown",
   "id": "00b1bb53-2355-42be-906c-d05a5e76ead7",
   "metadata": {},
   "source": [
    "**16. Fill missing values for price with the median price of the same category**"
   ]
  },
  {
   "cell_type": "code",
   "execution_count": 35,
   "id": "2440e937-e898-4ddb-ae43-56abe81d0f5f",
   "metadata": {
    "scrolled": true
   },
   "outputs": [],
   "source": [
    "df['Price'] = df.groupby('Category')['Price'].transform(lambda x: x.fillna(x.median()))"
   ]
  },
  {
   "cell_type": "markdown",
   "id": "aee5e849-a29a-41d2-b737-022d27f28a48",
   "metadata": {},
   "source": [
    "**17. How many unique authors are listed?**"
   ]
  },
  {
   "cell_type": "code",
   "execution_count": 37,
   "id": "587c8bc9-c01d-4cfa-b466-525174b79a2c",
   "metadata": {},
   "outputs": [
    {
     "data": {
      "text/plain": [
       "201"
      ]
     },
     "execution_count": 37,
     "metadata": {},
     "output_type": "execute_result"
    }
   ],
   "source": [
    "df['Author'].nunique()"
   ]
  },
  {
   "cell_type": "markdown",
   "id": "e86db07d-c98a-4a56-bbf3-63ba83640796",
   "metadata": {},
   "source": [
    "**18. What are the top 5 most expensive books?**"
   ]
  },
  {
   "cell_type": "code",
   "execution_count": 39,
   "id": "09770404-61ec-48b5-a7ad-8aeed465dd70",
   "metadata": {},
   "outputs": [
    {
     "data": {
      "text/html": [
       "<div>\n",
       "<style scoped>\n",
       "    .dataframe tbody tr th:only-of-type {\n",
       "        vertical-align: middle;\n",
       "    }\n",
       "\n",
       "    .dataframe tbody tr th {\n",
       "        vertical-align: top;\n",
       "    }\n",
       "\n",
       "    .dataframe thead th {\n",
       "        text-align: right;\n",
       "    }\n",
       "</style>\n",
       "<table border=\"1\" class=\"dataframe\">\n",
       "  <thead>\n",
       "    <tr style=\"text-align: right;\">\n",
       "      <th></th>\n",
       "      <th>Book Name</th>\n",
       "      <th>Price</th>\n",
       "    </tr>\n",
       "  </thead>\n",
       "  <tbody>\n",
       "    <tr>\n",
       "      <th>67</th>\n",
       "      <td>Dungeons &amp; Dragons Core Rulebooks Gift Set (Sp...</td>\n",
       "      <td>17913.0</td>\n",
       "    </tr>\n",
       "    <tr>\n",
       "      <th>222</th>\n",
       "      <td>The CSB Study Bible For Women, Teal Flowers Le...</td>\n",
       "      <td>6416.0</td>\n",
       "    </tr>\n",
       "    <tr>\n",
       "      <th>274</th>\n",
       "      <td>The Woman's Study Bible: New International Ver...</td>\n",
       "      <td>5322.0</td>\n",
       "    </tr>\n",
       "    <tr>\n",
       "      <th>144</th>\n",
       "      <td>Niv, Beautiful Word Bible, Updated Edition, Pe...</td>\n",
       "      <td>5177.0</td>\n",
       "    </tr>\n",
       "    <tr>\n",
       "      <th>266</th>\n",
       "      <td>The Silmarillion [Illustrated Edition]: Illust...</td>\n",
       "      <td>4573.0</td>\n",
       "    </tr>\n",
       "  </tbody>\n",
       "</table>\n",
       "</div>"
      ],
      "text/plain": [
       "                                             Book Name    Price\n",
       "67   Dungeons & Dragons Core Rulebooks Gift Set (Sp...  17913.0\n",
       "222  The CSB Study Bible For Women, Teal Flowers Le...   6416.0\n",
       "274  The Woman's Study Bible: New International Ver...   5322.0\n",
       "144  Niv, Beautiful Word Bible, Updated Edition, Pe...   5177.0\n",
       "266  The Silmarillion [Illustrated Edition]: Illust...   4573.0"
      ]
     },
     "execution_count": 39,
     "metadata": {},
     "output_type": "execute_result"
    }
   ],
   "source": [
    "df[['Book Name', 'Price']].nlargest(5, 'Price')"
   ]
  },
  {
   "cell_type": "markdown",
   "id": "14ca6dfd-6c6c-4338-a61a-cc4b2307df6b",
   "metadata": {},
   "source": [
    "**19. What are the 5 shortest books (based on the number of pages)?**  \n"
   ]
  },
  {
   "cell_type": "code",
   "execution_count": 41,
   "id": "270bb611-8fd8-465d-ae2f-449647b518d6",
   "metadata": {},
   "outputs": [
    {
     "data": {
      "text/html": [
       "<div>\n",
       "<style scoped>\n",
       "    .dataframe tbody tr th:only-of-type {\n",
       "        vertical-align: middle;\n",
       "    }\n",
       "\n",
       "    .dataframe tbody tr th {\n",
       "        vertical-align: top;\n",
       "    }\n",
       "\n",
       "    .dataframe thead th {\n",
       "        text-align: right;\n",
       "    }\n",
       "</style>\n",
       "<table border=\"1\" class=\"dataframe\">\n",
       "  <thead>\n",
       "    <tr style=\"text-align: right;\">\n",
       "      <th></th>\n",
       "      <th>Book Name</th>\n",
       "      <th>Pages</th>\n",
       "    </tr>\n",
       "  </thead>\n",
       "  <tbody>\n",
       "    <tr>\n",
       "      <th>157</th>\n",
       "      <td>Preschool Activity Book: Brain Booster - Logic...</td>\n",
       "      <td>16</td>\n",
       "    </tr>\n",
       "    <tr>\n",
       "      <th>189</th>\n",
       "      <td>Star Light: Enchanting Messages from the Cosmo...</td>\n",
       "      <td>40</td>\n",
       "    </tr>\n",
       "    <tr>\n",
       "      <th>239</th>\n",
       "      <td>The Law</td>\n",
       "      <td>46</td>\n",
       "    </tr>\n",
       "    <tr>\n",
       "      <th>25</th>\n",
       "      <td>As a Man Thinketh [Paperback] James Allen</td>\n",
       "      <td>50</td>\n",
       "    </tr>\n",
       "    <tr>\n",
       "      <th>277</th>\n",
       "      <td>Thera-pets: 64 Emotional Support Animal Cards</td>\n",
       "      <td>64</td>\n",
       "    </tr>\n",
       "  </tbody>\n",
       "</table>\n",
       "</div>"
      ],
      "text/plain": [
       "                                             Book Name  Pages\n",
       "157  Preschool Activity Book: Brain Booster - Logic...     16\n",
       "189  Star Light: Enchanting Messages from the Cosmo...     40\n",
       "239                                            The Law     46\n",
       "25           As a Man Thinketh [Paperback] James Allen     50\n",
       "277      Thera-pets: 64 Emotional Support Animal Cards     64"
      ]
     },
     "execution_count": 41,
     "metadata": {},
     "output_type": "execute_result"
    }
   ],
   "source": [
    "df[['Book Name', 'Pages']].nsmallest(5,'Pages')"
   ]
  },
  {
   "cell_type": "markdown",
   "id": "25896e4f-339c-46f9-ad05-f0ac04d35f67",
   "metadata": {},
   "source": [
    "**20. What is the average number of pages across all books?**\n"
   ]
  },
  {
   "cell_type": "code",
   "execution_count": 43,
   "id": "71db9fce-2610-4ee4-959b-8cc02eba8999",
   "metadata": {},
   "outputs": [
    {
     "data": {
      "text/plain": [
       "316.6276150627615"
      ]
     },
     "execution_count": 43,
     "metadata": {},
     "output_type": "execute_result"
    }
   ],
   "source": [
    "df['Pages'].mean()"
   ]
  },
  {
   "cell_type": "markdown",
   "id": "03a6a6cb-c9e8-41df-a609-df1db0a94e5a",
   "metadata": {},
   "source": [
    "**21. Display the summary statistics for numeric columns**\n",
    "\n"
   ]
  },
  {
   "cell_type": "code",
   "execution_count": 45,
   "id": "ecea85c9-6672-482c-af42-835ead896eb1",
   "metadata": {},
   "outputs": [
    {
     "data": {
      "text/html": [
       "<div>\n",
       "<style scoped>\n",
       "    .dataframe tbody tr th:only-of-type {\n",
       "        vertical-align: middle;\n",
       "    }\n",
       "\n",
       "    .dataframe tbody tr th {\n",
       "        vertical-align: top;\n",
       "    }\n",
       "\n",
       "    .dataframe thead th {\n",
       "        text-align: right;\n",
       "    }\n",
       "</style>\n",
       "<table border=\"1\" class=\"dataframe\">\n",
       "  <thead>\n",
       "    <tr style=\"text-align: right;\">\n",
       "      <th></th>\n",
       "      <th>Pages</th>\n",
       "      <th>Average Rating</th>\n",
       "      <th>Total Ratings</th>\n",
       "      <th>Price</th>\n",
       "    </tr>\n",
       "  </thead>\n",
       "  <tbody>\n",
       "    <tr>\n",
       "      <th>count</th>\n",
       "      <td>239.000000</td>\n",
       "      <td>239.000000</td>\n",
       "      <td>239.000000</td>\n",
       "      <td>239.000000</td>\n",
       "    </tr>\n",
       "    <tr>\n",
       "      <th>mean</th>\n",
       "      <td>316.627615</td>\n",
       "      <td>4.573640</td>\n",
       "      <td>8311.062762</td>\n",
       "      <td>685.401674</td>\n",
       "    </tr>\n",
       "    <tr>\n",
       "      <th>std</th>\n",
       "      <td>290.225136</td>\n",
       "      <td>0.258664</td>\n",
       "      <td>18992.779955</td>\n",
       "      <td>1414.143079</td>\n",
       "    </tr>\n",
       "    <tr>\n",
       "      <th>min</th>\n",
       "      <td>16.000000</td>\n",
       "      <td>3.500000</td>\n",
       "      <td>1.000000</td>\n",
       "      <td>75.000000</td>\n",
       "    </tr>\n",
       "    <tr>\n",
       "      <th>25%</th>\n",
       "      <td>176.000000</td>\n",
       "      <td>4.400000</td>\n",
       "      <td>283.500000</td>\n",
       "      <td>199.000000</td>\n",
       "    </tr>\n",
       "    <tr>\n",
       "      <th>50%</th>\n",
       "      <td>256.000000</td>\n",
       "      <td>4.500000</td>\n",
       "      <td>1658.000000</td>\n",
       "      <td>286.000000</td>\n",
       "    </tr>\n",
       "    <tr>\n",
       "      <th>75%</th>\n",
       "      <td>320.000000</td>\n",
       "      <td>4.750000</td>\n",
       "      <td>5772.500000</td>\n",
       "      <td>545.500000</td>\n",
       "    </tr>\n",
       "    <tr>\n",
       "      <th>max</th>\n",
       "      <td>2240.000000</td>\n",
       "      <td>5.000000</td>\n",
       "      <td>143173.000000</td>\n",
       "      <td>17913.000000</td>\n",
       "    </tr>\n",
       "  </tbody>\n",
       "</table>\n",
       "</div>"
      ],
      "text/plain": [
       "             Pages  Average Rating  Total Ratings         Price\n",
       "count   239.000000      239.000000     239.000000    239.000000\n",
       "mean    316.627615        4.573640    8311.062762    685.401674\n",
       "std     290.225136        0.258664   18992.779955   1414.143079\n",
       "min      16.000000        3.500000       1.000000     75.000000\n",
       "25%     176.000000        4.400000     283.500000    199.000000\n",
       "50%     256.000000        4.500000    1658.000000    286.000000\n",
       "75%     320.000000        4.750000    5772.500000    545.500000\n",
       "max    2240.000000        5.000000  143173.000000  17913.000000"
      ]
     },
     "execution_count": 45,
     "metadata": {},
     "output_type": "execute_result"
    }
   ],
   "source": [
    "df.describe()"
   ]
  },
  {
   "cell_type": "markdown",
   "id": "4ad5b9f4-4b0c-41b5-b372-47f19735c37f",
   "metadata": {},
   "source": [
    "**22. Find the unique values and their counts for the column 'Category', sort by category names**"
   ]
  },
  {
   "cell_type": "code",
   "execution_count": 47,
   "id": "de821ca9-fb87-42a0-9720-5e64a3a16a6d",
   "metadata": {},
   "outputs": [
    {
     "data": {
      "text/plain": [
       "Category\n",
       "Finance                     46\n",
       "Literature                  49\n",
       "Political                   48\n",
       "Religion and Spirtuality    48\n",
       "Self Improvement            48\n",
       "Name: count, dtype: int64"
      ]
     },
     "execution_count": 47,
     "metadata": {},
     "output_type": "execute_result"
    }
   ],
   "source": [
    "df['Category'].value_counts().sort_index()"
   ]
  },
  {
   "cell_type": "markdown",
   "id": "7f96292c-9e45-41f3-9af0-67cc02288085",
   "metadata": {},
   "source": [
    "**23. What are the top 5 languages with the most books listed?**\n"
   ]
  },
  {
   "cell_type": "code",
   "execution_count": 49,
   "id": "2d92c6bb-ae79-44e1-b6dd-716e4c1dc03f",
   "metadata": {},
   "outputs": [
    {
     "data": {
      "text/plain": [
       "Language\n",
       "English      215\n",
       "Hindi         15\n",
       "Telugu         3\n",
       "Malayalam      3\n",
       "Marathi        1\n",
       "Name: count, dtype: int64"
      ]
     },
     "execution_count": 49,
     "metadata": {},
     "output_type": "execute_result"
    }
   ],
   "source": [
    "df['Language'].value_counts().head(5)"
   ]
  },
  {
   "cell_type": "markdown",
   "id": "3c019b62-b6be-4b65-ae91-77fbd8b4a45c",
   "metadata": {},
   "source": [
    "**24. What percentage of books have ratings greater than or equal to 4 stars?**"
   ]
  },
  {
   "cell_type": "code",
   "execution_count": 51,
   "id": "f2e82a6c-4a07-4427-90a3-33857c644eb7",
   "metadata": {},
   "outputs": [
    {
     "data": {
      "text/plain": [
       "98.32635983263597"
      ]
     },
     "execution_count": 51,
     "metadata": {},
     "output_type": "execute_result"
    }
   ],
   "source": [
    "(df[df['Average Rating'] >= 4].shape[0] / df.shape[0]) * 100"
   ]
  },
  {
   "cell_type": "markdown",
   "id": "a98ce2d4-f53d-4c31-a462-2f5d00979614",
   "metadata": {},
   "source": [
    "**25. What is the average price of books and average number of pages across different languages?**"
   ]
  },
  {
   "cell_type": "code",
   "execution_count": 53,
   "id": "1c885669-f3db-4437-9c89-914745325b64",
   "metadata": {},
   "outputs": [
    {
     "data": {
      "text/html": [
       "<div>\n",
       "<style scoped>\n",
       "    .dataframe tbody tr th:only-of-type {\n",
       "        vertical-align: middle;\n",
       "    }\n",
       "\n",
       "    .dataframe tbody tr th {\n",
       "        vertical-align: top;\n",
       "    }\n",
       "\n",
       "    .dataframe thead th {\n",
       "        text-align: right;\n",
       "    }\n",
       "</style>\n",
       "<table border=\"1\" class=\"dataframe\">\n",
       "  <thead>\n",
       "    <tr style=\"text-align: right;\">\n",
       "      <th></th>\n",
       "      <th>Price</th>\n",
       "      <th>Pages</th>\n",
       "    </tr>\n",
       "    <tr>\n",
       "      <th>Language</th>\n",
       "      <th></th>\n",
       "      <th></th>\n",
       "    </tr>\n",
       "  </thead>\n",
       "  <tbody>\n",
       "    <tr>\n",
       "      <th>English</th>\n",
       "      <td>735.902326</td>\n",
       "      <td>321.860465</td>\n",
       "    </tr>\n",
       "    <tr>\n",
       "      <th>Hindi</th>\n",
       "      <td>235.666667</td>\n",
       "      <td>288.133333</td>\n",
       "    </tr>\n",
       "    <tr>\n",
       "      <th>Kannada</th>\n",
       "      <td>153.000000</td>\n",
       "      <td>152.000000</td>\n",
       "    </tr>\n",
       "    <tr>\n",
       "      <th>Malayalam</th>\n",
       "      <td>234.000000</td>\n",
       "      <td>224.000000</td>\n",
       "    </tr>\n",
       "    <tr>\n",
       "      <th>Marathi</th>\n",
       "      <td>250.000000</td>\n",
       "      <td>224.000000</td>\n",
       "    </tr>\n",
       "    <tr>\n",
       "      <th>Tamil</th>\n",
       "      <td>129.000000</td>\n",
       "      <td>224.000000</td>\n",
       "    </tr>\n",
       "    <tr>\n",
       "      <th>Telugu</th>\n",
       "      <td>274.333333</td>\n",
       "      <td>293.333333</td>\n",
       "    </tr>\n",
       "  </tbody>\n",
       "</table>\n",
       "</div>"
      ],
      "text/plain": [
       "                Price       Pages\n",
       "Language                         \n",
       "English    735.902326  321.860465\n",
       "Hindi      235.666667  288.133333\n",
       "Kannada    153.000000  152.000000\n",
       "Malayalam  234.000000  224.000000\n",
       "Marathi    250.000000  224.000000\n",
       "Tamil      129.000000  224.000000\n",
       "Telugu     274.333333  293.333333"
      ]
     },
     "execution_count": 53,
     "metadata": {},
     "output_type": "execute_result"
    }
   ],
   "source": [
    "df.groupby('Language')[['Price', 'Pages']].mean()"
   ]
  },
  {
   "cell_type": "markdown",
   "id": "2886e848-7d31-4a04-abed-e5fec684d336",
   "metadata": {},
   "source": [
    "**26. What is the average and maximum price of books, along with the average number of pages, across different languages?**"
   ]
  },
  {
   "cell_type": "markdown",
   "id": "a4e08136-c3f9-4749-8cda-67c85f2a3225",
   "metadata": {},
   "source": [
    "*Group the data by 'Language' and calculate the mean and maximum price, as well as the mean number of pages for each language.Use agg()*"
   ]
  },
  {
   "cell_type": "code",
   "execution_count": 56,
   "id": "78b425d2-d5dd-4834-9150-b1894cab12ad",
   "metadata": {},
   "outputs": [
    {
     "data": {
      "text/html": [
       "<div>\n",
       "<style scoped>\n",
       "    .dataframe tbody tr th:only-of-type {\n",
       "        vertical-align: middle;\n",
       "    }\n",
       "\n",
       "    .dataframe tbody tr th {\n",
       "        vertical-align: top;\n",
       "    }\n",
       "\n",
       "    .dataframe thead tr th {\n",
       "        text-align: left;\n",
       "    }\n",
       "\n",
       "    .dataframe thead tr:last-of-type th {\n",
       "        text-align: right;\n",
       "    }\n",
       "</style>\n",
       "<table border=\"1\" class=\"dataframe\">\n",
       "  <thead>\n",
       "    <tr>\n",
       "      <th></th>\n",
       "      <th colspan=\"2\" halign=\"left\">Price</th>\n",
       "      <th>Pages</th>\n",
       "    </tr>\n",
       "    <tr>\n",
       "      <th></th>\n",
       "      <th>mean</th>\n",
       "      <th>max</th>\n",
       "      <th>mean</th>\n",
       "    </tr>\n",
       "    <tr>\n",
       "      <th>Language</th>\n",
       "      <th></th>\n",
       "      <th></th>\n",
       "      <th></th>\n",
       "    </tr>\n",
       "  </thead>\n",
       "  <tbody>\n",
       "    <tr>\n",
       "      <th>English</th>\n",
       "      <td>735.902326</td>\n",
       "      <td>17913.0</td>\n",
       "      <td>321.860465</td>\n",
       "    </tr>\n",
       "    <tr>\n",
       "      <th>Hindi</th>\n",
       "      <td>235.666667</td>\n",
       "      <td>499.0</td>\n",
       "      <td>288.133333</td>\n",
       "    </tr>\n",
       "    <tr>\n",
       "      <th>Kannada</th>\n",
       "      <td>153.000000</td>\n",
       "      <td>153.0</td>\n",
       "      <td>152.000000</td>\n",
       "    </tr>\n",
       "    <tr>\n",
       "      <th>Malayalam</th>\n",
       "      <td>234.000000</td>\n",
       "      <td>288.0</td>\n",
       "      <td>224.000000</td>\n",
       "    </tr>\n",
       "    <tr>\n",
       "      <th>Marathi</th>\n",
       "      <td>250.000000</td>\n",
       "      <td>250.0</td>\n",
       "      <td>224.000000</td>\n",
       "    </tr>\n",
       "    <tr>\n",
       "      <th>Tamil</th>\n",
       "      <td>129.000000</td>\n",
       "      <td>129.0</td>\n",
       "      <td>224.000000</td>\n",
       "    </tr>\n",
       "    <tr>\n",
       "      <th>Telugu</th>\n",
       "      <td>274.333333</td>\n",
       "      <td>329.0</td>\n",
       "      <td>293.333333</td>\n",
       "    </tr>\n",
       "  </tbody>\n",
       "</table>\n",
       "</div>"
      ],
      "text/plain": [
       "                Price                Pages\n",
       "                 mean      max        mean\n",
       "Language                                  \n",
       "English    735.902326  17913.0  321.860465\n",
       "Hindi      235.666667    499.0  288.133333\n",
       "Kannada    153.000000    153.0  152.000000\n",
       "Malayalam  234.000000    288.0  224.000000\n",
       "Marathi    250.000000    250.0  224.000000\n",
       "Tamil      129.000000    129.0  224.000000\n",
       "Telugu     274.333333    329.0  293.333333"
      ]
     },
     "execution_count": 56,
     "metadata": {},
     "output_type": "execute_result"
    }
   ],
   "source": [
    "df.groupby('Language').agg({'Price': ['mean', 'max'], 'Pages': 'mean'})"
   ]
  },
  {
   "cell_type": "markdown",
   "id": "c9a7d5e4-dc43-424c-8bd3-817b470d3348",
   "metadata": {},
   "source": [
    "**27. How do the average price and average number of pages differ across various languages and categories**"
   ]
  },
  {
   "cell_type": "markdown",
   "id": "67543d19-02e7-47c8-ad80-491440941dce",
   "metadata": {},
   "source": [
    "*Group by 'Language' and 'Category' and calculate the mean of 'Price' and 'Pages'*"
   ]
  },
  {
   "cell_type": "code",
   "execution_count": 59,
   "id": "4c864a77-768a-47f5-81a5-3738397b03c1",
   "metadata": {},
   "outputs": [
    {
     "data": {
      "text/html": [
       "<div>\n",
       "<style scoped>\n",
       "    .dataframe tbody tr th:only-of-type {\n",
       "        vertical-align: middle;\n",
       "    }\n",
       "\n",
       "    .dataframe tbody tr th {\n",
       "        vertical-align: top;\n",
       "    }\n",
       "\n",
       "    .dataframe thead th {\n",
       "        text-align: right;\n",
       "    }\n",
       "</style>\n",
       "<table border=\"1\" class=\"dataframe\">\n",
       "  <thead>\n",
       "    <tr style=\"text-align: right;\">\n",
       "      <th></th>\n",
       "      <th></th>\n",
       "      <th>Price</th>\n",
       "      <th>Pages</th>\n",
       "    </tr>\n",
       "    <tr>\n",
       "      <th>Language</th>\n",
       "      <th>Category</th>\n",
       "      <th></th>\n",
       "      <th></th>\n",
       "    </tr>\n",
       "  </thead>\n",
       "  <tbody>\n",
       "    <tr>\n",
       "      <th rowspan=\"5\" valign=\"top\">English</th>\n",
       "      <th>Finance</th>\n",
       "      <td>383.947368</td>\n",
       "      <td>251.921053</td>\n",
       "    </tr>\n",
       "    <tr>\n",
       "      <th>Literature</th>\n",
       "      <td>270.432432</td>\n",
       "      <td>397.783784</td>\n",
       "    </tr>\n",
       "    <tr>\n",
       "      <th>Political</th>\n",
       "      <td>380.250000</td>\n",
       "      <td>314.295455</td>\n",
       "    </tr>\n",
       "    <tr>\n",
       "      <th>Religion and Spirtuality</th>\n",
       "      <td>2200.333333</td>\n",
       "      <td>396.145833</td>\n",
       "    </tr>\n",
       "    <tr>\n",
       "      <th>Self Improvement</th>\n",
       "      <td>234.916667</td>\n",
       "      <td>251.354167</td>\n",
       "    </tr>\n",
       "    <tr>\n",
       "      <th rowspan=\"3\" valign=\"top\">Hindi</th>\n",
       "      <th>Finance</th>\n",
       "      <td>227.800000</td>\n",
       "      <td>239.600000</td>\n",
       "    </tr>\n",
       "    <tr>\n",
       "      <th>Literature</th>\n",
       "      <td>207.000000</td>\n",
       "      <td>290.333333</td>\n",
       "    </tr>\n",
       "    <tr>\n",
       "      <th>Political</th>\n",
       "      <td>288.500000</td>\n",
       "      <td>345.500000</td>\n",
       "    </tr>\n",
       "    <tr>\n",
       "      <th>Kannada</th>\n",
       "      <th>Finance</th>\n",
       "      <td>153.000000</td>\n",
       "      <td>152.000000</td>\n",
       "    </tr>\n",
       "    <tr>\n",
       "      <th rowspan=\"2\" valign=\"top\">Malayalam</th>\n",
       "      <th>Finance</th>\n",
       "      <td>169.000000</td>\n",
       "      <td>288.000000</td>\n",
       "    </tr>\n",
       "    <tr>\n",
       "      <th>Literature</th>\n",
       "      <td>266.500000</td>\n",
       "      <td>192.000000</td>\n",
       "    </tr>\n",
       "    <tr>\n",
       "      <th>Marathi</th>\n",
       "      <th>Literature</th>\n",
       "      <td>250.000000</td>\n",
       "      <td>224.000000</td>\n",
       "    </tr>\n",
       "    <tr>\n",
       "      <th>Tamil</th>\n",
       "      <th>Finance</th>\n",
       "      <td>129.000000</td>\n",
       "      <td>224.000000</td>\n",
       "    </tr>\n",
       "    <tr>\n",
       "      <th>Telugu</th>\n",
       "      <th>Literature</th>\n",
       "      <td>274.333333</td>\n",
       "      <td>293.333333</td>\n",
       "    </tr>\n",
       "  </tbody>\n",
       "</table>\n",
       "</div>"
      ],
      "text/plain": [
       "                                          Price       Pages\n",
       "Language  Category                                         \n",
       "English   Finance                    383.947368  251.921053\n",
       "          Literature                 270.432432  397.783784\n",
       "          Political                  380.250000  314.295455\n",
       "          Religion and Spirtuality  2200.333333  396.145833\n",
       "          Self Improvement           234.916667  251.354167\n",
       "Hindi     Finance                    227.800000  239.600000\n",
       "          Literature                 207.000000  290.333333\n",
       "          Political                  288.500000  345.500000\n",
       "Kannada   Finance                    153.000000  152.000000\n",
       "Malayalam Finance                    169.000000  288.000000\n",
       "          Literature                 266.500000  192.000000\n",
       "Marathi   Literature                 250.000000  224.000000\n",
       "Tamil     Finance                    129.000000  224.000000\n",
       "Telugu    Literature                 274.333333  293.333333"
      ]
     },
     "execution_count": 59,
     "metadata": {},
     "output_type": "execute_result"
    }
   ],
   "source": [
    "grouped = df.groupby(['Language', 'Category'])[['Price', 'Pages']].mean()\n",
    "grouped"
   ]
  },
  {
   "cell_type": "markdown",
   "id": "9f9a1d8a-c556-4636-a40a-5f96011fda82",
   "metadata": {},
   "source": [
    "**28. Extract the data for the 'English' language from the previously grouped DataFrame.**"
   ]
  },
  {
   "cell_type": "code",
   "execution_count": 61,
   "id": "22e698f5-8334-416d-ac66-80e492627b88",
   "metadata": {},
   "outputs": [
    {
     "data": {
      "text/html": [
       "<div>\n",
       "<style scoped>\n",
       "    .dataframe tbody tr th:only-of-type {\n",
       "        vertical-align: middle;\n",
       "    }\n",
       "\n",
       "    .dataframe tbody tr th {\n",
       "        vertical-align: top;\n",
       "    }\n",
       "\n",
       "    .dataframe thead th {\n",
       "        text-align: right;\n",
       "    }\n",
       "</style>\n",
       "<table border=\"1\" class=\"dataframe\">\n",
       "  <thead>\n",
       "    <tr style=\"text-align: right;\">\n",
       "      <th></th>\n",
       "      <th>Price</th>\n",
       "      <th>Pages</th>\n",
       "    </tr>\n",
       "    <tr>\n",
       "      <th>Category</th>\n",
       "      <th></th>\n",
       "      <th></th>\n",
       "    </tr>\n",
       "  </thead>\n",
       "  <tbody>\n",
       "    <tr>\n",
       "      <th>Finance</th>\n",
       "      <td>383.947368</td>\n",
       "      <td>251.921053</td>\n",
       "    </tr>\n",
       "    <tr>\n",
       "      <th>Literature</th>\n",
       "      <td>270.432432</td>\n",
       "      <td>397.783784</td>\n",
       "    </tr>\n",
       "    <tr>\n",
       "      <th>Political</th>\n",
       "      <td>380.250000</td>\n",
       "      <td>314.295455</td>\n",
       "    </tr>\n",
       "    <tr>\n",
       "      <th>Religion and Spirtuality</th>\n",
       "      <td>2200.333333</td>\n",
       "      <td>396.145833</td>\n",
       "    </tr>\n",
       "    <tr>\n",
       "      <th>Self Improvement</th>\n",
       "      <td>234.916667</td>\n",
       "      <td>251.354167</td>\n",
       "    </tr>\n",
       "  </tbody>\n",
       "</table>\n",
       "</div>"
      ],
      "text/plain": [
       "                                Price       Pages\n",
       "Category                                         \n",
       "Finance                    383.947368  251.921053\n",
       "Literature                 270.432432  397.783784\n",
       "Political                  380.250000  314.295455\n",
       "Religion and Spirtuality  2200.333333  396.145833\n",
       "Self Improvement           234.916667  251.354167"
      ]
     },
     "execution_count": 61,
     "metadata": {},
     "output_type": "execute_result"
    }
   ],
   "source": [
    "grouped.loc['English']"
   ]
  },
  {
   "cell_type": "markdown",
   "id": "6a926c2d-fb37-4e4b-b34b-43817034935a",
   "metadata": {},
   "source": [
    "**29. Extract the data for the combination of 'English' language and 'Finance' category from the previously grouped DataFrame.**"
   ]
  },
  {
   "cell_type": "code",
   "execution_count": 63,
   "id": "f7c2716d-d3de-4675-8c80-d95bd470026c",
   "metadata": {},
   "outputs": [
    {
     "data": {
      "text/plain": [
       "Price    383.947368\n",
       "Pages    251.921053\n",
       "Name: (English, Finance), dtype: float64"
      ]
     },
     "execution_count": 63,
     "metadata": {},
     "output_type": "execute_result"
    }
   ],
   "source": [
    "grouped.loc[('English', 'Finance')]"
   ]
  },
  {
   "cell_type": "markdown",
   "id": "8728d306-ad3e-4804-8121-f151b112a618",
   "metadata": {},
   "source": [
    "**30. Which price range has the most number of books?**"
   ]
  },
  {
   "cell_type": "code",
   "execution_count": 65,
   "id": "1b161b32-9865-4af7-b6d4-03a08a3b60ff",
   "metadata": {},
   "outputs": [
    {
     "data": {
      "text/plain": [
       "Price\n",
       "(57.162, 3642.6]      232\n",
       "(3642.6, 7210.2]        6\n",
       "(14345.4, 17913.0]      1\n",
       "(7210.2, 10777.8]       0\n",
       "(10777.8, 14345.4]      0\n",
       "Name: count, dtype: int64"
      ]
     },
     "execution_count": 65,
     "metadata": {},
     "output_type": "execute_result"
    }
   ],
   "source": [
    "pd.cut(df['Price'], bins=5).value_counts()"
   ]
  },
  {
   "cell_type": "markdown",
   "id": "d1d6e399-fc64-4998-927b-b961e0eea2d1",
   "metadata": {},
   "source": [
    "**31. How many books have received more than 1000 ratings?**\n"
   ]
  },
  {
   "cell_type": "code",
   "execution_count": 67,
   "id": "c27a3a35-e6b3-4ffa-b250-95d2404d467d",
   "metadata": {},
   "outputs": [
    {
     "data": {
      "text/plain": [
       "141"
      ]
     },
     "execution_count": 67,
     "metadata": {},
     "output_type": "execute_result"
    }
   ],
   "source": [
    "df[df['Total Ratings'] > 1000].shape[0]"
   ]
  },
  {
   "cell_type": "markdown",
   "id": "19ea4c87-5e3a-4700-adf6-d046f60144d3",
   "metadata": {},
   "source": [
    "**32. Which book(s) has the highest rating?**\n"
   ]
  },
  {
   "cell_type": "code",
   "execution_count": 69,
   "id": "90a564f4-5b24-4912-b346-34a29d2d35ec",
   "metadata": {},
   "outputs": [
    {
     "data": {
      "text/html": [
       "<div>\n",
       "<style scoped>\n",
       "    .dataframe tbody tr th:only-of-type {\n",
       "        vertical-align: middle;\n",
       "    }\n",
       "\n",
       "    .dataframe tbody tr th {\n",
       "        vertical-align: top;\n",
       "    }\n",
       "\n",
       "    .dataframe thead th {\n",
       "        text-align: right;\n",
       "    }\n",
       "</style>\n",
       "<table border=\"1\" class=\"dataframe\">\n",
       "  <thead>\n",
       "    <tr style=\"text-align: right;\">\n",
       "      <th></th>\n",
       "      <th>Book Name</th>\n",
       "      <th>Average Rating</th>\n",
       "    </tr>\n",
       "  </thead>\n",
       "  <tbody>\n",
       "    <tr>\n",
       "      <th>46</th>\n",
       "      <td>Can Conflict End?</td>\n",
       "      <td>5.0</td>\n",
       "    </tr>\n",
       "    <tr>\n",
       "      <th>48</th>\n",
       "      <td>Caste Away</td>\n",
       "      <td>5.0</td>\n",
       "    </tr>\n",
       "    <tr>\n",
       "      <th>60</th>\n",
       "      <td>Discovering Daniel: Finding Our Hope in God's ...</td>\n",
       "      <td>5.0</td>\n",
       "    </tr>\n",
       "    <tr>\n",
       "      <th>77</th>\n",
       "      <td>Giving Offence: 0 (Manifestos for the 21st Cen...</td>\n",
       "      <td>5.0</td>\n",
       "    </tr>\n",
       "    <tr>\n",
       "      <th>85</th>\n",
       "      <td>Herbal Formularies for Health Professionals, V...</td>\n",
       "      <td>5.0</td>\n",
       "    </tr>\n",
       "    <tr>\n",
       "      <th>92</th>\n",
       "      <td>How To Make Money With Breakout Trading (Hindi)</td>\n",
       "      <td>5.0</td>\n",
       "    </tr>\n",
       "    <tr>\n",
       "      <th>97</th>\n",
       "      <td>How to Stop Worrying and Start Living (Telugu)</td>\n",
       "      <td>5.0</td>\n",
       "    </tr>\n",
       "    <tr>\n",
       "      <th>116</th>\n",
       "      <td>Judgement Day: Deeds That Light the Way</td>\n",
       "      <td>5.0</td>\n",
       "    </tr>\n",
       "    <tr>\n",
       "      <th>149</th>\n",
       "      <td>Passive Income Discovery: A Complete Guide to ...</td>\n",
       "      <td>5.0</td>\n",
       "    </tr>\n",
       "    <tr>\n",
       "      <th>188</th>\n",
       "      <td>Srila Prabhupada-lilamrta, volume 1</td>\n",
       "      <td>5.0</td>\n",
       "    </tr>\n",
       "    <tr>\n",
       "      <th>189</th>\n",
       "      <td>Star Light: Enchanting Messages from the Cosmo...</td>\n",
       "      <td>5.0</td>\n",
       "    </tr>\n",
       "    <tr>\n",
       "      <th>215</th>\n",
       "      <td>The Collaboration Book: 41 Ideas for Working B...</td>\n",
       "      <td>5.0</td>\n",
       "    </tr>\n",
       "    <tr>\n",
       "      <th>229</th>\n",
       "      <td>The Holy Word for Morning Revival - Knowing, E...</td>\n",
       "      <td>5.0</td>\n",
       "    </tr>\n",
       "    <tr>\n",
       "      <th>275</th>\n",
       "      <td>The Year of the Bride: Supernatural Strategy f...</td>\n",
       "      <td>5.0</td>\n",
       "    </tr>\n",
       "    <tr>\n",
       "      <th>276</th>\n",
       "      <td>The Zen Monk and the Blossoming Lotus Flower: ...</td>\n",
       "      <td>5.0</td>\n",
       "    </tr>\n",
       "    <tr>\n",
       "      <th>309</th>\n",
       "      <td>Wonder Doodles: The Little Book of Encourageme...</td>\n",
       "      <td>5.0</td>\n",
       "    </tr>\n",
       "  </tbody>\n",
       "</table>\n",
       "</div>"
      ],
      "text/plain": [
       "                                             Book Name  Average Rating\n",
       "46                                   Can Conflict End?             5.0\n",
       "48                                          Caste Away             5.0\n",
       "60   Discovering Daniel: Finding Our Hope in God's ...             5.0\n",
       "77   Giving Offence: 0 (Manifestos for the 21st Cen...             5.0\n",
       "85   Herbal Formularies for Health Professionals, V...             5.0\n",
       "92     How To Make Money With Breakout Trading (Hindi)             5.0\n",
       "97      How to Stop Worrying and Start Living (Telugu)             5.0\n",
       "116            Judgement Day: Deeds That Light the Way             5.0\n",
       "149  Passive Income Discovery: A Complete Guide to ...             5.0\n",
       "188                Srila Prabhupada-lilamrta, volume 1             5.0\n",
       "189  Star Light: Enchanting Messages from the Cosmo...             5.0\n",
       "215  The Collaboration Book: 41 Ideas for Working B...             5.0\n",
       "229  The Holy Word for Morning Revival - Knowing, E...             5.0\n",
       "275  The Year of the Bride: Supernatural Strategy f...             5.0\n",
       "276  The Zen Monk and the Blossoming Lotus Flower: ...             5.0\n",
       "309  Wonder Doodles: The Little Book of Encourageme...             5.0"
      ]
     },
     "execution_count": 69,
     "metadata": {},
     "output_type": "execute_result"
    }
   ],
   "source": [
    "df[df['Average Rating'] == df['Average Rating'].max()][['Book Name', 'Average Rating']]"
   ]
  },
  {
   "cell_type": "markdown",
   "id": "3079c733-dd5b-45f7-bf78-9e995bfd7ef9",
   "metadata": {},
   "source": [
    "**33. What is the average rating across different languages?**"
   ]
  },
  {
   "cell_type": "code",
   "execution_count": 71,
   "id": "9a0b33a0-db8e-4d8d-96d9-11b52c4daeb8",
   "metadata": {},
   "outputs": [
    {
     "data": {
      "text/plain": [
       "Language\n",
       "Telugu       4.733333\n",
       "Kannada      4.600000\n",
       "English      4.592558\n",
       "Hindi        4.400000\n",
       "Marathi      4.400000\n",
       "Tamil        4.200000\n",
       "Malayalam    4.100000\n",
       "Name: Average Rating, dtype: float64"
      ]
     },
     "execution_count": 71,
     "metadata": {},
     "output_type": "execute_result"
    }
   ],
   "source": [
    "df.groupby('Language')['Average Rating'].mean().sort_values(ascending=False)"
   ]
  },
  {
   "cell_type": "markdown",
   "id": "1c4d0417-9474-460c-84bc-c691812b2807",
   "metadata": {},
   "source": [
    "**34. Which authors have the highest average book ratings?**\n"
   ]
  },
  {
   "cell_type": "code",
   "execution_count": 73,
   "id": "05f516b6-bdb1-4eef-b540-4ff79f869bc7",
   "metadata": {},
   "outputs": [
    {
     "data": {
      "text/plain": [
       "Author\n",
       "Amir Tsarfati          5.0\n",
       "Dr. Jill Stansbury     5.0\n",
       "Hosa  Smith-Zen        5.0\n",
       "Indrazith Santharaj    5.0\n",
       "J. Krishnamurti        5.0\n",
       "Jay Sandron            5.0\n",
       "Jessica Le             5.0\n",
       "Joanne Shi             5.0\n",
       "Martin Rowson          5.0\n",
       "Na. Vanamamalai        5.0\n",
       "Name: Average Rating, dtype: float64"
      ]
     },
     "execution_count": 73,
     "metadata": {},
     "output_type": "execute_result"
    }
   ],
   "source": [
    "df.groupby('Author')['Average Rating'].mean().nlargest(10)"
   ]
  },
  {
   "cell_type": "markdown",
   "id": "6667d8fe-ce24-4623-a6c3-534f712cd528",
   "metadata": {},
   "source": [
    "**35. Display the longest book(max pages) written by each author.  Sort the result by Pages in descending order**"
   ]
  },
  {
   "cell_type": "code",
   "execution_count": 75,
   "id": "15448fca-2cfe-4fcb-9217-d57bdcd9a7f6",
   "metadata": {},
   "outputs": [
    {
     "data": {
      "text/html": [
       "<div>\n",
       "<style scoped>\n",
       "    .dataframe tbody tr th:only-of-type {\n",
       "        vertical-align: middle;\n",
       "    }\n",
       "\n",
       "    .dataframe tbody tr th {\n",
       "        vertical-align: top;\n",
       "    }\n",
       "\n",
       "    .dataframe thead th {\n",
       "        text-align: right;\n",
       "    }\n",
       "</style>\n",
       "<table border=\"1\" class=\"dataframe\">\n",
       "  <thead>\n",
       "    <tr style=\"text-align: right;\">\n",
       "      <th></th>\n",
       "      <th>Author</th>\n",
       "      <th>Book Name</th>\n",
       "      <th>Pages</th>\n",
       "    </tr>\n",
       "  </thead>\n",
       "  <tbody>\n",
       "    <tr>\n",
       "      <th>222</th>\n",
       "      <td>CSB Bibles by Holman CSB Bibles by Holman</td>\n",
       "      <td>The CSB Study Bible For Women, Teal Flowers Le...</td>\n",
       "      <td>2240</td>\n",
       "    </tr>\n",
       "    <tr>\n",
       "      <th>274</th>\n",
       "      <td>Dorothy Kelley Patterson</td>\n",
       "      <td>The Woman's Study Bible: New International Ver...</td>\n",
       "      <td>2080</td>\n",
       "    </tr>\n",
       "    <tr>\n",
       "      <th>144</th>\n",
       "      <td>Zondervan Publishing House</td>\n",
       "      <td>Niv, Beautiful Word Bible, Updated Edition, Pe...</td>\n",
       "      <td>1666</td>\n",
       "    </tr>\n",
       "    <tr>\n",
       "      <th>289</th>\n",
       "      <td>Various</td>\n",
       "      <td>Top 50 World�s Greatest Short Stories, Speeche...</td>\n",
       "      <td>1536</td>\n",
       "    </tr>\n",
       "    <tr>\n",
       "      <th>82</th>\n",
       "      <td>Unknown</td>\n",
       "      <td>Greatest Love Stories of All Time Box Set of 4...</td>\n",
       "      <td>1448</td>\n",
       "    </tr>\n",
       "    <tr>\n",
       "      <th>...</th>\n",
       "      <td>...</td>\n",
       "      <td>...</td>\n",
       "      <td>...</td>\n",
       "    </tr>\n",
       "    <tr>\n",
       "      <th>298</th>\n",
       "      <td>Maple Press</td>\n",
       "      <td>Vikram and Betaal (Illustrated) - Story Book f...</td>\n",
       "      <td>72</td>\n",
       "    </tr>\n",
       "    <tr>\n",
       "      <th>277</th>\n",
       "      <td>Kate Allan</td>\n",
       "      <td>Thera-pets: 64 Emotional Support Animal Cards</td>\n",
       "      <td>64</td>\n",
       "    </tr>\n",
       "    <tr>\n",
       "      <th>239</th>\n",
       "      <td>Tony Darnell Frederic Bastiat</td>\n",
       "      <td>The Law</td>\n",
       "      <td>46</td>\n",
       "    </tr>\n",
       "    <tr>\n",
       "      <th>189</th>\n",
       "      <td>Jessica Le</td>\n",
       "      <td>Star Light: Enchanting Messages from the Cosmo...</td>\n",
       "      <td>40</td>\n",
       "    </tr>\n",
       "    <tr>\n",
       "      <th>157</th>\n",
       "      <td>Wonder House Books</td>\n",
       "      <td>Preschool Activity Book: Brain Booster - Logic...</td>\n",
       "      <td>16</td>\n",
       "    </tr>\n",
       "  </tbody>\n",
       "</table>\n",
       "<p>201 rows × 3 columns</p>\n",
       "</div>"
      ],
      "text/plain": [
       "                                        Author  \\\n",
       "222  CSB Bibles by Holman CSB Bibles by Holman   \n",
       "274                   Dorothy Kelley Patterson   \n",
       "144                 Zondervan Publishing House   \n",
       "289                                    Various   \n",
       "82                                     Unknown   \n",
       "..                                         ...   \n",
       "298                                Maple Press   \n",
       "277                                 Kate Allan   \n",
       "239              Tony Darnell Frederic Bastiat   \n",
       "189                                 Jessica Le   \n",
       "157                         Wonder House Books   \n",
       "\n",
       "                                             Book Name  Pages  \n",
       "222  The CSB Study Bible For Women, Teal Flowers Le...   2240  \n",
       "274  The Woman's Study Bible: New International Ver...   2080  \n",
       "144  Niv, Beautiful Word Bible, Updated Edition, Pe...   1666  \n",
       "289  Top 50 World�s Greatest Short Stories, Speeche...   1536  \n",
       "82   Greatest Love Stories of All Time Box Set of 4...   1448  \n",
       "..                                                 ...    ...  \n",
       "298  Vikram and Betaal (Illustrated) - Story Book f...     72  \n",
       "277      Thera-pets: 64 Emotional Support Animal Cards     64  \n",
       "239                                            The Law     46  \n",
       "189  Star Light: Enchanting Messages from the Cosmo...     40  \n",
       "157  Preschool Activity Book: Brain Booster - Logic...     16  \n",
       "\n",
       "[201 rows x 3 columns]"
      ]
     },
     "execution_count": 75,
     "metadata": {},
     "output_type": "execute_result"
    }
   ],
   "source": [
    "longest_books = df.loc[df.groupby('Author')['Pages'].idxmax()][['Author', 'Book Name', 'Pages']]\n",
    "longest_books.sort_values(by='Pages', ascending=False)"
   ]
  },
  {
   "cell_type": "markdown",
   "id": "5a4e966b-fd27-4e2d-b79d-3baabd752192",
   "metadata": {},
   "source": [
    "**36. Display the total number of ratings received by each author.**\n",
    "\n"
   ]
  },
  {
   "cell_type": "code",
   "execution_count": 77,
   "id": "6b9403b4-bcab-4ae3-9f20-cea8eef11102",
   "metadata": {},
   "outputs": [
    {
     "data": {
      "text/plain": [
       "Author\n",
       "George Orwell          285670\n",
       "Victor E. Frankl       171856\n",
       "Mark Manson            143173\n",
       "James Clear             93585\n",
       "Robin Sharma            86609\n",
       "                        ...  \n",
       "J. Krishnamurti             4\n",
       "Na. Vanamamalai             2\n",
       "Jay Sandron                 1\n",
       "Indrazith Santharaj         1\n",
       "Martin Rowson               1\n",
       "Name: Total Ratings, Length: 201, dtype: int64"
      ]
     },
     "execution_count": 77,
     "metadata": {},
     "output_type": "execute_result"
    }
   ],
   "source": [
    "df.groupby('Author')['Total Ratings'].sum().sort_values(ascending = False)"
   ]
  },
  {
   "cell_type": "markdown",
   "id": "da87c12b-f885-4eca-97fd-7848c115fa2f",
   "metadata": {},
   "source": [
    "**37. Find top 5 and bottom 5 authors based on total number of ratings received**"
   ]
  },
  {
   "cell_type": "code",
   "execution_count": 79,
   "id": "25426259-feab-42a6-9490-47ac5afaf6d1",
   "metadata": {},
   "outputs": [
    {
     "data": {
      "text/plain": [
       "Author\n",
       "George Orwell       285670\n",
       "Victor E. Frankl    171856\n",
       "Mark Manson         143173\n",
       "James Clear          93585\n",
       "Robin Sharma         86609\n",
       "Name: Total Ratings, dtype: int64"
      ]
     },
     "execution_count": 79,
     "metadata": {},
     "output_type": "execute_result"
    }
   ],
   "source": [
    "df.groupby('Author')['Total Ratings'].sum().nlargest(5)"
   ]
  },
  {
   "cell_type": "code",
   "execution_count": 80,
   "id": "8ff4c6d7-da82-4b7e-93f8-a0530c095f56",
   "metadata": {},
   "outputs": [
    {
     "data": {
      "text/plain": [
       "Author\n",
       "Indrazith Santharaj    1\n",
       "Jay Sandron            1\n",
       "Martin Rowson          1\n",
       "Na. Vanamamalai        2\n",
       "J. Krishnamurti        4\n",
       "Name: Total Ratings, dtype: int64"
      ]
     },
     "execution_count": 80,
     "metadata": {},
     "output_type": "execute_result"
    }
   ],
   "source": [
    "df.groupby('Author')['Total Ratings'].sum().nsmallest(5)"
   ]
  },
  {
   "cell_type": "markdown",
   "id": "eb86e4e8-2c77-46eb-b6b3-9d0193bd0754",
   "metadata": {},
   "source": [
    "**38. Find the top 10 books with the highest number of total ratings.**\n"
   ]
  },
  {
   "cell_type": "code",
   "execution_count": 82,
   "id": "6397f121-b11f-4935-a263-e191a7adc671",
   "metadata": {},
   "outputs": [
    {
     "data": {
      "text/html": [
       "<div>\n",
       "<style scoped>\n",
       "    .dataframe tbody tr th:only-of-type {\n",
       "        vertical-align: middle;\n",
       "    }\n",
       "\n",
       "    .dataframe tbody tr th {\n",
       "        vertical-align: top;\n",
       "    }\n",
       "\n",
       "    .dataframe thead th {\n",
       "        text-align: right;\n",
       "    }\n",
       "</style>\n",
       "<table border=\"1\" class=\"dataframe\">\n",
       "  <thead>\n",
       "    <tr style=\"text-align: right;\">\n",
       "      <th></th>\n",
       "      <th>Book Name</th>\n",
       "      <th>Total Ratings</th>\n",
       "    </tr>\n",
       "  </thead>\n",
       "  <tbody>\n",
       "    <tr>\n",
       "      <th>270</th>\n",
       "      <td>The Subtle Art of Not Giving A F*ck : A Counte...</td>\n",
       "      <td>143173</td>\n",
       "    </tr>\n",
       "    <tr>\n",
       "      <th>1</th>\n",
       "      <td>1984 [Paperback] George Orwell</td>\n",
       "      <td>126238</td>\n",
       "    </tr>\n",
       "    <tr>\n",
       "      <th>28</th>\n",
       "      <td>Atomic Habits : the life-changing million-copy...</td>\n",
       "      <td>93585</td>\n",
       "    </tr>\n",
       "    <tr>\n",
       "      <th>130</th>\n",
       "      <td>Man's Search For Meaning: The classic tribute ...</td>\n",
       "      <td>85928</td>\n",
       "    </tr>\n",
       "    <tr>\n",
       "      <th>131</th>\n",
       "      <td>Man's Search For Meaning: The classic tribute ...</td>\n",
       "      <td>85928</td>\n",
       "    </tr>\n",
       "    <tr>\n",
       "      <th>18</th>\n",
       "      <td>Animal Farm</td>\n",
       "      <td>79675</td>\n",
       "    </tr>\n",
       "    <tr>\n",
       "      <th>17</th>\n",
       "      <td>Animal Farm</td>\n",
       "      <td>79674</td>\n",
       "    </tr>\n",
       "    <tr>\n",
       "      <th>259</th>\n",
       "      <td>The Psychology of Money</td>\n",
       "      <td>62884</td>\n",
       "    </tr>\n",
       "    <tr>\n",
       "      <th>107</th>\n",
       "      <td>Ikigai</td>\n",
       "      <td>54433</td>\n",
       "    </tr>\n",
       "    <tr>\n",
       "      <th>225</th>\n",
       "      <td>The Good Girl's Guide to Murder: Book 1 (A Goo...</td>\n",
       "      <td>52516</td>\n",
       "    </tr>\n",
       "  </tbody>\n",
       "</table>\n",
       "</div>"
      ],
      "text/plain": [
       "                                             Book Name  Total Ratings\n",
       "270  The Subtle Art of Not Giving A F*ck : A Counte...         143173\n",
       "1                       1984 [Paperback] George Orwell         126238\n",
       "28   Atomic Habits : the life-changing million-copy...          93585\n",
       "130  Man's Search For Meaning: The classic tribute ...          85928\n",
       "131  Man's Search For Meaning: The classic tribute ...          85928\n",
       "18                                         Animal Farm          79675\n",
       "17                                         Animal Farm          79674\n",
       "259                            The Psychology of Money          62884\n",
       "107                                             Ikigai          54433\n",
       "225  The Good Girl's Guide to Murder: Book 1 (A Goo...          52516"
      ]
     },
     "execution_count": 82,
     "metadata": {},
     "output_type": "execute_result"
    }
   ],
   "source": [
    "df.nlargest(10, 'Total Ratings')[['Book Name', 'Total Ratings']]"
   ]
  },
  {
   "cell_type": "markdown",
   "id": "2c814b58-676c-453f-a6e5-f8bfea4e6c1e",
   "metadata": {},
   "source": [
    "**39. Explore how many books exist in each category and language combination.**"
   ]
  },
  {
   "cell_type": "code",
   "execution_count": 84,
   "id": "e2589799-401a-4593-b47f-21f3792059db",
   "metadata": {},
   "outputs": [
    {
     "data": {
      "text/plain": [
       "Category                  Language \n",
       "Finance                   English      38\n",
       "                          Hindi         5\n",
       "                          Kannada       1\n",
       "                          Malayalam     1\n",
       "                          Tamil         1\n",
       "Literature                English      37\n",
       "                          Hindi         6\n",
       "                          Malayalam     2\n",
       "                          Marathi       1\n",
       "                          Telugu        3\n",
       "Political                 English      44\n",
       "                          Hindi         4\n",
       "Religion and Spirtuality  English      48\n",
       "Self Improvement          English      48\n",
       "dtype: int64"
      ]
     },
     "execution_count": 84,
     "metadata": {},
     "output_type": "execute_result"
    }
   ],
   "source": [
    "df.groupby(['Category', 'Language']).size()"
   ]
  },
  {
   "cell_type": "markdown",
   "id": "34698717-a0c8-4c0c-8a09-7e4719d49bfc",
   "metadata": {},
   "source": [
    "**40 Identify the longest and shortest books by pages within each category.**"
   ]
  },
  {
   "cell_type": "code",
   "execution_count": 86,
   "id": "4884954d-c735-4412-8126-f4305a80a002",
   "metadata": {},
   "outputs": [
    {
     "data": {
      "text/html": [
       "<div>\n",
       "<style scoped>\n",
       "    .dataframe tbody tr th:only-of-type {\n",
       "        vertical-align: middle;\n",
       "    }\n",
       "\n",
       "    .dataframe tbody tr th {\n",
       "        vertical-align: top;\n",
       "    }\n",
       "\n",
       "    .dataframe thead th {\n",
       "        text-align: right;\n",
       "    }\n",
       "</style>\n",
       "<table border=\"1\" class=\"dataframe\">\n",
       "  <thead>\n",
       "    <tr style=\"text-align: right;\">\n",
       "      <th></th>\n",
       "      <th>Max Pages</th>\n",
       "      <th>Min Pages</th>\n",
       "    </tr>\n",
       "    <tr>\n",
       "      <th>Category</th>\n",
       "      <th></th>\n",
       "      <th></th>\n",
       "    </tr>\n",
       "  </thead>\n",
       "  <tbody>\n",
       "    <tr>\n",
       "      <th>Finance</th>\n",
       "      <td>590</td>\n",
       "      <td>82</td>\n",
       "    </tr>\n",
       "    <tr>\n",
       "      <th>Literature</th>\n",
       "      <td>1536</td>\n",
       "      <td>16</td>\n",
       "    </tr>\n",
       "    <tr>\n",
       "      <th>Political</th>\n",
       "      <td>784</td>\n",
       "      <td>46</td>\n",
       "    </tr>\n",
       "    <tr>\n",
       "      <th>Religion and Spirtuality</th>\n",
       "      <td>2240</td>\n",
       "      <td>40</td>\n",
       "    </tr>\n",
       "    <tr>\n",
       "      <th>Self Improvement</th>\n",
       "      <td>512</td>\n",
       "      <td>96</td>\n",
       "    </tr>\n",
       "  </tbody>\n",
       "</table>\n",
       "</div>"
      ],
      "text/plain": [
       "                          Max Pages  Min Pages\n",
       "Category                                      \n",
       "Finance                         590         82\n",
       "Literature                     1536         16\n",
       "Political                       784         46\n",
       "Religion and Spirtuality       2240         40\n",
       "Self Improvement                512         96"
      ]
     },
     "execution_count": 86,
     "metadata": {},
     "output_type": "execute_result"
    }
   ],
   "source": [
    "category_pages = df.groupby('Category')['Pages'].agg(['max', 'min'])\n",
    "category_pages.rename(columns={'max': 'Max Pages', 'min': 'Min Pages'})"
   ]
  },
  {
   "cell_type": "markdown",
   "id": "70e85143-0fa4-47d3-b120-c0d97ccd046d",
   "metadata": {},
   "source": [
    "**41. Plot a boxplot of the \"Pages\" column**"
   ]
  },
  {
   "cell_type": "code",
   "execution_count": 88,
   "id": "b45639fe-8e07-430c-99cd-24d68920dd69",
   "metadata": {},
   "outputs": [
    {
     "data": {
      "image/png": "[encoded data removed]",
      "text/plain": [
       "<Figure size 600x400 with 1 Axes>"
      ]
     },
     "metadata": {},
     "output_type": "display_data"
    }
   ],
   "source": [
    "plt.figure(figsize=(6, 4))\n",
    "sns.boxplot(x=df['Pages'], color='lightgreen')\n",
    "plt.title('Boxplot of Pages')\n",
    "plt.xlabel('Number of Pages')\n",
    "plt.show()"
   ]
  },
  {
   "cell_type": "markdown",
   "id": "2772863d-a758-4edf-9451-a731f413d7c1",
   "metadata": {},
   "source": [
    "**42. Plot a boxplot of the \"Price\" column**"
   ]
  },
  {
   "cell_type": "code",
   "execution_count": 90,
   "id": "19228736-b622-4e93-a599-a9ed275033f9",
   "metadata": {},
   "outputs": [
    {
     "data": {
      "image/png": "[encoded data removed]",
      "text/plain": [
       "<Figure size 600x400 with 1 Axes>"
      ]
     },
     "metadata": {},
     "output_type": "display_data"
    }
   ],
   "source": [
    "plt.figure(figsize=(6, 4))\n",
    "sns.boxplot(x=df['Price'], color='skyblue')\n",
    "plt.title('Boxplot of Price')\n",
    "plt.xlabel('Price')\n",
    "plt.show()"
   ]
  },
  {
   "cell_type": "markdown",
   "id": "1d9d024f-712a-41d0-9351-9dc6ce86ce16",
   "metadata": {},
   "source": [
    "**43. Use the following function to remove outliers from Price and Pages column. Find the number of rows removed and plot boxplots for Price and Pages after removing the oultiers**"
   ]
  },
  {
   "cell_type": "code",
   "execution_count": 92,
   "id": "de525abf-176d-4f73-bab4-41a661ae5ed4",
   "metadata": {},
   "outputs": [],
   "source": [
    "def remove_outliers(df, column, multiplier=1.5):\n",
    "    # Calculate Q1 (25th percentile) and Q3 (75th percentile) of the column\n",
    "    Q1 = df[column].quantile(0.25)\n",
    "    Q3 = df[column].quantile(0.75)\n",
    "\n",
    "    # Calculate IQR\n",
    "    IQR = Q3 - Q1\n",
    "\n",
    "    # Define the lower and upper bounds for outliers\n",
    "    lower_bound = Q1 - multiplier * IQR\n",
    "    upper_bound = Q3 + multiplier * IQR\n",
    "\n",
    "    # Remove outliers by filtering the column within the bounds\n",
    "    df_cleaned = df[(df[column] >= lower_bound) & (df[column] <= upper_bound)]\n",
    "\n",
    "    return df_cleaned"
   ]
  },
  {
   "cell_type": "code",
   "execution_count": 93,
   "id": "95a0d2eb-e08f-4bff-a338-e154b6c2562f",
   "metadata": {},
   "outputs": [
    {
     "data": {
      "text/plain": [
       "239"
      ]
     },
     "execution_count": 93,
     "metadata": {},
     "output_type": "execute_result"
    }
   ],
   "source": [
    "df.shape[0] # Number of rows before removing outliers"
   ]
  },
  {
   "cell_type": "code",
   "execution_count": 94,
   "id": "278a2f89-3215-4074-9b9a-c640d04b2fbf",
   "metadata": {},
   "outputs": [],
   "source": [
    "df = remove_outliers(df, 'Pages')"
   ]
  },
  {
   "cell_type": "code",
   "execution_count": 95,
   "id": "5404bd69-3271-4441-9dd0-bd07475c5a43",
   "metadata": {},
   "outputs": [
    {
     "data": {
      "text/plain": [
       "220"
      ]
     },
     "execution_count": 95,
     "metadata": {},
     "output_type": "execute_result"
    }
   ],
   "source": [
    "df.shape[0] # Number of rows after removing Pages outliers"
   ]
  },
  {
   "cell_type": "code",
   "execution_count": 96,
   "id": "0993cf64-47b4-4ae5-8da1-2e8055b93841",
   "metadata": {},
   "outputs": [],
   "source": [
    "df = remove_outliers(df, 'Price')"
   ]
  },
  {
   "cell_type": "code",
   "execution_count": 97,
   "id": "a2528e6b-a59c-4570-8542-78cda559b46d",
   "metadata": {},
   "outputs": [
    {
     "data": {
      "text/plain": [
       "179"
      ]
     },
     "execution_count": 97,
     "metadata": {},
     "output_type": "execute_result"
    }
   ],
   "source": [
    "df.shape[0]  # Number of rows after removing Pages outliers also"
   ]
  },
  {
   "cell_type": "code",
   "execution_count": 98,
   "id": "ffdb01cd-ca3d-4d12-99f5-44fc8bc8c223",
   "metadata": {},
   "outputs": [
    {
     "data": {
      "image/png": "[encoded data removed]",
      "text/plain": [
       "<Figure size 600x400 with 1 Axes>"
      ]
     },
     "metadata": {},
     "output_type": "display_data"
    }
   ],
   "source": [
    "plt.figure(figsize=(6, 4))\n",
    "sns.boxplot(x=df['Pages'], color='lightgreen')\n",
    "plt.title('Boxplot of Pages')\n",
    "plt.xlabel('Number of Pages')\n",
    "plt.show()"
   ]
  },
  {
   "cell_type": "code",
   "execution_count": 99,
   "id": "f6f55f15-8e4d-4494-a734-0ba5deb85da9",
   "metadata": {},
   "outputs": [
    {
     "data": {
      "image/png": "[encoded data removed]",
      "text/plain": [
       "<Figure size 600x400 with 1 Axes>"
      ]
     },
     "metadata": {},
     "output_type": "display_data"
    }
   ],
   "source": [
    "plt.figure(figsize=(6, 4))\n",
    "sns.boxplot(x=df['Price'], color='skyblue')\n",
    "plt.title('Boxplot of Price')\n",
    "plt.xlabel('Price')\n",
    "plt.show()"
   ]
  },
  {
   "cell_type": "markdown",
   "id": "19daded1-93e0-4ff3-a4ec-e67f15a74da3",
   "metadata": {},
   "source": [
    "**44. Compare the distribution of book prices across different categories using box plots.**\n"
   ]
  },
  {
   "cell_type": "code",
   "execution_count": 101,
   "id": "0e5ae995-4464-4aba-bae8-c66c0bb7b292",
   "metadata": {
    "scrolled": true
   },
   "outputs": [
    {
     "data": {
      "image/png": "[encoded data removed]",
      "text/plain": [
       "<Figure size 1500x800 with 1 Axes>"
      ]
     },
     "metadata": {},
     "output_type": "display_data"
    }
   ],
   "source": [
    "plt.figure(figsize=(15, 8))\n",
    "sns.boxplot(x='Category', y='Price', data=df)\n",
    "plt.xticks(rotation=45)\n",
    "plt.title('Price Distribution Across Categories', fontsize=16)\n",
    "plt.xlabel('Category', fontsize=14)\n",
    "plt.ylabel('Price', fontsize=14)\n",
    "plt.tight_layout()\n",
    "plt.show()"
   ]
  },
  {
   "cell_type": "markdown",
   "id": "1d3b0dd9-ff1e-4b4d-bf4c-544a96c675e3",
   "metadata": {},
   "source": [
    "**45. Explore how the average rating varies across different languages using a bar plot**\n"
   ]
  },
  {
   "cell_type": "code",
   "execution_count": 103,
   "id": "e1f0a029-bd7d-4ca4-b580-53105bbee1e0",
   "metadata": {},
   "outputs": [
    {
     "data": {
      "text/plain": [
       "<Axes: xlabel='Language'>"
      ]
     },
     "execution_count": 103,
     "metadata": {},
     "output_type": "execute_result"
    },
    {
     "data": {
      "image/png": "[encoded data removed]",
      "text/plain": [
       "<Figure size 640x480 with 1 Axes>"
      ]
     },
     "metadata": {},
     "output_type": "display_data"
    }
   ],
   "source": [
    "df.groupby('Language')['Average Rating'].mean().plot(kind='bar')"
   ]
  },
  {
   "cell_type": "markdown",
   "id": "db805656-4bb9-469f-ad61-d482b00fa4b9",
   "metadata": {},
   "source": [
    "**46. Analyze the correlation between numerical variables such as Price, Pages, Average Rating, Total Ratings, etc.**"
   ]
  },
  {
   "cell_type": "code",
   "execution_count": 105,
   "id": "063e672f-b182-4381-9043-d2931d27579a",
   "metadata": {},
   "outputs": [
    {
     "data": {
      "text/html": [
       "<div>\n",
       "<style scoped>\n",
       "    .dataframe tbody tr th:only-of-type {\n",
       "        vertical-align: middle;\n",
       "    }\n",
       "\n",
       "    .dataframe tbody tr th {\n",
       "        vertical-align: top;\n",
       "    }\n",
       "\n",
       "    .dataframe thead th {\n",
       "        text-align: right;\n",
       "    }\n",
       "</style>\n",
       "<table border=\"1\" class=\"dataframe\">\n",
       "  <thead>\n",
       "    <tr style=\"text-align: right;\">\n",
       "      <th></th>\n",
       "      <th>Pages</th>\n",
       "      <th>Average Rating</th>\n",
       "      <th>Total Ratings</th>\n",
       "      <th>Price</th>\n",
       "    </tr>\n",
       "  </thead>\n",
       "  <tbody>\n",
       "    <tr>\n",
       "      <th>Pages</th>\n",
       "      <td>1.000000</td>\n",
       "      <td>0.022017</td>\n",
       "      <td>-0.019089</td>\n",
       "      <td>0.327462</td>\n",
       "    </tr>\n",
       "    <tr>\n",
       "      <th>Average Rating</th>\n",
       "      <td>0.022017</td>\n",
       "      <td>1.000000</td>\n",
       "      <td>0.038770</td>\n",
       "      <td>0.273249</td>\n",
       "    </tr>\n",
       "    <tr>\n",
       "      <th>Total Ratings</th>\n",
       "      <td>-0.019089</td>\n",
       "      <td>0.038770</td>\n",
       "      <td>1.000000</td>\n",
       "      <td>-0.062443</td>\n",
       "    </tr>\n",
       "    <tr>\n",
       "      <th>Price</th>\n",
       "      <td>0.327462</td>\n",
       "      <td>0.273249</td>\n",
       "      <td>-0.062443</td>\n",
       "      <td>1.000000</td>\n",
       "    </tr>\n",
       "  </tbody>\n",
       "</table>\n",
       "</div>"
      ],
      "text/plain": [
       "                   Pages  Average Rating  Total Ratings     Price\n",
       "Pages           1.000000        0.022017      -0.019089  0.327462\n",
       "Average Rating  0.022017        1.000000       0.038770  0.273249\n",
       "Total Ratings  -0.019089        0.038770       1.000000 -0.062443\n",
       "Price           0.327462        0.273249      -0.062443  1.000000"
      ]
     },
     "execution_count": 105,
     "metadata": {},
     "output_type": "execute_result"
    }
   ],
   "source": [
    "df.corr(numeric_only=True)"
   ]
  },
  {
   "cell_type": "markdown",
   "id": "98011a4f-abd4-4e71-a8b0-c82b970fa77a",
   "metadata": {},
   "source": [
    "**47. Visualize the correlation between book price and number of pages.**"
   ]
  },
  {
   "cell_type": "code",
   "execution_count": 107,
   "id": "353a7cdc-81f8-4f40-b54f-7423f20d6ef9",
   "metadata": {},
   "outputs": [
    {
     "data": {
      "text/plain": [
       "<Axes: xlabel='Price', ylabel='Pages'>"
      ]
     },
     "execution_count": 107,
     "metadata": {},
     "output_type": "execute_result"
    },
    {
     "data": {
      "image/png": "[encoded data removed]",
      "text/plain": [
       "<Figure size 640x480 with 1 Axes>"
      ]
     },
     "metadata": {},
     "output_type": "display_data"
    }
   ],
   "source": [
    "df.plot.scatter(x='Price', y='Pages')"
   ]
  },
  {
   "cell_type": "markdown",
   "id": "e71caba9-da7a-4888-9f60-23e65285c367",
   "metadata": {},
   "source": [
    "**48. Plot a histogram for the distribution of ratings**"
   ]
  },
  {
   "cell_type": "code",
   "execution_count": 109,
   "id": "cbdd1403-ee2d-43c5-8b8a-ac21c3ce206d",
   "metadata": {},
   "outputs": [
    {
     "data": {
      "image/png": "[encoded data removed]",
      "text/plain": [
       "<Figure size 1000x600 with 1 Axes>"
      ]
     },
     "metadata": {},
     "output_type": "display_data"
    }
   ],
   "source": [
    "plt.figure(figsize=(10, 6))\n",
    "plt.hist(df['Average Rating'], bins=20, color='skyblue', edgecolor='black')\n",
    "plt.title('Distribution of Ratings for Books', fontsize=16)\n",
    "plt.xlabel('Ratings', fontsize=14)\n",
    "plt.ylabel('Frequency', fontsize=14)\n",
    "plt.grid(axis='y', linestyle='--', alpha=0.7)\n",
    "plt.show()"
   ]
  },
  {
   "cell_type": "markdown",
   "id": "f61550e6-fc38-4232-b0d4-f2ce2f4c3b5d",
   "metadata": {},
   "source": [
    "**49. Draw a line plot to show average price for each rating level**"
   ]
  },
  {
   "cell_type": "code",
   "execution_count": 111,
   "id": "0546b669-b91d-4be0-8cff-6bab545ccdae",
   "metadata": {},
   "outputs": [
    {
     "data": {
      "image/png": "[encoded data removed]",
      "text/plain": [
       "<Figure size 600x400 with 1 Axes>"
      ]
     },
     "metadata": {},
     "output_type": "display_data"
    }
   ],
   "source": [
    "price_vs_rating = df[['Price', 'Average Rating']].groupby('Average Rating').mean()\n",
    "plt.figure(figsize=(6, 4))\n",
    "plt.plot(price_vs_rating.index, price_vs_rating['Price'], marker='o', color='blue')\n",
    "plt.title('Average Price vs. Ratings', fontsize=14)\n",
    "plt.xlabel('Ratings', fontsize=12)\n",
    "plt.ylabel('Average Price ', fontsize=12)\n",
    "plt.grid(True)\n",
    "plt.show()\n"
   ]
  },
  {
   "cell_type": "markdown",
   "id": "fe89fc1b-4299-4027-8ac7-7fa0747b329f",
   "metadata": {},
   "source": [
    "# Educational Website "
   ]
  },
  {
   "cell_type": "code",
   "execution_count": 113,
   "id": "90440c9f-74d9-4a20-847c-69938eaef584",
   "metadata": {},
   "outputs": [],
   "source": [
    "# Read all CSV files into DataFrames\n",
    "users_df = pd.read_csv(\"users.csv\",parse_dates=['date_of_birth','registration_date'], dayfirst=True)\n",
    "courses_df = pd.read_csv(\"courses.csv\",parse_dates=['created_on','last_updated_on'], dayfirst=True)\n",
    "ratings_df = pd.read_csv(\"ratings.csv\",parse_dates=['first_reviewed_on','last_updated_on'], dayfirst=True)\n",
    "enrollments_df = pd.read_csv(\"enrollments.csv\",parse_dates=['enrollment_date'], dayfirst=True)\n",
    "payments_df = pd.read_csv(\"payments.csv\",parse_dates=['transaction_date'], dayfirst=True)\n",
    "refunds_df = pd.read_csv(\"refunds.csv\",parse_dates=['refund_date'], dayfirst=True)"
   ]
  },
  {
   "cell_type": "code",
   "execution_count": 114,
   "id": "b72b46db-8102-4af7-a1ee-f09a65db172b",
   "metadata": {},
   "outputs": [
    {
     "name": "stdout",
     "output_type": "stream",
     "text": [
      "Users DataFrame columns: ['user_id', 'name', 'date_of_birth', 'email', 'gender', 'category', 'registration_date', 'country', 'last_login_date', 'user_type'] \n",
      "\n",
      "Courses DataFrame columns: ['course_id', 'title', 'category', 'language', 'subtitles', 'price', 'instructor_id', 'length', 'difficulty_level', 'created_on', 'last_updated_on', 'number_of_videos', 'number_of_quizzes', 'view_count', 'average_watch_duration', 'certification_available', 'completion_rate', 'bookmark_count'] \n",
      "\n",
      "Ratings DataFrame columns: ['review_id', 'course_id', 'student_id', 'rating', 'review_text', 'first_reviewed_on', 'last_updated_on', 'helpful_count', 'reported_count'] \n",
      "\n",
      "Enrollments DataFrame columns: ['enrollment_id', 'student_id', 'course_id', 'enrollment_date'] \n",
      "\n",
      "Payments DataFrame columns: ['payment_id', 'enrollment_id', 'discount_percent', 'amount_paid', 'coupon_code', 'payment_method', 'transaction_date', 'transaction_id', 'payment_status'] \n",
      "\n",
      "Refunds DataFrame columns: ['refund_id', 'enrollment_id', 'refund_date', 'refund_reason', 'refund_amount'] \n",
      "\n"
     ]
    }
   ],
   "source": [
    "print(\"Users DataFrame columns:\", users_df.columns.tolist(), \"\\n\")\n",
    "print(\"Courses DataFrame columns:\", courses_df.columns.tolist(), \"\\n\")\n",
    "print(\"Ratings DataFrame columns:\", ratings_df.columns.tolist(), \"\\n\")\n",
    "print(\"Enrollments DataFrame columns:\", enrollments_df.columns.tolist(), \"\\n\")\n",
    "print(\"Payments DataFrame columns:\", payments_df.columns.tolist(), \"\\n\")\n",
    "print(\"Refunds DataFrame columns:\", refunds_df.columns.tolist(), \"\\n\")"
   ]
  },
  {
   "cell_type": "markdown",
   "id": "f51d8e38-eef2-494c-b02e-8fbe68a7802a",
   "metadata": {},
   "source": [
    "**50. How many courses are free and how many courses have a price associated with them?**\n"
   ]
  },
  {
   "cell_type": "markdown",
   "id": "27bbdd0b-572b-4e9a-82a8-ecb848d2b89a",
   "metadata": {},
   "source": [
    "*Use the apply() function to categorize courses into \"Free\" and \"Paid\" based on the price column. \n",
    "Then  use  value_counts() to get a count of how many courses fall into each category.*"
   ]
  },
  {
   "cell_type": "code",
   "execution_count": 117,
   "id": "4be60a3d-93c4-4b41-9f0e-608c8581d7b0",
   "metadata": {},
   "outputs": [
    {
     "data": {
      "text/plain": [
       "price\n",
       "Paid    45\n",
       "Free    18\n",
       "Name: count, dtype: int64"
      ]
     },
     "execution_count": 117,
     "metadata": {},
     "output_type": "execute_result"
    }
   ],
   "source": [
    "courses_df['price'].apply(lambda x: 'Free' if x == 0 else 'Paid').value_counts()"
   ]
  },
  {
   "cell_type": "markdown",
   "id": "90bf8887-ce11-4d66-b29f-ca29a3e39060",
   "metadata": {},
   "source": [
    "**51. How many courses is each instructor teaching on the platform?**"
   ]
  },
  {
   "cell_type": "markdown",
   "id": "fa753630-dd8a-49f9-b6ed-c00fe2a8d3cf",
   "metadata": {},
   "source": [
    "*Use groupby() on the instructor_id column to group the courses based on each instructor. Use the .size() function to count the number of courses for each instructor. Merge the resulting dataset with the users table to get instructor names*"
   ]
  },
  {
   "cell_type": "code",
   "execution_count": 120,
   "id": "f7c25dfe-6094-4f71-a19e-8bb1694baf8f",
   "metadata": {},
   "outputs": [
    {
     "data": {
      "text/html": [
       "<div>\n",
       "<style scoped>\n",
       "    .dataframe tbody tr th:only-of-type {\n",
       "        vertical-align: middle;\n",
       "    }\n",
       "\n",
       "    .dataframe tbody tr th {\n",
       "        vertical-align: top;\n",
       "    }\n",
       "\n",
       "    .dataframe thead th {\n",
       "        text-align: right;\n",
       "    }\n",
       "</style>\n",
       "<table border=\"1\" class=\"dataframe\">\n",
       "  <thead>\n",
       "    <tr style=\"text-align: right;\">\n",
       "      <th></th>\n",
       "      <th>name</th>\n",
       "      <th>course_count</th>\n",
       "    </tr>\n",
       "  </thead>\n",
       "  <tbody>\n",
       "    <tr>\n",
       "      <th>0</th>\n",
       "      <td>Marvin Garcia</td>\n",
       "      <td>3</td>\n",
       "    </tr>\n",
       "    <tr>\n",
       "      <th>1</th>\n",
       "      <td>Mr. Scott Logan</td>\n",
       "      <td>2</td>\n",
       "    </tr>\n",
       "    <tr>\n",
       "      <th>2</th>\n",
       "      <td>John Armstrong</td>\n",
       "      <td>1</td>\n",
       "    </tr>\n",
       "    <tr>\n",
       "      <th>3</th>\n",
       "      <td>Justin Smith</td>\n",
       "      <td>1</td>\n",
       "    </tr>\n",
       "    <tr>\n",
       "      <th>4</th>\n",
       "      <td>Mrs. Kimberly Parrish</td>\n",
       "      <td>2</td>\n",
       "    </tr>\n",
       "    <tr>\n",
       "      <th>5</th>\n",
       "      <td>Jodi Cunningham</td>\n",
       "      <td>2</td>\n",
       "    </tr>\n",
       "    <tr>\n",
       "      <th>6</th>\n",
       "      <td>Anthony Robinson</td>\n",
       "      <td>2</td>\n",
       "    </tr>\n",
       "    <tr>\n",
       "      <th>7</th>\n",
       "      <td>Linda Camacho</td>\n",
       "      <td>4</td>\n",
       "    </tr>\n",
       "    <tr>\n",
       "      <th>8</th>\n",
       "      <td>Eugene Martinez</td>\n",
       "      <td>1</td>\n",
       "    </tr>\n",
       "    <tr>\n",
       "      <th>9</th>\n",
       "      <td>Susan Smith</td>\n",
       "      <td>2</td>\n",
       "    </tr>\n",
       "    <tr>\n",
       "      <th>10</th>\n",
       "      <td>Alex Barnett</td>\n",
       "      <td>4</td>\n",
       "    </tr>\n",
       "    <tr>\n",
       "      <th>11</th>\n",
       "      <td>David Anderson</td>\n",
       "      <td>5</td>\n",
       "    </tr>\n",
       "    <tr>\n",
       "      <th>12</th>\n",
       "      <td>John Taylor</td>\n",
       "      <td>1</td>\n",
       "    </tr>\n",
       "    <tr>\n",
       "      <th>13</th>\n",
       "      <td>Brian Anderson</td>\n",
       "      <td>3</td>\n",
       "    </tr>\n",
       "    <tr>\n",
       "      <th>14</th>\n",
       "      <td>Michael Walker</td>\n",
       "      <td>1</td>\n",
       "    </tr>\n",
       "    <tr>\n",
       "      <th>15</th>\n",
       "      <td>Valerie Hernandez</td>\n",
       "      <td>5</td>\n",
       "    </tr>\n",
       "    <tr>\n",
       "      <th>16</th>\n",
       "      <td>Derrick Weiss</td>\n",
       "      <td>3</td>\n",
       "    </tr>\n",
       "    <tr>\n",
       "      <th>17</th>\n",
       "      <td>Charles Sanchez</td>\n",
       "      <td>1</td>\n",
       "    </tr>\n",
       "    <tr>\n",
       "      <th>18</th>\n",
       "      <td>Jose Carrillo</td>\n",
       "      <td>3</td>\n",
       "    </tr>\n",
       "    <tr>\n",
       "      <th>19</th>\n",
       "      <td>Jorge Dougherty</td>\n",
       "      <td>6</td>\n",
       "    </tr>\n",
       "    <tr>\n",
       "      <th>20</th>\n",
       "      <td>Michael Johnson</td>\n",
       "      <td>2</td>\n",
       "    </tr>\n",
       "    <tr>\n",
       "      <th>21</th>\n",
       "      <td>Jordan King</td>\n",
       "      <td>3</td>\n",
       "    </tr>\n",
       "    <tr>\n",
       "      <th>22</th>\n",
       "      <td>Heather Johnson</td>\n",
       "      <td>3</td>\n",
       "    </tr>\n",
       "    <tr>\n",
       "      <th>23</th>\n",
       "      <td>Michael Flores</td>\n",
       "      <td>3</td>\n",
       "    </tr>\n",
       "  </tbody>\n",
       "</table>\n",
       "</div>"
      ],
      "text/plain": [
       "                     name  course_count\n",
       "0           Marvin Garcia             3\n",
       "1         Mr. Scott Logan             2\n",
       "2          John Armstrong             1\n",
       "3            Justin Smith             1\n",
       "4   Mrs. Kimberly Parrish             2\n",
       "5         Jodi Cunningham             2\n",
       "6        Anthony Robinson             2\n",
       "7           Linda Camacho             4\n",
       "8         Eugene Martinez             1\n",
       "9             Susan Smith             2\n",
       "10           Alex Barnett             4\n",
       "11         David Anderson             5\n",
       "12            John Taylor             1\n",
       "13         Brian Anderson             3\n",
       "14         Michael Walker             1\n",
       "15      Valerie Hernandez             5\n",
       "16          Derrick Weiss             3\n",
       "17        Charles Sanchez             1\n",
       "18          Jose Carrillo             3\n",
       "19        Jorge Dougherty             6\n",
       "20        Michael Johnson             2\n",
       "21            Jordan King             3\n",
       "22        Heather Johnson             3\n",
       "23         Michael Flores             3"
      ]
     },
     "execution_count": 120,
     "metadata": {},
     "output_type": "execute_result"
    }
   ],
   "source": [
    "df = courses_df.groupby('instructor_id').size().reset_index(name='course_count')\n",
    "pd.merge(users_df, df, left_on='user_id', right_on='instructor_id')[['name', 'course_count']]"
   ]
  },
  {
   "cell_type": "markdown",
   "id": "f46f3e6e-eaf0-475c-b8bf-2e689a4488e5",
   "metadata": {},
   "source": [
    "**52. Which courses are the most popular based on the number of bookmarks?**"
   ]
  },
  {
   "cell_type": "markdown",
   "id": "20229a13-8f95-436f-90ba-e1e746323e03",
   "metadata": {},
   "source": [
    "*Select the title and bookmark_count columns from courses_df, and then use nlargest()*"
   ]
  },
  {
   "cell_type": "code",
   "execution_count": 123,
   "id": "0b403c6f-34d8-4981-b630-5af0f3f6a8d5",
   "metadata": {},
   "outputs": [
    {
     "data": {
      "text/html": [
       "<div>\n",
       "<style scoped>\n",
       "    .dataframe tbody tr th:only-of-type {\n",
       "        vertical-align: middle;\n",
       "    }\n",
       "\n",
       "    .dataframe tbody tr th {\n",
       "        vertical-align: top;\n",
       "    }\n",
       "\n",
       "    .dataframe thead th {\n",
       "        text-align: right;\n",
       "    }\n",
       "</style>\n",
       "<table border=\"1\" class=\"dataframe\">\n",
       "  <thead>\n",
       "    <tr style=\"text-align: right;\">\n",
       "      <th></th>\n",
       "      <th>title</th>\n",
       "      <th>bookmark_count</th>\n",
       "    </tr>\n",
       "  </thead>\n",
       "  <tbody>\n",
       "    <tr>\n",
       "      <th>34</th>\n",
       "      <td>Genetics: From DNA to Evolution</td>\n",
       "      <td>485</td>\n",
       "    </tr>\n",
       "    <tr>\n",
       "      <th>13</th>\n",
       "      <td>Python Masterclass</td>\n",
       "      <td>476</td>\n",
       "    </tr>\n",
       "    <tr>\n",
       "      <th>24</th>\n",
       "      <td>Physics Made Simple: Fundamentals to Advanced</td>\n",
       "      <td>458</td>\n",
       "    </tr>\n",
       "    <tr>\n",
       "      <th>11</th>\n",
       "      <td>Instructional Design for Online Learning</td>\n",
       "      <td>452</td>\n",
       "    </tr>\n",
       "    <tr>\n",
       "      <th>15</th>\n",
       "      <td>Leadership and Strategic Management</td>\n",
       "      <td>450</td>\n",
       "    </tr>\n",
       "  </tbody>\n",
       "</table>\n",
       "</div>"
      ],
      "text/plain": [
       "                                            title  bookmark_count\n",
       "34                Genetics: From DNA to Evolution             485\n",
       "13                             Python Masterclass             476\n",
       "24  Physics Made Simple: Fundamentals to Advanced             458\n",
       "11       Instructional Design for Online Learning             452\n",
       "15            Leadership and Strategic Management             450"
      ]
     },
     "execution_count": 123,
     "metadata": {},
     "output_type": "execute_result"
    }
   ],
   "source": [
    "courses_df[['title', 'bookmark_count']].nlargest(5, 'bookmark_count')"
   ]
  },
  {
   "cell_type": "markdown",
   "id": "95bb6d67-752c-4da2-a644-7e88079b9ee0",
   "metadata": {},
   "source": [
    "**53. How many users are registered in each user category (e.g., Working, Student, Homemaker, Retired)?**"
   ]
  },
  {
   "cell_type": "markdown",
   "id": "e92c79e5-0a04-417f-b186-fbd538bbf288",
   "metadata": {},
   "source": [
    "*Use the value_counts() function on the category column of the users_df DataFrame.*"
   ]
  },
  {
   "cell_type": "code",
   "execution_count": 126,
   "id": "60cddcb4-dc9b-4ef8-af62-c61696a4de0f",
   "metadata": {},
   "outputs": [
    {
     "data": {
      "text/plain": [
       "category\n",
       "retired      766\n",
       "homemaker    744\n",
       "student      717\n",
       "working      715\n",
       "Name: count, dtype: int64"
      ]
     },
     "execution_count": 126,
     "metadata": {},
     "output_type": "execute_result"
    }
   ],
   "source": [
    "users_df['category'].value_counts()"
   ]
  },
  {
   "cell_type": "markdown",
   "id": "e93d8e87-8e3d-4852-beef-09df44e39b32",
   "metadata": {},
   "source": [
    "**54. What is the male-to-female ratio among the users?**"
   ]
  },
  {
   "cell_type": "markdown",
   "id": "9d5840f3-e350-46e3-9cfa-72050ea953ff",
   "metadata": {},
   "source": [
    "*Use the value_counts() function on the gender column of the users_df DataFrame to count the number of male and female users. Then, calculate the ratio of males to females by dividing the count of male users by the count of female users.*"
   ]
  },
  {
   "cell_type": "code",
   "execution_count": 129,
   "id": "aff6f838-96fe-4729-a42d-2d7ebc0ee50c",
   "metadata": {},
   "outputs": [
    {
     "name": "stdout",
     "output_type": "stream",
     "text": [
      "Male to female ratio is 1.52\n"
     ]
    }
   ],
   "source": [
    "gender_count = users_df['gender'].value_counts()\n",
    "ratio = gender_count['male'] / gender_count['female']\n",
    "print(f'Male to female ratio is {ratio:.2f}')"
   ]
  },
  {
   "cell_type": "markdown",
   "id": "5ee2fa35-21b7-4ce7-9247-8e85a4ce7143",
   "metadata": {},
   "source": [
    "**55. Which courses have the worst completion rates?**\n"
   ]
  },
  {
   "cell_type": "markdown",
   "id": "74234509-adab-4e8f-9a7a-4a912dfd8033",
   "metadata": {},
   "source": [
    "*Select the title and completion_rate columns from the courses_df DataFrame and display the top 3 courses.*"
   ]
  },
  {
   "cell_type": "code",
   "execution_count": 132,
   "id": "45a127ae-06a4-4ea2-8b81-cb3505df14bf",
   "metadata": {},
   "outputs": [
    {
     "data": {
      "text/html": [
       "<div>\n",
       "<style scoped>\n",
       "    .dataframe tbody tr th:only-of-type {\n",
       "        vertical-align: middle;\n",
       "    }\n",
       "\n",
       "    .dataframe tbody tr th {\n",
       "        vertical-align: top;\n",
       "    }\n",
       "\n",
       "    .dataframe thead th {\n",
       "        text-align: right;\n",
       "    }\n",
       "</style>\n",
       "<table border=\"1\" class=\"dataframe\">\n",
       "  <thead>\n",
       "    <tr style=\"text-align: right;\">\n",
       "      <th></th>\n",
       "      <th>title</th>\n",
       "      <th>completion_rate</th>\n",
       "    </tr>\n",
       "  </thead>\n",
       "  <tbody>\n",
       "    <tr>\n",
       "      <th>27</th>\n",
       "      <td>Biology: Understanding the Human Body</td>\n",
       "      <td>12.52</td>\n",
       "    </tr>\n",
       "    <tr>\n",
       "      <th>7</th>\n",
       "      <td>Introduction to Quantum Physics</td>\n",
       "      <td>12.88</td>\n",
       "    </tr>\n",
       "    <tr>\n",
       "      <th>17</th>\n",
       "      <td>Project Management: From Initiation to Execution</td>\n",
       "      <td>13.52</td>\n",
       "    </tr>\n",
       "  </tbody>\n",
       "</table>\n",
       "</div>"
      ],
      "text/plain": [
       "                                               title  completion_rate\n",
       "27             Biology: Understanding the Human Body            12.52\n",
       "7                    Introduction to Quantum Physics            12.88\n",
       "17  Project Management: From Initiation to Execution            13.52"
      ]
     },
     "execution_count": 132,
     "metadata": {},
     "output_type": "execute_result"
    }
   ],
   "source": [
    "courses_df[['title', 'completion_rate']].nsmallest(3, 'completion_rate')"
   ]
  },
  {
   "cell_type": "markdown",
   "id": "6b6c73ac-fe0e-4dae-ae55-740867883b24",
   "metadata": {},
   "source": [
    "**56. What is the most common rating given by students?**"
   ]
  },
  {
   "cell_type": "markdown",
   "id": "fb76bad1-7a9e-4b66-a126-9f266b4a563f",
   "metadata": {},
   "source": [
    "*Use mode() on the rating column in the ratings_df DataFrame. mode() returns a Series, which can contain multiple values if there are ties. Use [0] to ensure you get the first mode in case of multiple modes.*"
   ]
  },
  {
   "cell_type": "code",
   "execution_count": 135,
   "id": "79c8c472-db07-4302-9145-9a341cf68d12",
   "metadata": {},
   "outputs": [
    {
     "data": {
      "text/plain": [
       "5"
      ]
     },
     "execution_count": 135,
     "metadata": {},
     "output_type": "execute_result"
    }
   ],
   "source": [
    "ratings_df['rating'].mode()[0]"
   ]
  },
  {
   "cell_type": "markdown",
   "id": "a5b7a13d-ac53-4f67-973d-b219f08ed006",
   "metadata": {},
   "source": [
    "**57. How many unique users are enrolled in at least one course?**"
   ]
  },
  {
   "cell_type": "markdown",
   "id": "06fa2181-2cdb-40ca-9a92-4aeb051186d9",
   "metadata": {},
   "source": [
    "*Use the nunique() function on the student_id column in the enrollments_df DataFrame. This will count the unique users who have at least one enrollment record.*"
   ]
  },
  {
   "cell_type": "code",
   "execution_count": 138,
   "id": "df9d06f6-6a1c-468b-b4c1-21af7182b948",
   "metadata": {},
   "outputs": [
    {
     "data": {
      "text/plain": [
       "261"
      ]
     },
     "execution_count": 138,
     "metadata": {},
     "output_type": "execute_result"
    }
   ],
   "source": [
    "enrollments_df['student_id'].nunique()"
   ]
  },
  {
   "cell_type": "markdown",
   "id": "7d172d1f-e280-4950-8d5c-d121782c431e",
   "metadata": {},
   "source": [
    "**58. How many users are enrolled in multiple courses?**"
   ]
  },
  {
   "cell_type": "markdown",
   "id": "00830281-79d3-4fae-b0ae-0b3fc2c0c6b4",
   "metadata": {},
   "source": [
    "*Use value_counts() to count how many times each student_id appears in the enrollments_df DataFrame.  In the resulting series, filter users who are enrolled in more than one course and get the number of such users using len().*"
   ]
  },
  {
   "cell_type": "code",
   "execution_count": 141,
   "id": "0111544a-1818-4f3a-8c32-bfead6d697d8",
   "metadata": {},
   "outputs": [
    {
     "data": {
      "text/plain": [
       "14"
      ]
     },
     "execution_count": 141,
     "metadata": {},
     "output_type": "execute_result"
    }
   ],
   "source": [
    "user_course_counts = enrollments_df['student_id'].value_counts()\n",
    "len(user_course_counts[user_course_counts > 1])"
   ]
  },
  {
   "cell_type": "markdown",
   "id": "e4033207-0971-4061-8e24-255ddb04a82c",
   "metadata": {},
   "source": [
    "**59. Which 5 courses have the most enrollments?**"
   ]
  },
  {
   "cell_type": "markdown",
   "id": "a4bda245-c9e1-489e-a0be-ceb4b34b5191",
   "metadata": {},
   "source": [
    "*Uses the value_counts() function on the course_id column of the enrollments_df DataFrame. This counts how many times each course_id appears, indicating the number of enrollments for each course. The result is a series that is then converted to a DataFrame using reset_index(name='enrollment_count') to make the enrollment counts a regular column.*\n",
    "\n",
    "*The enrollment_counts DataFrame is merged with the courses_df DataFrame to add the corresponding course title based on the course_id. This step associates each course's enrollment count with its name.*\n",
    "\n",
    "*Use nlargest to get the top 5 courses with the highest enrollment count*\n"
   ]
  },
  {
   "cell_type": "code",
   "execution_count": 144,
   "id": "9172651a-8233-454c-af24-cf7c324d3b05",
   "metadata": {},
   "outputs": [
    {
     "data": {
      "text/html": [
       "<div>\n",
       "<style scoped>\n",
       "    .dataframe tbody tr th:only-of-type {\n",
       "        vertical-align: middle;\n",
       "    }\n",
       "\n",
       "    .dataframe tbody tr th {\n",
       "        vertical-align: top;\n",
       "    }\n",
       "\n",
       "    .dataframe thead th {\n",
       "        text-align: right;\n",
       "    }\n",
       "</style>\n",
       "<table border=\"1\" class=\"dataframe\">\n",
       "  <thead>\n",
       "    <tr style=\"text-align: right;\">\n",
       "      <th></th>\n",
       "      <th>course_id</th>\n",
       "      <th>enrollment_count</th>\n",
       "      <th>title</th>\n",
       "    </tr>\n",
       "  </thead>\n",
       "  <tbody>\n",
       "    <tr>\n",
       "      <th>0</th>\n",
       "      <td>76064</td>\n",
       "      <td>20</td>\n",
       "      <td>Leadership and Strategic Management</td>\n",
       "    </tr>\n",
       "    <tr>\n",
       "      <th>1</th>\n",
       "      <td>64796</td>\n",
       "      <td>19</td>\n",
       "      <td>First Aid and CPR Certification</td>\n",
       "    </tr>\n",
       "    <tr>\n",
       "      <th>2</th>\n",
       "      <td>92956</td>\n",
       "      <td>18</td>\n",
       "      <td>Project Management: From Initiation to Execution</td>\n",
       "    </tr>\n",
       "    <tr>\n",
       "      <th>3</th>\n",
       "      <td>79177</td>\n",
       "      <td>18</td>\n",
       "      <td>Financial Analysis for Decision-Making</td>\n",
       "    </tr>\n",
       "    <tr>\n",
       "      <th>4</th>\n",
       "      <td>13258</td>\n",
       "      <td>15</td>\n",
       "      <td>Instructional Design for Online Learning</td>\n",
       "    </tr>\n",
       "  </tbody>\n",
       "</table>\n",
       "</div>"
      ],
      "text/plain": [
       "   course_id  enrollment_count  \\\n",
       "0      76064                20   \n",
       "1      64796                19   \n",
       "2      92956                18   \n",
       "3      79177                18   \n",
       "4      13258                15   \n",
       "\n",
       "                                              title  \n",
       "0               Leadership and Strategic Management  \n",
       "1                   First Aid and CPR Certification  \n",
       "2  Project Management: From Initiation to Execution  \n",
       "3            Financial Analysis for Decision-Making  \n",
       "4          Instructional Design for Online Learning  "
      ]
     },
     "execution_count": 144,
     "metadata": {},
     "output_type": "execute_result"
    }
   ],
   "source": [
    "enrollment_counts = enrollments_df['course_id'].value_counts().reset_index(name='enrollment_count')\n",
    "enrollment_with_names = pd.merge(enrollment_counts, courses_df[['course_id', 'title']], on='course_id', how='inner')\n",
    "\n",
    "enrollment_with_names.nlargest(5, 'enrollment_count')"
   ]
  },
  {
   "cell_type": "markdown",
   "id": "ce042503-0bfa-4bc9-9bcd-70c7132bf47b",
   "metadata": {},
   "source": [
    "**60. Find the total revenue generated from successful payments.**"
   ]
  },
  {
   "cell_type": "markdown",
   "id": "bdfebf8a-f9b3-4066-ad56-2edea576e7cf",
   "metadata": {},
   "source": [
    "*Filter the successful payments in the payments table and then calculate the total revenue by summing the amount_paid column.*"
   ]
  },
  {
   "cell_type": "code",
   "execution_count": 147,
   "id": "70b2e9fd-d78c-43c3-9a8b-554b16ce26e8",
   "metadata": {},
   "outputs": [
    {
     "data": {
      "text/plain": [
       "3770.5"
      ]
     },
     "execution_count": 147,
     "metadata": {},
     "output_type": "execute_result"
    }
   ],
   "source": [
    "payments_df[payments_df['payment_status'] == 'success']['amount_paid'].sum()"
   ]
  },
  {
   "cell_type": "markdown",
   "id": "59242b70-2f9c-4879-8d3e-e307b322e388",
   "metadata": {},
   "source": [
    "**61. What is the average discount percentage applied across all discounted payments?**"
   ]
  },
  {
   "cell_type": "markdown",
   "id": "00e90a26-b75e-41ff-ac92-60b3a1a6e0db",
   "metadata": {},
   "source": [
    "*Filter payments where a discount was applied (discount_percent > 0) and the calculate the average discount percentage for these discounted payments using mean()*"
   ]
  },
  {
   "cell_type": "code",
   "execution_count": 150,
   "id": "472bfb7a-04e4-4415-ae83-55743c964f48",
   "metadata": {},
   "outputs": [
    {
     "data": {
      "text/plain": [
       "16.35135135135135"
      ]
     },
     "execution_count": 150,
     "metadata": {},
     "output_type": "execute_result"
    }
   ],
   "source": [
    "payments_df[payments_df['discount_percent'] > 0]['discount_percent'].mean()"
   ]
  },
  {
   "cell_type": "markdown",
   "id": "f304e62c-c4e5-4b4e-bcf8-46874e55e802",
   "metadata": {},
   "source": [
    "**62. Find top 3 countries with the highest number of students**"
   ]
  },
  {
   "cell_type": "markdown",
   "id": "08fb50ba-57e2-4609-84ab-fb088f34b21d",
   "metadata": {},
   "source": [
    "*Filter users_df  by user_type to include only the students, count occurrences of each country  using value_counts() and use .head(3) to retrieve the top 3 countries with the highest number of students.*"
   ]
  },
  {
   "cell_type": "code",
   "execution_count": 153,
   "id": "bef3c3f9-998c-4884-8058-161bca9d3f2b",
   "metadata": {},
   "outputs": [
    {
     "data": {
      "text/plain": [
       "country\n",
       "India    1148\n",
       "US        850\n",
       "China     524\n",
       "Name: count, dtype: int64"
      ]
     },
     "execution_count": 153,
     "metadata": {},
     "output_type": "execute_result"
    }
   ],
   "source": [
    "users_df[users_df['user_type'] == 'student']['country'].value_counts().head(3)"
   ]
  },
  {
   "cell_type": "markdown",
   "id": "57a31eba-0c40-461b-94c8-8c6440490a8a",
   "metadata": {},
   "source": [
    "**63. What is the most common reasons for refunds?**"
   ]
  },
  {
   "cell_type": "code",
   "execution_count": 155,
   "id": "2baf4241-6558-414e-85e1-54dd2691affe",
   "metadata": {},
   "outputs": [
    {
     "data": {
      "text/plain": [
       "'Course content not satisfactory'"
      ]
     },
     "execution_count": 155,
     "metadata": {},
     "output_type": "execute_result"
    }
   ],
   "source": [
    "refunds_df['refund_reason'].value_counts().idxmax()"
   ]
  },
  {
   "cell_type": "markdown",
   "id": "656f8f5a-f886-459e-8873-9155cb0fb4ca",
   "metadata": {},
   "source": [
    "**64. Add an age column to the users table and then calculate average age of the students on the website**"
   ]
  },
  {
   "cell_type": "markdown",
   "id": "aa310639-0855-4d09-a96d-4efebaf0b96f",
   "metadata": {},
   "source": [
    "*Add an age column to the users_df dataframe. Filter the users_df DataFrame to include only rows where the user_type is \"student, compute the mean of the age column to find the average age of students.*"
   ]
  },
  {
   "cell_type": "code",
   "execution_count": 158,
   "id": "45de8981-b1b5-40eb-aed0-e460d8a3ed64",
   "metadata": {},
   "outputs": [
    {
     "data": {
      "text/plain": [
       "41.67263955892488"
      ]
     },
     "execution_count": 158,
     "metadata": {},
     "output_type": "execute_result"
    }
   ],
   "source": [
    "users_df['age'] = (pd.to_datetime('today') - users_df['date_of_birth']).dt.days // 365\n",
    "users_df[users_df['user_type'] == 'student']['age'].mean()"
   ]
  },
  {
   "cell_type": "markdown",
   "id": "ae6e64fe-f93d-49bc-b96c-c11360c247d6",
   "metadata": {},
   "source": [
    "**65. Find average age of the students in each course**"
   ]
  },
  {
   "cell_type": "markdown",
   "id": "080e587f-025e-436c-b049-96ed9c7107c1",
   "metadata": {},
   "source": [
    "*Merge enrollments with users to get age for each student enrolled*\\\n",
    "*Group by course_id and get average age  for each course_id*\\\n",
    "*Merge with courses_df to get the course titles*"
   ]
  },
  {
   "cell_type": "code",
   "execution_count": 161,
   "id": "17f9c4cc-9c1c-497f-b144-15f7914a0166",
   "metadata": {},
   "outputs": [
    {
     "data": {
      "text/html": [
       "<div>\n",
       "<style scoped>\n",
       "    .dataframe tbody tr th:only-of-type {\n",
       "        vertical-align: middle;\n",
       "    }\n",
       "\n",
       "    .dataframe tbody tr th {\n",
       "        vertical-align: top;\n",
       "    }\n",
       "\n",
       "    .dataframe thead th {\n",
       "        text-align: right;\n",
       "    }\n",
       "</style>\n",
       "<table border=\"1\" class=\"dataframe\">\n",
       "  <thead>\n",
       "    <tr style=\"text-align: right;\">\n",
       "      <th></th>\n",
       "      <th>course_id</th>\n",
       "      <th>average age</th>\n",
       "      <th>title</th>\n",
       "    </tr>\n",
       "  </thead>\n",
       "  <tbody>\n",
       "    <tr>\n",
       "      <th>0</th>\n",
       "      <td>13258</td>\n",
       "      <td>41.666667</td>\n",
       "      <td>Instructional Design for Online Learning</td>\n",
       "    </tr>\n",
       "    <tr>\n",
       "      <th>1</th>\n",
       "      <td>18426</td>\n",
       "      <td>39.769231</td>\n",
       "      <td>Creative Writing: Crafting Compelling Stories</td>\n",
       "    </tr>\n",
       "    <tr>\n",
       "      <th>2</th>\n",
       "      <td>20195</td>\n",
       "      <td>51.000000</td>\n",
       "      <td>Advanced Data structures through C#</td>\n",
       "    </tr>\n",
       "    <tr>\n",
       "      <th>3</th>\n",
       "      <td>21108</td>\n",
       "      <td>37.785714</td>\n",
       "      <td>Teaching Strategies for the 21st Century</td>\n",
       "    </tr>\n",
       "    <tr>\n",
       "      <th>4</th>\n",
       "      <td>21248</td>\n",
       "      <td>38.500000</td>\n",
       "      <td>Full-Stack Web Development Bootcamp</td>\n",
       "    </tr>\n",
       "    <tr>\n",
       "      <th>5</th>\n",
       "      <td>22005</td>\n",
       "      <td>69.000000</td>\n",
       "      <td>Nutrition and Healthy Living</td>\n",
       "    </tr>\n",
       "    <tr>\n",
       "      <th>6</th>\n",
       "      <td>27385</td>\n",
       "      <td>46.500000</td>\n",
       "      <td>Mastering React: Advanced Concepts</td>\n",
       "    </tr>\n",
       "    <tr>\n",
       "      <th>7</th>\n",
       "      <td>27431</td>\n",
       "      <td>15.500000</td>\n",
       "      <td>Biology: Understanding the Human Body</td>\n",
       "    </tr>\n",
       "    <tr>\n",
       "      <th>8</th>\n",
       "      <td>30371</td>\n",
       "      <td>41.733333</td>\n",
       "      <td>Introduction to Quantum Physics</td>\n",
       "    </tr>\n",
       "    <tr>\n",
       "      <th>9</th>\n",
       "      <td>30790</td>\n",
       "      <td>47.000000</td>\n",
       "      <td>Introduction to Animation and Motion Graphics</td>\n",
       "    </tr>\n",
       "    <tr>\n",
       "      <th>10</th>\n",
       "      <td>31874</td>\n",
       "      <td>34.000000</td>\n",
       "      <td>Public Health: Foundations and Future Trends</td>\n",
       "    </tr>\n",
       "    <tr>\n",
       "      <th>11</th>\n",
       "      <td>32369</td>\n",
       "      <td>38.500000</td>\n",
       "      <td>Python Masterclass</td>\n",
       "    </tr>\n",
       "    <tr>\n",
       "      <th>12</th>\n",
       "      <td>33057</td>\n",
       "      <td>42.333333</td>\n",
       "      <td>Advanced Data structures through Python</td>\n",
       "    </tr>\n",
       "    <tr>\n",
       "      <th>13</th>\n",
       "      <td>39766</td>\n",
       "      <td>23.000000</td>\n",
       "      <td>Fitness Coaching: Becoming a Personal Trainer</td>\n",
       "    </tr>\n",
       "    <tr>\n",
       "      <th>14</th>\n",
       "      <td>45770</td>\n",
       "      <td>36.200000</td>\n",
       "      <td>Advanced Mathematics for Engineers</td>\n",
       "    </tr>\n",
       "    <tr>\n",
       "      <th>15</th>\n",
       "      <td>48950</td>\n",
       "      <td>80.000000</td>\n",
       "      <td>Productivity Hacks: Achieve More Every Day</td>\n",
       "    </tr>\n",
       "    <tr>\n",
       "      <th>16</th>\n",
       "      <td>49963</td>\n",
       "      <td>29.384615</td>\n",
       "      <td>How to Teach Reading and Writing Effectively</td>\n",
       "    </tr>\n",
       "    <tr>\n",
       "      <th>17</th>\n",
       "      <td>51293</td>\n",
       "      <td>47.181818</td>\n",
       "      <td>Managing Diabetes and Chronic Diseases</td>\n",
       "    </tr>\n",
       "    <tr>\n",
       "      <th>18</th>\n",
       "      <td>54046</td>\n",
       "      <td>43.000000</td>\n",
       "      <td>AI and Deep Learning with TensorFlow</td>\n",
       "    </tr>\n",
       "    <tr>\n",
       "      <th>19</th>\n",
       "      <td>54145</td>\n",
       "      <td>47.444444</td>\n",
       "      <td>Data structures through C++</td>\n",
       "    </tr>\n",
       "    <tr>\n",
       "      <th>20</th>\n",
       "      <td>56446</td>\n",
       "      <td>41.750000</td>\n",
       "      <td>Advanced Data structures through C++</td>\n",
       "    </tr>\n",
       "    <tr>\n",
       "      <th>21</th>\n",
       "      <td>56799</td>\n",
       "      <td>42.500000</td>\n",
       "      <td>The Science of Everyday Chemistry</td>\n",
       "    </tr>\n",
       "    <tr>\n",
       "      <th>22</th>\n",
       "      <td>59716</td>\n",
       "      <td>17.000000</td>\n",
       "      <td>Advanced Data structures through Java</td>\n",
       "    </tr>\n",
       "    <tr>\n",
       "      <th>23</th>\n",
       "      <td>62276</td>\n",
       "      <td>34.000000</td>\n",
       "      <td>UX/UI Design Fundamentals</td>\n",
       "    </tr>\n",
       "    <tr>\n",
       "      <th>24</th>\n",
       "      <td>62660</td>\n",
       "      <td>30.000000</td>\n",
       "      <td>Renewable Energy: Technologies and Applications</td>\n",
       "    </tr>\n",
       "    <tr>\n",
       "      <th>25</th>\n",
       "      <td>64561</td>\n",
       "      <td>66.666667</td>\n",
       "      <td>Photography: From Beginner to Pro</td>\n",
       "    </tr>\n",
       "    <tr>\n",
       "      <th>26</th>\n",
       "      <td>64796</td>\n",
       "      <td>39.684211</td>\n",
       "      <td>First Aid and CPR Certification</td>\n",
       "    </tr>\n",
       "    <tr>\n",
       "      <th>27</th>\n",
       "      <td>65005</td>\n",
       "      <td>33.375000</td>\n",
       "      <td>Digital Marketing Masterclass</td>\n",
       "    </tr>\n",
       "    <tr>\n",
       "      <th>28</th>\n",
       "      <td>67194</td>\n",
       "      <td>35.000000</td>\n",
       "      <td>Astronomy: Exploring the Universe</td>\n",
       "    </tr>\n",
       "    <tr>\n",
       "      <th>29</th>\n",
       "      <td>72387</td>\n",
       "      <td>62.000000</td>\n",
       "      <td>Culturally Responsive Teaching</td>\n",
       "    </tr>\n",
       "    <tr>\n",
       "      <th>30</th>\n",
       "      <td>76064</td>\n",
       "      <td>42.550000</td>\n",
       "      <td>Leadership and Strategic Management</td>\n",
       "    </tr>\n",
       "    <tr>\n",
       "      <th>31</th>\n",
       "      <td>78724</td>\n",
       "      <td>49.250000</td>\n",
       "      <td>Special Education: Understanding Disabilities</td>\n",
       "    </tr>\n",
       "    <tr>\n",
       "      <th>32</th>\n",
       "      <td>79177</td>\n",
       "      <td>39.888889</td>\n",
       "      <td>Financial Analysis for Decision-Making</td>\n",
       "    </tr>\n",
       "    <tr>\n",
       "      <th>33</th>\n",
       "      <td>85886</td>\n",
       "      <td>26.000000</td>\n",
       "      <td>Graphic Design Essentials: Tools and Techniques</td>\n",
       "    </tr>\n",
       "    <tr>\n",
       "      <th>34</th>\n",
       "      <td>86558</td>\n",
       "      <td>48.000000</td>\n",
       "      <td>Genetics: From DNA to Evolution</td>\n",
       "    </tr>\n",
       "    <tr>\n",
       "      <th>35</th>\n",
       "      <td>86724</td>\n",
       "      <td>47.000000</td>\n",
       "      <td>Educational Psychology: Enhancing Learning Out...</td>\n",
       "    </tr>\n",
       "    <tr>\n",
       "      <th>36</th>\n",
       "      <td>89472</td>\n",
       "      <td>24.000000</td>\n",
       "      <td>Introduction to Cybersecurity</td>\n",
       "    </tr>\n",
       "    <tr>\n",
       "      <th>37</th>\n",
       "      <td>92956</td>\n",
       "      <td>49.722222</td>\n",
       "      <td>Project Management: From Initiation to Execution</td>\n",
       "    </tr>\n",
       "    <tr>\n",
       "      <th>38</th>\n",
       "      <td>93178</td>\n",
       "      <td>38.000000</td>\n",
       "      <td>Gamification in Education</td>\n",
       "    </tr>\n",
       "    <tr>\n",
       "      <th>39</th>\n",
       "      <td>93568</td>\n",
       "      <td>54.000000</td>\n",
       "      <td>Yoga and Mindfulness for Wellness</td>\n",
       "    </tr>\n",
       "    <tr>\n",
       "      <th>40</th>\n",
       "      <td>93619</td>\n",
       "      <td>43.133333</td>\n",
       "      <td>Environmental Science: Understanding Ecosystems</td>\n",
       "    </tr>\n",
       "    <tr>\n",
       "      <th>41</th>\n",
       "      <td>96323</td>\n",
       "      <td>53.000000</td>\n",
       "      <td>Global Health and Epidemiology</td>\n",
       "    </tr>\n",
       "    <tr>\n",
       "      <th>42</th>\n",
       "      <td>97039</td>\n",
       "      <td>41.000000</td>\n",
       "      <td>Early Childhood Education Fundamentals</td>\n",
       "    </tr>\n",
       "    <tr>\n",
       "      <th>43</th>\n",
       "      <td>97988</td>\n",
       "      <td>40.866667</td>\n",
       "      <td>Classroom Management: Techniques for Success</td>\n",
       "    </tr>\n",
       "    <tr>\n",
       "      <th>44</th>\n",
       "      <td>99133</td>\n",
       "      <td>50.000000</td>\n",
       "      <td>The Art of Negotiation and Persuasion</td>\n",
       "    </tr>\n",
       "  </tbody>\n",
       "</table>\n",
       "</div>"
      ],
      "text/plain": [
       "    course_id  average age                                              title\n",
       "0       13258    41.666667           Instructional Design for Online Learning\n",
       "1       18426    39.769231      Creative Writing: Crafting Compelling Stories\n",
       "2       20195    51.000000                Advanced Data structures through C#\n",
       "3       21108    37.785714           Teaching Strategies for the 21st Century\n",
       "4       21248    38.500000                Full-Stack Web Development Bootcamp\n",
       "5       22005    69.000000                       Nutrition and Healthy Living\n",
       "6       27385    46.500000                 Mastering React: Advanced Concepts\n",
       "7       27431    15.500000              Biology: Understanding the Human Body\n",
       "8       30371    41.733333                    Introduction to Quantum Physics\n",
       "9       30790    47.000000      Introduction to Animation and Motion Graphics\n",
       "10      31874    34.000000       Public Health: Foundations and Future Trends\n",
       "11      32369    38.500000                                 Python Masterclass\n",
       "12      33057    42.333333            Advanced Data structures through Python\n",
       "13      39766    23.000000      Fitness Coaching: Becoming a Personal Trainer\n",
       "14      45770    36.200000                 Advanced Mathematics for Engineers\n",
       "15      48950    80.000000         Productivity Hacks: Achieve More Every Day\n",
       "16      49963    29.384615       How to Teach Reading and Writing Effectively\n",
       "17      51293    47.181818             Managing Diabetes and Chronic Diseases\n",
       "18      54046    43.000000               AI and Deep Learning with TensorFlow\n",
       "19      54145    47.444444                        Data structures through C++\n",
       "20      56446    41.750000               Advanced Data structures through C++\n",
       "21      56799    42.500000                  The Science of Everyday Chemistry\n",
       "22      59716    17.000000              Advanced Data structures through Java\n",
       "23      62276    34.000000                          UX/UI Design Fundamentals\n",
       "24      62660    30.000000    Renewable Energy: Technologies and Applications\n",
       "25      64561    66.666667                  Photography: From Beginner to Pro\n",
       "26      64796    39.684211                    First Aid and CPR Certification\n",
       "27      65005    33.375000                      Digital Marketing Masterclass\n",
       "28      67194    35.000000                  Astronomy: Exploring the Universe\n",
       "29      72387    62.000000                     Culturally Responsive Teaching\n",
       "30      76064    42.550000                Leadership and Strategic Management\n",
       "31      78724    49.250000      Special Education: Understanding Disabilities\n",
       "32      79177    39.888889             Financial Analysis for Decision-Making\n",
       "33      85886    26.000000    Graphic Design Essentials: Tools and Techniques\n",
       "34      86558    48.000000                    Genetics: From DNA to Evolution\n",
       "35      86724    47.000000  Educational Psychology: Enhancing Learning Out...\n",
       "36      89472    24.000000                      Introduction to Cybersecurity\n",
       "37      92956    49.722222   Project Management: From Initiation to Execution\n",
       "38      93178    38.000000                          Gamification in Education\n",
       "39      93568    54.000000                  Yoga and Mindfulness for Wellness\n",
       "40      93619    43.133333    Environmental Science: Understanding Ecosystems\n",
       "41      96323    53.000000                     Global Health and Epidemiology\n",
       "42      97039    41.000000             Early Childhood Education Fundamentals\n",
       "43      97988    40.866667       Classroom Management: Techniques for Success\n",
       "44      99133    50.000000              The Art of Negotiation and Persuasion"
      ]
     },
     "execution_count": 161,
     "metadata": {},
     "output_type": "execute_result"
    }
   ],
   "source": [
    "df = pd.merge(enrollments_df, users_df[['user_id', 'age']], left_on='student_id', right_on='user_id')\n",
    "df = df.groupby('course_id')['age'].mean().reset_index(name='average age')\n",
    "pd.merge(df, courses_df[['course_id', 'title']], on='course_id')"
   ]
  },
  {
   "cell_type": "markdown",
   "id": "b09eba25-f087-44cd-90df-bd95a6e750f7",
   "metadata": {},
   "source": [
    "**66. Find average age of the students in each course category**"
   ]
  },
  {
   "cell_type": "markdown",
   "id": "98510b82-4b28-4b09-bd93-68bcf91a5126",
   "metadata": {},
   "source": [
    "*Merge enrollments with users to get the age for each enrolled student*\\\n",
    "*Merge with courses to get the course category*\\\n",
    "*Calculate the average age for each course category by grouping on category and find mean of age.*"
   ]
  },
  {
   "cell_type": "code",
   "execution_count": 164,
   "id": "92f5e60f-e4dd-4d10-ab91-8f8392e443e8",
   "metadata": {},
   "outputs": [
    {
     "data": {
      "text/html": [
       "<div>\n",
       "<style scoped>\n",
       "    .dataframe tbody tr th:only-of-type {\n",
       "        vertical-align: middle;\n",
       "    }\n",
       "\n",
       "    .dataframe tbody tr th {\n",
       "        vertical-align: top;\n",
       "    }\n",
       "\n",
       "    .dataframe thead th {\n",
       "        text-align: right;\n",
       "    }\n",
       "</style>\n",
       "<table border=\"1\" class=\"dataframe\">\n",
       "  <thead>\n",
       "    <tr style=\"text-align: right;\">\n",
       "      <th></th>\n",
       "      <th>category</th>\n",
       "      <th>age</th>\n",
       "    </tr>\n",
       "  </thead>\n",
       "  <tbody>\n",
       "    <tr>\n",
       "      <th>0</th>\n",
       "      <td>Arts and Design</td>\n",
       "      <td>43.550000</td>\n",
       "    </tr>\n",
       "    <tr>\n",
       "      <th>1</th>\n",
       "      <td>Business and Management</td>\n",
       "      <td>42.671875</td>\n",
       "    </tr>\n",
       "    <tr>\n",
       "      <th>2</th>\n",
       "      <td>Education</td>\n",
       "      <td>39.450704</td>\n",
       "    </tr>\n",
       "    <tr>\n",
       "      <th>3</th>\n",
       "      <td>Health</td>\n",
       "      <td>43.028571</td>\n",
       "    </tr>\n",
       "    <tr>\n",
       "      <th>4</th>\n",
       "      <td>Personal Development</td>\n",
       "      <td>65.000000</td>\n",
       "    </tr>\n",
       "    <tr>\n",
       "      <th>5</th>\n",
       "      <td>Science and Mathematics</td>\n",
       "      <td>39.837209</td>\n",
       "    </tr>\n",
       "    <tr>\n",
       "      <th>6</th>\n",
       "      <td>Technology and Programming</td>\n",
       "      <td>41.404762</td>\n",
       "    </tr>\n",
       "  </tbody>\n",
       "</table>\n",
       "</div>"
      ],
      "text/plain": [
       "                     category        age\n",
       "0             Arts and Design  43.550000\n",
       "1     Business and Management  42.671875\n",
       "2                   Education  39.450704\n",
       "3                      Health  43.028571\n",
       "4        Personal Development  65.000000\n",
       "5     Science and Mathematics  39.837209\n",
       "6  Technology and Programming  41.404762"
      ]
     },
     "execution_count": 164,
     "metadata": {},
     "output_type": "execute_result"
    }
   ],
   "source": [
    "merged_df = pd.merge(enrollments_df, users_df[['user_id', 'age']], left_on='student_id', right_on='user_id')\n",
    "merged_df = pd.merge(merged_df, courses_df[['course_id', 'category']], on='course_id')\n",
    "merged_df.groupby('category')['age'].mean().reset_index()"
   ]
  },
  {
   "cell_type": "markdown",
   "id": "ece4178a-ff3b-4615-bd88-e4e2a94a3da4",
   "metadata": {},
   "source": [
    "**67. Calculate the average age of users for each user category (e.g., Working, Student, Homemaker, Retired)**\n"
   ]
  },
  {
   "cell_type": "markdown",
   "id": "6d264e37-fd5e-43e2-86e3-14fd2ea09ac0",
   "metadata": {},
   "source": [
    "*Group by 'category' and calculate the average age*"
   ]
  },
  {
   "cell_type": "code",
   "execution_count": 167,
   "id": "7f28431a-94d3-4e82-a7df-b0a8d4419e4c",
   "metadata": {},
   "outputs": [
    {
     "data": {
      "text/html": [
       "<div>\n",
       "<style scoped>\n",
       "    .dataframe tbody tr th:only-of-type {\n",
       "        vertical-align: middle;\n",
       "    }\n",
       "\n",
       "    .dataframe tbody tr th {\n",
       "        vertical-align: top;\n",
       "    }\n",
       "\n",
       "    .dataframe thead th {\n",
       "        text-align: right;\n",
       "    }\n",
       "</style>\n",
       "<table border=\"1\" class=\"dataframe\">\n",
       "  <thead>\n",
       "    <tr style=\"text-align: right;\">\n",
       "      <th></th>\n",
       "      <th>category</th>\n",
       "      <th>Average_Age</th>\n",
       "    </tr>\n",
       "  </thead>\n",
       "  <tbody>\n",
       "    <tr>\n",
       "      <th>0</th>\n",
       "      <td>homemaker</td>\n",
       "      <td>41.931452</td>\n",
       "    </tr>\n",
       "    <tr>\n",
       "      <th>1</th>\n",
       "      <td>retired</td>\n",
       "      <td>41.663185</td>\n",
       "    </tr>\n",
       "    <tr>\n",
       "      <th>2</th>\n",
       "      <td>student</td>\n",
       "      <td>41.146444</td>\n",
       "    </tr>\n",
       "    <tr>\n",
       "      <th>3</th>\n",
       "      <td>working</td>\n",
       "      <td>42.037762</td>\n",
       "    </tr>\n",
       "  </tbody>\n",
       "</table>\n",
       "</div>"
      ],
      "text/plain": [
       "    category  Average_Age\n",
       "0  homemaker    41.931452\n",
       "1    retired    41.663185\n",
       "2    student    41.146444\n",
       "3    working    42.037762"
      ]
     },
     "execution_count": 167,
     "metadata": {},
     "output_type": "execute_result"
    }
   ],
   "source": [
    "users_df.groupby('category')['age'].mean().reset_index(name = 'Average_Age')"
   ]
  },
  {
   "cell_type": "markdown",
   "id": "f7782bb7-086f-4364-9102-d98c91dc21f7",
   "metadata": {},
   "source": [
    "**68. Plot the age distribution of all the users**"
   ]
  },
  {
   "cell_type": "markdown",
   "id": "42cb6f0a-345e-409c-90ae-7f940de65021",
   "metadata": {},
   "source": [
    "*Show the distribution of user ages with a histogram and KDE (Kernel Density Estimate) curve.*\n"
   ]
  },
  {
   "cell_type": "code",
   "execution_count": 170,
   "id": "409d1022-e7c8-4fb4-b065-be580124ef14",
   "metadata": {},
   "outputs": [
    {
     "data": {
      "image/png": "[encoded data removed]",
      "text/plain": [
       "<Figure size 800x500 with 1 Axes>"
      ]
     },
     "metadata": {},
     "output_type": "display_data"
    }
   ],
   "source": [
    "plt.figure(figsize=(8, 5))\n",
    "sns.histplot(users_df['age'], bins=20, kde=True, color='skyblue')\n",
    "\n",
    "plt.title('Age Distribution of Users', fontsize=16)\n",
    "plt.xlabel('Age', fontsize=12)\n",
    "plt.ylabel('Number of Users', fontsize=12)\n",
    "plt.tight_layout()\n",
    "plt.show()\n"
   ]
  },
  {
   "cell_type": "markdown",
   "id": "068f71bd-8074-47b5-bf9b-cb8d2dc7f7b7",
   "metadata": {},
   "source": [
    "**69. Plot the gender distribution to understand the gender breakdown of users**"
   ]
  },
  {
   "cell_type": "markdown",
   "id": "04d8932c-1041-45cd-bdc5-faf0d6730693",
   "metadata": {},
   "source": [
    "*Count the number of users by gender, and generate a bar chart showing the number of male and female users.*"
   ]
  },
  {
   "cell_type": "code",
   "execution_count": 173,
   "id": "e07553e5-4b17-4e69-875d-a7b3c98f7eed",
   "metadata": {},
   "outputs": [
    {
     "data": {
      "image/png": "[encoded data removed]",
      "text/plain": [
       "<Figure size 600x400 with 1 Axes>"
      ]
     },
     "metadata": {},
     "output_type": "display_data"
    }
   ],
   "source": [
    "gender_distribution = users_df['gender'].value_counts()\n",
    "\n",
    "plt.figure(figsize=(6, 4))\n",
    "sns.barplot(x=gender_distribution.index, y=gender_distribution.values, hue=gender_distribution.index, palette='Set2', legend=False, width=0.5)\n",
    "plt.title('Gender Distribution of Users', fontsize=16)\n",
    "plt.xlabel('Gender', fontsize=12)\n",
    "plt.ylabel('Number of Users', fontsize=12)\n",
    "plt.tight_layout()\n",
    "plt.show()\n"
   ]
  },
  {
   "cell_type": "markdown",
   "id": "0dbe9963-a52f-4a10-a5f9-950f0a6c408a",
   "metadata": {},
   "source": [
    "**70. Plot the geographic distribution of users (based on country)**"
   ]
  },
  {
   "cell_type": "markdown",
   "id": "9b6fb074-a70b-46dd-a9dd-45ca5b2b5de2",
   "metadata": {},
   "source": [
    "*Count the number of users in each country, generate a bar chart showing the top 10 countries with the highest number of users.*"
   ]
  },
  {
   "cell_type": "code",
   "execution_count": 176,
   "id": "3531997a-8ea6-492c-925c-26908922eb65",
   "metadata": {},
   "outputs": [
    {
     "data": {
      "image/png": "[encoded data removed]",
      "text/plain": [
       "<Figure size 1200x800 with 1 Axes>"
      ]
     },
     "metadata": {},
     "output_type": "display_data"
    }
   ],
   "source": [
    "# Count the number of users by country\n",
    "location_distribution = users_df['country'].value_counts().head(10)  # Top 10 countries\n",
    "\n",
    "# Plot the location distribution\n",
    "plt.figure(figsize=(12, 8))\n",
    "sns.barplot(x=location_distribution.index, y=location_distribution.values, hue=location_distribution.index, palette='Set3', legend=False)\n",
    "\n",
    "# Customize the plot\n",
    "plt.title('Top 10 Countries with Most Users', fontsize=16)\n",
    "plt.xlabel('Country', fontsize=12)\n",
    "plt.ylabel('Number of Users', fontsize=12)\n",
    "plt.xticks(rotation=45)\n",
    "plt.tight_layout()\n",
    "\n",
    "# Show the plot\n",
    "plt.show()\n"
   ]
  },
  {
   "cell_type": "markdown",
   "id": "5eafdc18-09df-4496-b774-5debc2ab1de8",
   "metadata": {},
   "source": [
    "**71. Show how the age distribution varies for different user types.**"
   ]
  },
  {
   "cell_type": "markdown",
   "id": "e78023eb-0c76-44fd-8984-11db87e88fe0",
   "metadata": {},
   "source": [
    "*To explore the relationship between user age and their type (e.g., instructor, student, admin), we can create a boxplot.*"
   ]
  },
  {
   "cell_type": "code",
   "execution_count": 179,
   "id": "6c9c2194-f8b6-47cf-bc27-bf4d5ed93e07",
   "metadata": {},
   "outputs": [
    {
     "data": {
      "image/png": "[encoded data removed]",
      "text/plain": [
       "<Figure size 1000x600 with 1 Axes>"
      ]
     },
     "metadata": {},
     "output_type": "display_data"
    }
   ],
   "source": [
    "plt.figure(figsize=(10, 6))\n",
    "sns.boxplot(x='user_type', y='age', hue='user_type', data=users_df, palette='Set1', legend=False)\n",
    "\n",
    "plt.title('Age Distribution by User Type', fontsize=16)\n",
    "plt.xlabel('User Type', fontsize=12)\n",
    "plt.ylabel('Age', fontsize=12)\n",
    "plt.tight_layout()\n",
    "\n",
    "plt.show()\n"
   ]
  },
  {
   "cell_type": "markdown",
   "id": "8a92cc37-71c7-487a-8f51-e68d443cd34f",
   "metadata": {},
   "source": [
    "**72. Find the top 5 most popular courses based on view counts**"
   ]
  },
  {
   "cell_type": "markdown",
   "id": "bc186fbc-8e5b-42a3-89b3-9ddae3f7df5f",
   "metadata": {},
   "source": [
    "*Sort the courses by the view_count column in descending order and select the top 5.*"
   ]
  },
  {
   "cell_type": "code",
   "execution_count": 182,
   "id": "257ae222-4b63-4f63-ad85-96ad70c88d94",
   "metadata": {},
   "outputs": [
    {
     "data": {
      "text/html": [
       "<div>\n",
       "<style scoped>\n",
       "    .dataframe tbody tr th:only-of-type {\n",
       "        vertical-align: middle;\n",
       "    }\n",
       "\n",
       "    .dataframe tbody tr th {\n",
       "        vertical-align: top;\n",
       "    }\n",
       "\n",
       "    .dataframe thead th {\n",
       "        text-align: right;\n",
       "    }\n",
       "</style>\n",
       "<table border=\"1\" class=\"dataframe\">\n",
       "  <thead>\n",
       "    <tr style=\"text-align: right;\">\n",
       "      <th></th>\n",
       "      <th>course_id</th>\n",
       "      <th>title</th>\n",
       "      <th>category</th>\n",
       "      <th>view_count</th>\n",
       "    </tr>\n",
       "  </thead>\n",
       "  <tbody>\n",
       "    <tr>\n",
       "      <th>29</th>\n",
       "      <td>21248</td>\n",
       "      <td>Full-Stack Web Development Bootcamp</td>\n",
       "      <td>Technology and Programming</td>\n",
       "      <td>9989</td>\n",
       "    </tr>\n",
       "    <tr>\n",
       "      <th>27</th>\n",
       "      <td>27431</td>\n",
       "      <td>Biology: Understanding the Human Body</td>\n",
       "      <td>Science and Mathematics</td>\n",
       "      <td>9821</td>\n",
       "    </tr>\n",
       "    <tr>\n",
       "      <th>35</th>\n",
       "      <td>27385</td>\n",
       "      <td>Mastering React: Advanced Concepts</td>\n",
       "      <td>Technology and Programming</td>\n",
       "      <td>9445</td>\n",
       "    </tr>\n",
       "    <tr>\n",
       "      <th>33</th>\n",
       "      <td>74770</td>\n",
       "      <td>Marine Biology: Life Under the Sea</td>\n",
       "      <td>Science and Mathematics</td>\n",
       "      <td>9320</td>\n",
       "    </tr>\n",
       "    <tr>\n",
       "      <th>34</th>\n",
       "      <td>86558</td>\n",
       "      <td>Genetics: From DNA to Evolution</td>\n",
       "      <td>Science and Mathematics</td>\n",
       "      <td>9230</td>\n",
       "    </tr>\n",
       "  </tbody>\n",
       "</table>\n",
       "</div>"
      ],
      "text/plain": [
       "    course_id                                  title  \\\n",
       "29      21248    Full-Stack Web Development Bootcamp   \n",
       "27      27431  Biology: Understanding the Human Body   \n",
       "35      27385     Mastering React: Advanced Concepts   \n",
       "33      74770     Marine Biology: Life Under the Sea   \n",
       "34      86558        Genetics: From DNA to Evolution   \n",
       "\n",
       "                      category  view_count  \n",
       "29  Technology and Programming        9989  \n",
       "27     Science and Mathematics        9821  \n",
       "35  Technology and Programming        9445  \n",
       "33     Science and Mathematics        9320  \n",
       "34     Science and Mathematics        9230  "
      ]
     },
     "execution_count": 182,
     "metadata": {},
     "output_type": "execute_result"
    }
   ],
   "source": [
    "courses_df[['course_id', 'title', 'category', 'view_count']].nlargest(5, 'view_count')"
   ]
  },
  {
   "cell_type": "markdown",
   "id": "40e76cf7-edd7-4c59-a028-5c0bdf85e997",
   "metadata": {},
   "source": [
    "**73. Find the top 2 popular courses in each category based on view_count**"
   ]
  },
  {
   "cell_type": "markdown",
   "id": "dd8ba9c9-dba1-4e88-bc55-3af2852ee53b",
   "metadata": {},
   "source": [
    "*Sort courses by view_count within each category, Group by category and get top 2 courses in each category* "
   ]
  },
  {
   "cell_type": "code",
   "execution_count": 185,
   "id": "db05fa56-8ded-4946-b2b1-580d4278ccbf",
   "metadata": {},
   "outputs": [
    {
     "data": {
      "text/html": [
       "<div>\n",
       "<style scoped>\n",
       "    .dataframe tbody tr th:only-of-type {\n",
       "        vertical-align: middle;\n",
       "    }\n",
       "\n",
       "    .dataframe tbody tr th {\n",
       "        vertical-align: top;\n",
       "    }\n",
       "\n",
       "    .dataframe thead th {\n",
       "        text-align: right;\n",
       "    }\n",
       "</style>\n",
       "<table border=\"1\" class=\"dataframe\">\n",
       "  <thead>\n",
       "    <tr style=\"text-align: right;\">\n",
       "      <th></th>\n",
       "      <th>category</th>\n",
       "      <th>title</th>\n",
       "      <th>view_count</th>\n",
       "    </tr>\n",
       "  </thead>\n",
       "  <tbody>\n",
       "    <tr>\n",
       "      <th>20</th>\n",
       "      <td>Arts and Design</td>\n",
       "      <td>UX/UI Design Fundamentals</td>\n",
       "      <td>6196</td>\n",
       "    </tr>\n",
       "    <tr>\n",
       "      <th>19</th>\n",
       "      <td>Arts and Design</td>\n",
       "      <td>Graphic Design Essentials: Tools and Techniques</td>\n",
       "      <td>6117</td>\n",
       "    </tr>\n",
       "    <tr>\n",
       "      <th>17</th>\n",
       "      <td>Business and Management</td>\n",
       "      <td>Project Management: From Initiation to Execution</td>\n",
       "      <td>6857</td>\n",
       "    </tr>\n",
       "    <tr>\n",
       "      <th>16</th>\n",
       "      <td>Business and Management</td>\n",
       "      <td>Financial Analysis for Decision-Making</td>\n",
       "      <td>4575</td>\n",
       "    </tr>\n",
       "    <tr>\n",
       "      <th>12</th>\n",
       "      <td>Education</td>\n",
       "      <td>Early Childhood Education Fundamentals</td>\n",
       "      <td>8285</td>\n",
       "    </tr>\n",
       "    <tr>\n",
       "      <th>62</th>\n",
       "      <td>Education</td>\n",
       "      <td>Childhood Education Fundamentals</td>\n",
       "      <td>7785</td>\n",
       "    </tr>\n",
       "    <tr>\n",
       "      <th>3</th>\n",
       "      <td>Health</td>\n",
       "      <td>First Aid and CPR Certification</td>\n",
       "      <td>8483</td>\n",
       "    </tr>\n",
       "    <tr>\n",
       "      <th>51</th>\n",
       "      <td>Health</td>\n",
       "      <td>Introduction to Medical Terminology</td>\n",
       "      <td>6379</td>\n",
       "    </tr>\n",
       "    <tr>\n",
       "      <th>38</th>\n",
       "      <td>Personal Development</td>\n",
       "      <td>Public Speaking and Communication Mastery</td>\n",
       "      <td>8970</td>\n",
       "    </tr>\n",
       "    <tr>\n",
       "      <th>40</th>\n",
       "      <td>Personal Development</td>\n",
       "      <td>The Art of Negotiation and Persuasion</td>\n",
       "      <td>7953</td>\n",
       "    </tr>\n",
       "    <tr>\n",
       "      <th>27</th>\n",
       "      <td>Science and Mathematics</td>\n",
       "      <td>Biology: Understanding the Human Body</td>\n",
       "      <td>9821</td>\n",
       "    </tr>\n",
       "    <tr>\n",
       "      <th>33</th>\n",
       "      <td>Science and Mathematics</td>\n",
       "      <td>Marine Biology: Life Under the Sea</td>\n",
       "      <td>9320</td>\n",
       "    </tr>\n",
       "    <tr>\n",
       "      <th>29</th>\n",
       "      <td>Technology and Programming</td>\n",
       "      <td>Full-Stack Web Development Bootcamp</td>\n",
       "      <td>9989</td>\n",
       "    </tr>\n",
       "    <tr>\n",
       "      <th>35</th>\n",
       "      <td>Technology and Programming</td>\n",
       "      <td>Mastering React: Advanced Concepts</td>\n",
       "      <td>9445</td>\n",
       "    </tr>\n",
       "  </tbody>\n",
       "</table>\n",
       "</div>"
      ],
      "text/plain": [
       "                      category  \\\n",
       "20             Arts and Design   \n",
       "19             Arts and Design   \n",
       "17     Business and Management   \n",
       "16     Business and Management   \n",
       "12                   Education   \n",
       "62                   Education   \n",
       "3                       Health   \n",
       "51                      Health   \n",
       "38        Personal Development   \n",
       "40        Personal Development   \n",
       "27     Science and Mathematics   \n",
       "33     Science and Mathematics   \n",
       "29  Technology and Programming   \n",
       "35  Technology and Programming   \n",
       "\n",
       "                                               title  view_count  \n",
       "20                         UX/UI Design Fundamentals        6196  \n",
       "19   Graphic Design Essentials: Tools and Techniques        6117  \n",
       "17  Project Management: From Initiation to Execution        6857  \n",
       "16            Financial Analysis for Decision-Making        4575  \n",
       "12            Early Childhood Education Fundamentals        8285  \n",
       "62                  Childhood Education Fundamentals        7785  \n",
       "3                    First Aid and CPR Certification        8483  \n",
       "51               Introduction to Medical Terminology        6379  \n",
       "38         Public Speaking and Communication Mastery        8970  \n",
       "40             The Art of Negotiation and Persuasion        7953  \n",
       "27             Biology: Understanding the Human Body        9821  \n",
       "33                Marine Biology: Life Under the Sea        9320  \n",
       "29               Full-Stack Web Development Bootcamp        9989  \n",
       "35                Mastering React: Advanced Concepts        9445  "
      ]
     },
     "execution_count": 185,
     "metadata": {},
     "output_type": "execute_result"
    }
   ],
   "source": [
    "sorted_courses = courses_df.sort_values(by=['category', 'view_count'], ascending=[True, False])\n",
    "sorted_courses[['category', 'title', 'view_count']].groupby('category').head(2)\n"
   ]
  },
  {
   "cell_type": "markdown",
   "id": "84df4554-ffdd-401f-b297-f6d64795a0f7",
   "metadata": {},
   "source": [
    "**74. What is the average course duration per category.**"
   ]
  },
  {
   "cell_type": "markdown",
   "id": "2bcafc4d-8d3f-4755-9c70-e50f25dce58a",
   "metadata": {},
   "source": [
    "*Convert 'length' from 'hours:minutes' to total minutes, add a new column 'total_minutes'. \\\n",
    "Calculate the average total minutes per category.\\\n",
    "Convert the average duration back to hours and minutes format.\\\n",
    "Drop the intermediate 'total_minutes' column.*"
   ]
  },
  {
   "cell_type": "code",
   "execution_count": 188,
   "id": "9504cfaa-d241-4529-b434-d2c2057362ca",
   "metadata": {},
   "outputs": [
    {
     "data": {
      "text/html": [
       "<div>\n",
       "<style scoped>\n",
       "    .dataframe tbody tr th:only-of-type {\n",
       "        vertical-align: middle;\n",
       "    }\n",
       "\n",
       "    .dataframe tbody tr th {\n",
       "        vertical-align: top;\n",
       "    }\n",
       "\n",
       "    .dataframe thead th {\n",
       "        text-align: right;\n",
       "    }\n",
       "</style>\n",
       "<table border=\"1\" class=\"dataframe\">\n",
       "  <thead>\n",
       "    <tr style=\"text-align: right;\">\n",
       "      <th></th>\n",
       "      <th>category</th>\n",
       "      <th>average_duration</th>\n",
       "    </tr>\n",
       "  </thead>\n",
       "  <tbody>\n",
       "    <tr>\n",
       "      <th>0</th>\n",
       "      <td>Arts and Design</td>\n",
       "      <td>8 hours 1 minutes</td>\n",
       "    </tr>\n",
       "    <tr>\n",
       "      <th>1</th>\n",
       "      <td>Business and Management</td>\n",
       "      <td>6 hours 57 minutes</td>\n",
       "    </tr>\n",
       "    <tr>\n",
       "      <th>2</th>\n",
       "      <td>Education</td>\n",
       "      <td>8 hours 19 minutes</td>\n",
       "    </tr>\n",
       "    <tr>\n",
       "      <th>3</th>\n",
       "      <td>Health</td>\n",
       "      <td>11 hours 57 minutes</td>\n",
       "    </tr>\n",
       "    <tr>\n",
       "      <th>4</th>\n",
       "      <td>Personal Development</td>\n",
       "      <td>10 hours 4 minutes</td>\n",
       "    </tr>\n",
       "    <tr>\n",
       "      <th>5</th>\n",
       "      <td>Science and Mathematics</td>\n",
       "      <td>11 hours 33 minutes</td>\n",
       "    </tr>\n",
       "    <tr>\n",
       "      <th>6</th>\n",
       "      <td>Technology and Programming</td>\n",
       "      <td>12 hours 29 minutes</td>\n",
       "    </tr>\n",
       "  </tbody>\n",
       "</table>\n",
       "</div>"
      ],
      "text/plain": [
       "                     category     average_duration\n",
       "0             Arts and Design    8 hours 1 minutes\n",
       "1     Business and Management   6 hours 57 minutes\n",
       "2                   Education   8 hours 19 minutes\n",
       "3                      Health  11 hours 57 minutes\n",
       "4        Personal Development   10 hours 4 minutes\n",
       "5     Science and Mathematics  11 hours 33 minutes\n",
       "6  Technology and Programming  12 hours 29 minutes"
      ]
     },
     "execution_count": 188,
     "metadata": {},
     "output_type": "execute_result"
    }
   ],
   "source": [
    "courses_df['total_minutes'] = courses_df['length'].apply(lambda x: int(x.split(':')[0]) * 60 + int(x.split(':')[1]))\n",
    "df = courses_df.groupby('category')['total_minutes'].mean().reset_index()\n",
    "df['average_duration'] = (df['total_minutes'] // 60).astype(int).astype(str) + ' hours ' + (df['total_minutes'] % 60).astype(int).astype(str) + ' minutes'\n",
    "df = df.drop(columns=['total_minutes'])\n",
    "df"
   ]
  },
  {
   "cell_type": "markdown",
   "id": "bf7f2b8c-1f7a-41f6-8222-204078e382d9",
   "metadata": {},
   "source": [
    "**75. Find the top 5 highest revenue generating courses**"
   ]
  },
  {
   "cell_type": "markdown",
   "id": "954bf575-b73e-4c45-a578-dae58aa79276",
   "metadata": {},
   "source": [
    "*Merge enrollments and payments using 'enrollment_id'\\\n",
    "Filter for successful payments\\\n",
    "Merge with courses to include course titles\\\n",
    "Calculate total revenue for each course by grouping on title and calculate sum for amount_paid\\\n",
    "Find the top 5 courses with the highest revenue*"
   ]
  },
  {
   "cell_type": "code",
   "execution_count": 191,
   "id": "e2f67e75-d62a-4f80-9280-f1fbdff235db",
   "metadata": {},
   "outputs": [
    {
     "data": {
      "text/html": [
       "<div>\n",
       "<style scoped>\n",
       "    .dataframe tbody tr th:only-of-type {\n",
       "        vertical-align: middle;\n",
       "    }\n",
       "\n",
       "    .dataframe tbody tr th {\n",
       "        vertical-align: top;\n",
       "    }\n",
       "\n",
       "    .dataframe thead th {\n",
       "        text-align: right;\n",
       "    }\n",
       "</style>\n",
       "<table border=\"1\" class=\"dataframe\">\n",
       "  <thead>\n",
       "    <tr style=\"text-align: right;\">\n",
       "      <th></th>\n",
       "      <th>title</th>\n",
       "      <th>amount_paid</th>\n",
       "    </tr>\n",
       "  </thead>\n",
       "  <tbody>\n",
       "    <tr>\n",
       "      <th>18</th>\n",
       "      <td>Photography: From Beginner to Pro</td>\n",
       "      <td>345.80</td>\n",
       "    </tr>\n",
       "    <tr>\n",
       "      <th>22</th>\n",
       "      <td>Special Education: Understanding Disabilities</td>\n",
       "      <td>335.80</td>\n",
       "    </tr>\n",
       "    <tr>\n",
       "      <th>2</th>\n",
       "      <td>Advanced Data structures through C++</td>\n",
       "      <td>295.25</td>\n",
       "    </tr>\n",
       "    <tr>\n",
       "      <th>9</th>\n",
       "      <td>Full-Stack Web Development Bootcamp</td>\n",
       "      <td>278.00</td>\n",
       "    </tr>\n",
       "    <tr>\n",
       "      <th>21</th>\n",
       "      <td>Renewable Energy: Technologies and Applications</td>\n",
       "      <td>249.00</td>\n",
       "    </tr>\n",
       "  </tbody>\n",
       "</table>\n",
       "</div>"
      ],
      "text/plain": [
       "                                              title  amount_paid\n",
       "18                Photography: From Beginner to Pro       345.80\n",
       "22    Special Education: Understanding Disabilities       335.80\n",
       "2              Advanced Data structures through C++       295.25\n",
       "9               Full-Stack Web Development Bootcamp       278.00\n",
       "21  Renewable Energy: Technologies and Applications       249.00"
      ]
     },
     "execution_count": 191,
     "metadata": {},
     "output_type": "execute_result"
    }
   ],
   "source": [
    "merged_data = pd.merge(enrollments_df, payments_df, on='enrollment_id', how='inner')\n",
    "successful_payments = merged_data[merged_data['payment_status'] == 'success']\n",
    "revenue_data = pd.merge(successful_payments, courses_df[['course_id', 'title']], on='course_id', how='inner')\n",
    "course_revenue = revenue_data.groupby('title')['amount_paid'].sum().reset_index()\n",
    "course_revenue.nlargest(5, 'amount_paid')"
   ]
  },
  {
   "cell_type": "markdown",
   "id": "dcf7cd0b-91ef-427d-974b-f052db7686ec",
   "metadata": {},
   "source": [
    "**76. What is the average transaction amount for each payment method.**"
   ]
  },
  {
   "cell_type": "markdown",
   "id": "9611d53e-1dda-499f-bdee-16f542b9b695",
   "metadata": {},
   "source": [
    "*Filter only successful payments and group by payment_method and calculate the average amount_paid*"
   ]
  },
  {
   "cell_type": "code",
   "execution_count": 194,
   "id": "bb06fbc9-39b3-4899-99fe-a6da3e1a7c1c",
   "metadata": {
    "scrolled": true
   },
   "outputs": [
    {
     "data": {
      "text/html": [
       "<div>\n",
       "<style scoped>\n",
       "    .dataframe tbody tr th:only-of-type {\n",
       "        vertical-align: middle;\n",
       "    }\n",
       "\n",
       "    .dataframe tbody tr th {\n",
       "        vertical-align: top;\n",
       "    }\n",
       "\n",
       "    .dataframe thead th {\n",
       "        text-align: right;\n",
       "    }\n",
       "</style>\n",
       "<table border=\"1\" class=\"dataframe\">\n",
       "  <thead>\n",
       "    <tr style=\"text-align: right;\">\n",
       "      <th></th>\n",
       "      <th>payment_method</th>\n",
       "      <th>Average Transaction Amount</th>\n",
       "    </tr>\n",
       "  </thead>\n",
       "  <tbody>\n",
       "    <tr>\n",
       "      <th>0</th>\n",
       "      <td>PayPal</td>\n",
       "      <td>78.692857</td>\n",
       "    </tr>\n",
       "    <tr>\n",
       "      <th>1</th>\n",
       "      <td>UPI</td>\n",
       "      <td>87.491667</td>\n",
       "    </tr>\n",
       "    <tr>\n",
       "      <th>2</th>\n",
       "      <td>card</td>\n",
       "      <td>99.450000</td>\n",
       "    </tr>\n",
       "  </tbody>\n",
       "</table>\n",
       "</div>"
      ],
      "text/plain": [
       "  payment_method  Average Transaction Amount\n",
       "0         PayPal                   78.692857\n",
       "1            UPI                   87.491667\n",
       "2           card                   99.450000"
      ]
     },
     "execution_count": 194,
     "metadata": {},
     "output_type": "execute_result"
    }
   ],
   "source": [
    "successful_payments = payments_df[payments_df['payment_status'] == 'success']\n",
    "successful_payments.groupby('payment_method')['amount_paid'].mean().reset_index(name ='Average Transaction Amount')"
   ]
  },
  {
   "cell_type": "markdown",
   "id": "00e2a40c-b263-4a8e-a7a8-d411ad6a2d9d",
   "metadata": {},
   "source": [
    "**77. Calulate the average rating for each course and add a column average_rating in courses_df**"
   ]
  },
  {
   "cell_type": "markdown",
   "id": "ffa908f9-eaf8-49e2-ba87-a961ddb37199",
   "metadata": {},
   "source": [
    "*Calculate the average rating for each course.*\n",
    "*Use map to add the average_rating to courses_df based on course_id*. \n",
    "*Display the updated courses_df*"
   ]
  },
  {
   "cell_type": "code",
   "execution_count": 197,
   "id": "ac263f96-2769-4feb-a703-49fd94b2c455",
   "metadata": {},
   "outputs": [
    {
     "data": {
      "text/html": [
       "<div>\n",
       "<style scoped>\n",
       "    .dataframe tbody tr th:only-of-type {\n",
       "        vertical-align: middle;\n",
       "    }\n",
       "\n",
       "    .dataframe tbody tr th {\n",
       "        vertical-align: top;\n",
       "    }\n",
       "\n",
       "    .dataframe thead th {\n",
       "        text-align: right;\n",
       "    }\n",
       "</style>\n",
       "<table border=\"1\" class=\"dataframe\">\n",
       "  <thead>\n",
       "    <tr style=\"text-align: right;\">\n",
       "      <th></th>\n",
       "      <th>course_id</th>\n",
       "      <th>title</th>\n",
       "      <th>category</th>\n",
       "      <th>language</th>\n",
       "      <th>subtitles</th>\n",
       "      <th>price</th>\n",
       "      <th>instructor_id</th>\n",
       "      <th>length</th>\n",
       "      <th>difficulty_level</th>\n",
       "      <th>created_on</th>\n",
       "      <th>last_updated_on</th>\n",
       "      <th>number_of_videos</th>\n",
       "      <th>number_of_quizzes</th>\n",
       "      <th>view_count</th>\n",
       "      <th>average_watch_duration</th>\n",
       "      <th>certification_available</th>\n",
       "      <th>completion_rate</th>\n",
       "      <th>bookmark_count</th>\n",
       "      <th>total_minutes</th>\n",
       "      <th>average_rating</th>\n",
       "    </tr>\n",
       "  </thead>\n",
       "  <tbody>\n",
       "    <tr>\n",
       "      <th>0</th>\n",
       "      <td>54145</td>\n",
       "      <td>Data structures through C++</td>\n",
       "      <td>Technology and Programming</td>\n",
       "      <td>English</td>\n",
       "      <td>no</td>\n",
       "      <td>0</td>\n",
       "      <td>668495</td>\n",
       "      <td>10:16</td>\n",
       "      <td>Beginner</td>\n",
       "      <td>2020-11-18</td>\n",
       "      <td>2025-01-09</td>\n",
       "      <td>28</td>\n",
       "      <td>9</td>\n",
       "      <td>514</td>\n",
       "      <td>00:41</td>\n",
       "      <td>yes</td>\n",
       "      <td>43.71</td>\n",
       "      <td>188</td>\n",
       "      <td>616</td>\n",
       "      <td>4.000000</td>\n",
       "    </tr>\n",
       "    <tr>\n",
       "      <th>1</th>\n",
       "      <td>45770</td>\n",
       "      <td>Advanced Mathematics for Engineers</td>\n",
       "      <td>Science and Mathematics</td>\n",
       "      <td>English</td>\n",
       "      <td>yes</td>\n",
       "      <td>0</td>\n",
       "      <td>767050</td>\n",
       "      <td>20:28</td>\n",
       "      <td>Intermediate</td>\n",
       "      <td>2020-10-04</td>\n",
       "      <td>2025-01-07</td>\n",
       "      <td>23</td>\n",
       "      <td>8</td>\n",
       "      <td>7570</td>\n",
       "      <td>08:12</td>\n",
       "      <td>no</td>\n",
       "      <td>46.27</td>\n",
       "      <td>83</td>\n",
       "      <td>1228</td>\n",
       "      <td>NaN</td>\n",
       "    </tr>\n",
       "    <tr>\n",
       "      <th>2</th>\n",
       "      <td>33057</td>\n",
       "      <td>Advanced Data structures through Python</td>\n",
       "      <td>Technology and Programming</td>\n",
       "      <td>Hindi</td>\n",
       "      <td>yes</td>\n",
       "      <td>0</td>\n",
       "      <td>220585</td>\n",
       "      <td>11:35</td>\n",
       "      <td>Intermediate</td>\n",
       "      <td>2021-11-16</td>\n",
       "      <td>2025-01-14</td>\n",
       "      <td>57</td>\n",
       "      <td>4</td>\n",
       "      <td>5265</td>\n",
       "      <td>12:35</td>\n",
       "      <td>yes</td>\n",
       "      <td>44.74</td>\n",
       "      <td>165</td>\n",
       "      <td>695</td>\n",
       "      <td>4.375000</td>\n",
       "    </tr>\n",
       "    <tr>\n",
       "      <th>3</th>\n",
       "      <td>64796</td>\n",
       "      <td>First Aid and CPR Certification</td>\n",
       "      <td>Health</td>\n",
       "      <td>English</td>\n",
       "      <td>yes</td>\n",
       "      <td>0</td>\n",
       "      <td>871007</td>\n",
       "      <td>10:20</td>\n",
       "      <td>Advanced</td>\n",
       "      <td>2020-08-24</td>\n",
       "      <td>2025-01-08</td>\n",
       "      <td>82</td>\n",
       "      <td>1</td>\n",
       "      <td>8483</td>\n",
       "      <td>01:46</td>\n",
       "      <td>no</td>\n",
       "      <td>20.55</td>\n",
       "      <td>32</td>\n",
       "      <td>620</td>\n",
       "      <td>4.000000</td>\n",
       "    </tr>\n",
       "    <tr>\n",
       "      <th>4</th>\n",
       "      <td>51293</td>\n",
       "      <td>Managing Diabetes and Chronic Diseases</td>\n",
       "      <td>Health</td>\n",
       "      <td>English</td>\n",
       "      <td>yes</td>\n",
       "      <td>0</td>\n",
       "      <td>278667</td>\n",
       "      <td>08:05</td>\n",
       "      <td>Intermediate</td>\n",
       "      <td>2020-03-07</td>\n",
       "      <td>2025-01-15</td>\n",
       "      <td>55</td>\n",
       "      <td>10</td>\n",
       "      <td>1429</td>\n",
       "      <td>13:21</td>\n",
       "      <td>no</td>\n",
       "      <td>49.40</td>\n",
       "      <td>279</td>\n",
       "      <td>485</td>\n",
       "      <td>3.428571</td>\n",
       "    </tr>\n",
       "  </tbody>\n",
       "</table>\n",
       "</div>"
      ],
      "text/plain": [
       "   course_id                                    title  \\\n",
       "0      54145              Data structures through C++   \n",
       "1      45770       Advanced Mathematics for Engineers   \n",
       "2      33057  Advanced Data structures through Python   \n",
       "3      64796          First Aid and CPR Certification   \n",
       "4      51293   Managing Diabetes and Chronic Diseases   \n",
       "\n",
       "                     category language subtitles  price  instructor_id length  \\\n",
       "0  Technology and Programming  English        no      0         668495  10:16   \n",
       "1     Science and Mathematics  English       yes      0         767050  20:28   \n",
       "2  Technology and Programming    Hindi       yes      0         220585  11:35   \n",
       "3                      Health  English       yes      0         871007  10:20   \n",
       "4                      Health  English       yes      0         278667  08:05   \n",
       "\n",
       "  difficulty_level created_on last_updated_on  number_of_videos  \\\n",
       "0         Beginner 2020-11-18      2025-01-09                28   \n",
       "1     Intermediate 2020-10-04      2025-01-07                23   \n",
       "2     Intermediate 2021-11-16      2025-01-14                57   \n",
       "3         Advanced 2020-08-24      2025-01-08                82   \n",
       "4     Intermediate 2020-03-07      2025-01-15                55   \n",
       "\n",
       "   number_of_quizzes  view_count average_watch_duration  \\\n",
       "0                  9         514                  00:41   \n",
       "1                  8        7570                  08:12   \n",
       "2                  4        5265                  12:35   \n",
       "3                  1        8483                  01:46   \n",
       "4                 10        1429                  13:21   \n",
       "\n",
       "  certification_available  completion_rate  bookmark_count  total_minutes  \\\n",
       "0                     yes            43.71             188            616   \n",
       "1                      no            46.27              83           1228   \n",
       "2                     yes            44.74             165            695   \n",
       "3                      no            20.55              32            620   \n",
       "4                      no            49.40             279            485   \n",
       "\n",
       "   average_rating  \n",
       "0        4.000000  \n",
       "1             NaN  \n",
       "2        4.375000  \n",
       "3        4.000000  \n",
       "4        3.428571  "
      ]
     },
     "execution_count": 197,
     "metadata": {},
     "output_type": "execute_result"
    }
   ],
   "source": [
    "average_ratings = ratings_df.groupby('course_id')['rating'].mean()\n",
    "courses_df['average_rating'] = courses_df['course_id'].map(average_ratings)\n",
    "courses_df.head()"
   ]
  },
  {
   "cell_type": "markdown",
   "id": "715fa925-5ff9-48c2-bca2-dfc15996e75a",
   "metadata": {},
   "source": [
    "**78. Find 2 top rated courses in each course category**"
   ]
  },
  {
   "cell_type": "markdown",
   "id": "c477e74d-a8b9-470a-ad1e-69dcc5c73e19",
   "metadata": {},
   "source": [
    "*Sort the courses by category and average_rating (descending order). Group by category and take the top 2 courses for each category. Display the result*"
   ]
  },
  {
   "cell_type": "code",
   "execution_count": 200,
   "id": "78bc71d1-11d6-4992-9de1-6934afe4d276",
   "metadata": {},
   "outputs": [
    {
     "data": {
      "text/html": [
       "<div>\n",
       "<style scoped>\n",
       "    .dataframe tbody tr th:only-of-type {\n",
       "        vertical-align: middle;\n",
       "    }\n",
       "\n",
       "    .dataframe tbody tr th {\n",
       "        vertical-align: top;\n",
       "    }\n",
       "\n",
       "    .dataframe thead th {\n",
       "        text-align: right;\n",
       "    }\n",
       "</style>\n",
       "<table border=\"1\" class=\"dataframe\">\n",
       "  <thead>\n",
       "    <tr style=\"text-align: right;\">\n",
       "      <th></th>\n",
       "      <th>category</th>\n",
       "      <th>course_id</th>\n",
       "      <th>title</th>\n",
       "      <th>average_rating</th>\n",
       "    </tr>\n",
       "  </thead>\n",
       "  <tbody>\n",
       "    <tr>\n",
       "      <th>0</th>\n",
       "      <td>Arts and Design</td>\n",
       "      <td>64561</td>\n",
       "      <td>Photography: From Beginner to Pro</td>\n",
       "      <td>5.000000</td>\n",
       "    </tr>\n",
       "    <tr>\n",
       "      <th>1</th>\n",
       "      <td>Arts and Design</td>\n",
       "      <td>85886</td>\n",
       "      <td>Graphic Design Essentials: Tools and Techniques</td>\n",
       "      <td>4.666667</td>\n",
       "    </tr>\n",
       "    <tr>\n",
       "      <th>2</th>\n",
       "      <td>Business and Management</td>\n",
       "      <td>53452</td>\n",
       "      <td>Entrepreneurship 101: Building Your First Startup</td>\n",
       "      <td>5.000000</td>\n",
       "    </tr>\n",
       "    <tr>\n",
       "      <th>3</th>\n",
       "      <td>Business and Management</td>\n",
       "      <td>79177</td>\n",
       "      <td>Financial Analysis for Decision-Making</td>\n",
       "      <td>4.333333</td>\n",
       "    </tr>\n",
       "    <tr>\n",
       "      <th>4</th>\n",
       "      <td>Education</td>\n",
       "      <td>23531</td>\n",
       "      <td>Childhood Education Fundamentals</td>\n",
       "      <td>4.800000</td>\n",
       "    </tr>\n",
       "    <tr>\n",
       "      <th>5</th>\n",
       "      <td>Education</td>\n",
       "      <td>97039</td>\n",
       "      <td>Early Childhood Education Fundamentals</td>\n",
       "      <td>4.500000</td>\n",
       "    </tr>\n",
       "    <tr>\n",
       "      <th>6</th>\n",
       "      <td>Health</td>\n",
       "      <td>20671</td>\n",
       "      <td>Anatomy and Physiology: Understanding the Huma...</td>\n",
       "      <td>5.000000</td>\n",
       "    </tr>\n",
       "    <tr>\n",
       "      <th>7</th>\n",
       "      <td>Health</td>\n",
       "      <td>69513</td>\n",
       "      <td>Introduction to Medical Terminology</td>\n",
       "      <td>4.500000</td>\n",
       "    </tr>\n",
       "    <tr>\n",
       "      <th>8</th>\n",
       "      <td>Personal Development</td>\n",
       "      <td>99133</td>\n",
       "      <td>The Art of Negotiation and Persuasion</td>\n",
       "      <td>4.500000</td>\n",
       "    </tr>\n",
       "    <tr>\n",
       "      <th>9</th>\n",
       "      <td>Personal Development</td>\n",
       "      <td>57353</td>\n",
       "      <td>Public Speaking and Communication Mastery</td>\n",
       "      <td>4.000000</td>\n",
       "    </tr>\n",
       "    <tr>\n",
       "      <th>10</th>\n",
       "      <td>Science and Mathematics</td>\n",
       "      <td>27431</td>\n",
       "      <td>Biology: Understanding the Human Body</td>\n",
       "      <td>4.666667</td>\n",
       "    </tr>\n",
       "    <tr>\n",
       "      <th>11</th>\n",
       "      <td>Science and Mathematics</td>\n",
       "      <td>77946</td>\n",
       "      <td>Biotechnology: Applications and Impact</td>\n",
       "      <td>4.666667</td>\n",
       "    </tr>\n",
       "    <tr>\n",
       "      <th>12</th>\n",
       "      <td>Technology and Programming</td>\n",
       "      <td>32369</td>\n",
       "      <td>Python Masterclass</td>\n",
       "      <td>4.666667</td>\n",
       "    </tr>\n",
       "    <tr>\n",
       "      <th>13</th>\n",
       "      <td>Technology and Programming</td>\n",
       "      <td>51452</td>\n",
       "      <td>Data structures through C</td>\n",
       "      <td>4.600000</td>\n",
       "    </tr>\n",
       "  </tbody>\n",
       "</table>\n",
       "</div>"
      ],
      "text/plain": [
       "                      category  course_id  \\\n",
       "0              Arts and Design      64561   \n",
       "1              Arts and Design      85886   \n",
       "2      Business and Management      53452   \n",
       "3      Business and Management      79177   \n",
       "4                    Education      23531   \n",
       "5                    Education      97039   \n",
       "6                       Health      20671   \n",
       "7                       Health      69513   \n",
       "8         Personal Development      99133   \n",
       "9         Personal Development      57353   \n",
       "10     Science and Mathematics      27431   \n",
       "11     Science and Mathematics      77946   \n",
       "12  Technology and Programming      32369   \n",
       "13  Technology and Programming      51452   \n",
       "\n",
       "                                                title  average_rating  \n",
       "0                   Photography: From Beginner to Pro        5.000000  \n",
       "1     Graphic Design Essentials: Tools and Techniques        4.666667  \n",
       "2   Entrepreneurship 101: Building Your First Startup        5.000000  \n",
       "3              Financial Analysis for Decision-Making        4.333333  \n",
       "4                    Childhood Education Fundamentals        4.800000  \n",
       "5              Early Childhood Education Fundamentals        4.500000  \n",
       "6   Anatomy and Physiology: Understanding the Huma...        5.000000  \n",
       "7                 Introduction to Medical Terminology        4.500000  \n",
       "8               The Art of Negotiation and Persuasion        4.500000  \n",
       "9           Public Speaking and Communication Mastery        4.000000  \n",
       "10              Biology: Understanding the Human Body        4.666667  \n",
       "11             Biotechnology: Applications and Impact        4.666667  \n",
       "12                                 Python Masterclass        4.666667  \n",
       "13                          Data structures through C        4.600000  "
      ]
     },
     "execution_count": 200,
     "metadata": {},
     "output_type": "execute_result"
    }
   ],
   "source": [
    "courses_df_sorted = courses_df.sort_values(by=['category', 'average_rating'], ascending=[True, False])\n",
    "top_courses = courses_df_sorted.groupby('category').head(2).reset_index()\n",
    "top_courses[['category', 'course_id', 'title', 'average_rating']]"
   ]
  },
  {
   "cell_type": "markdown",
   "id": "9eff72f8-fa3a-42f2-9d7c-5df10b32508e",
   "metadata": {},
   "source": [
    "**79. Display the average rating of each course category**"
   ]
  },
  {
   "cell_type": "code",
   "execution_count": 202,
   "id": "b9a4b59a-1219-40cb-913b-7913459dd8f6",
   "metadata": {},
   "outputs": [
    {
     "data": {
      "text/html": [
       "<div>\n",
       "<style scoped>\n",
       "    .dataframe tbody tr th:only-of-type {\n",
       "        vertical-align: middle;\n",
       "    }\n",
       "\n",
       "    .dataframe tbody tr th {\n",
       "        vertical-align: top;\n",
       "    }\n",
       "\n",
       "    .dataframe thead th {\n",
       "        text-align: right;\n",
       "    }\n",
       "</style>\n",
       "<table border=\"1\" class=\"dataframe\">\n",
       "  <thead>\n",
       "    <tr style=\"text-align: right;\">\n",
       "      <th></th>\n",
       "      <th>category</th>\n",
       "      <th>average_rating</th>\n",
       "    </tr>\n",
       "  </thead>\n",
       "  <tbody>\n",
       "    <tr>\n",
       "      <th>0</th>\n",
       "      <td>Arts and Design</td>\n",
       "      <td>4.426667</td>\n",
       "    </tr>\n",
       "    <tr>\n",
       "      <th>1</th>\n",
       "      <td>Business and Management</td>\n",
       "      <td>4.276667</td>\n",
       "    </tr>\n",
       "    <tr>\n",
       "      <th>2</th>\n",
       "      <td>Education</td>\n",
       "      <td>4.015152</td>\n",
       "    </tr>\n",
       "    <tr>\n",
       "      <th>3</th>\n",
       "      <td>Health</td>\n",
       "      <td>4.191005</td>\n",
       "    </tr>\n",
       "    <tr>\n",
       "      <th>4</th>\n",
       "      <td>Personal Development</td>\n",
       "      <td>3.533333</td>\n",
       "    </tr>\n",
       "    <tr>\n",
       "      <th>5</th>\n",
       "      <td>Science and Mathematics</td>\n",
       "      <td>3.951667</td>\n",
       "    </tr>\n",
       "    <tr>\n",
       "      <th>6</th>\n",
       "      <td>Technology and Programming</td>\n",
       "      <td>4.025680</td>\n",
       "    </tr>\n",
       "  </tbody>\n",
       "</table>\n",
       "</div>"
      ],
      "text/plain": [
       "                     category  average_rating\n",
       "0             Arts and Design        4.426667\n",
       "1     Business and Management        4.276667\n",
       "2                   Education        4.015152\n",
       "3                      Health        4.191005\n",
       "4        Personal Development        3.533333\n",
       "5     Science and Mathematics        3.951667\n",
       "6  Technology and Programming        4.025680"
      ]
     },
     "execution_count": 202,
     "metadata": {},
     "output_type": "execute_result"
    }
   ],
   "source": [
    "courses_df.groupby('category')['average_rating'].mean().reset_index()"
   ]
  },
  {
   "cell_type": "markdown",
   "id": "11ffb0ab-4aaf-4e78-adc0-c48702694e6c",
   "metadata": {},
   "source": [
    "**80. Calculate the average rating for each instructor.**\n"
   ]
  },
  {
   "cell_type": "markdown",
   "id": "cd07096b-121f-46da-81dd-766d7c7b4dd5",
   "metadata": {},
   "source": [
    "*Group the courses_df by 'instructor_id' and calculate the mean 'average_rating' for each instructor*\\\n",
    "*Merge the resulting DataFrame with the users_df to get the names of instructors*\n"
   ]
  },
  {
   "cell_type": "code",
   "execution_count": 205,
   "id": "b02d0cb0-4a43-4bf4-bec8-23023729efdb",
   "metadata": {},
   "outputs": [
    {
     "data": {
      "text/html": [
       "<div>\n",
       "<style scoped>\n",
       "    .dataframe tbody tr th:only-of-type {\n",
       "        vertical-align: middle;\n",
       "    }\n",
       "\n",
       "    .dataframe tbody tr th {\n",
       "        vertical-align: top;\n",
       "    }\n",
       "\n",
       "    .dataframe thead th {\n",
       "        text-align: right;\n",
       "    }\n",
       "</style>\n",
       "<table border=\"1\" class=\"dataframe\">\n",
       "  <thead>\n",
       "    <tr style=\"text-align: right;\">\n",
       "      <th></th>\n",
       "      <th>instructor_id</th>\n",
       "      <th>average_rating</th>\n",
       "      <th>user_id</th>\n",
       "      <th>name</th>\n",
       "    </tr>\n",
       "  </thead>\n",
       "  <tbody>\n",
       "    <tr>\n",
       "      <th>0</th>\n",
       "      <td>173468</td>\n",
       "      <td>3.250000</td>\n",
       "      <td>173468</td>\n",
       "      <td>Mrs. Kimberly Parrish</td>\n",
       "    </tr>\n",
       "    <tr>\n",
       "      <th>1</th>\n",
       "      <td>204568</td>\n",
       "      <td>4.083333</td>\n",
       "      <td>204568</td>\n",
       "      <td>Michael Johnson</td>\n",
       "    </tr>\n",
       "    <tr>\n",
       "      <th>2</th>\n",
       "      <td>220585</td>\n",
       "      <td>4.296905</td>\n",
       "      <td>220585</td>\n",
       "      <td>Valerie Hernandez</td>\n",
       "    </tr>\n",
       "    <tr>\n",
       "      <th>3</th>\n",
       "      <td>241479</td>\n",
       "      <td>4.125000</td>\n",
       "      <td>241479</td>\n",
       "      <td>Charles Sanchez</td>\n",
       "    </tr>\n",
       "    <tr>\n",
       "      <th>4</th>\n",
       "      <td>278667</td>\n",
       "      <td>3.587302</td>\n",
       "      <td>278667</td>\n",
       "      <td>Michael Flores</td>\n",
       "    </tr>\n",
       "    <tr>\n",
       "      <th>5</th>\n",
       "      <td>288315</td>\n",
       "      <td>3.750000</td>\n",
       "      <td>288315</td>\n",
       "      <td>Mr. Scott Logan</td>\n",
       "    </tr>\n",
       "    <tr>\n",
       "      <th>6</th>\n",
       "      <td>295438</td>\n",
       "      <td>4.000000</td>\n",
       "      <td>295438</td>\n",
       "      <td>Justin Smith</td>\n",
       "    </tr>\n",
       "    <tr>\n",
       "      <th>7</th>\n",
       "      <td>364202</td>\n",
       "      <td>4.333333</td>\n",
       "      <td>364202</td>\n",
       "      <td>John Taylor</td>\n",
       "    </tr>\n",
       "    <tr>\n",
       "      <th>8</th>\n",
       "      <td>370558</td>\n",
       "      <td>4.500000</td>\n",
       "      <td>370558</td>\n",
       "      <td>John Armstrong</td>\n",
       "    </tr>\n",
       "    <tr>\n",
       "      <th>9</th>\n",
       "      <td>417012</td>\n",
       "      <td>3.800000</td>\n",
       "      <td>417012</td>\n",
       "      <td>Eugene Martinez</td>\n",
       "    </tr>\n",
       "    <tr>\n",
       "      <th>10</th>\n",
       "      <td>424379</td>\n",
       "      <td>4.200000</td>\n",
       "      <td>424379</td>\n",
       "      <td>Michael Walker</td>\n",
       "    </tr>\n",
       "    <tr>\n",
       "      <th>11</th>\n",
       "      <td>457246</td>\n",
       "      <td>4.016667</td>\n",
       "      <td>457246</td>\n",
       "      <td>Jorge Dougherty</td>\n",
       "    </tr>\n",
       "    <tr>\n",
       "      <th>12</th>\n",
       "      <td>525207</td>\n",
       "      <td>4.000000</td>\n",
       "      <td>525207</td>\n",
       "      <td>Jose Carrillo</td>\n",
       "    </tr>\n",
       "    <tr>\n",
       "      <th>13</th>\n",
       "      <td>536923</td>\n",
       "      <td>4.333333</td>\n",
       "      <td>536923</td>\n",
       "      <td>Alex Barnett</td>\n",
       "    </tr>\n",
       "    <tr>\n",
       "      <th>14</th>\n",
       "      <td>582060</td>\n",
       "      <td>4.222222</td>\n",
       "      <td>582060</td>\n",
       "      <td>Heather Johnson</td>\n",
       "    </tr>\n",
       "    <tr>\n",
       "      <th>15</th>\n",
       "      <td>632410</td>\n",
       "      <td>4.625000</td>\n",
       "      <td>632410</td>\n",
       "      <td>Jodi Cunningham</td>\n",
       "    </tr>\n",
       "    <tr>\n",
       "      <th>16</th>\n",
       "      <td>668495</td>\n",
       "      <td>3.850000</td>\n",
       "      <td>668495</td>\n",
       "      <td>Linda Camacho</td>\n",
       "    </tr>\n",
       "    <tr>\n",
       "      <th>17</th>\n",
       "      <td>712134</td>\n",
       "      <td>3.977778</td>\n",
       "      <td>712134</td>\n",
       "      <td>Jordan King</td>\n",
       "    </tr>\n",
       "    <tr>\n",
       "      <th>18</th>\n",
       "      <td>742878</td>\n",
       "      <td>4.650000</td>\n",
       "      <td>742878</td>\n",
       "      <td>Susan Smith</td>\n",
       "    </tr>\n",
       "    <tr>\n",
       "      <th>19</th>\n",
       "      <td>751788</td>\n",
       "      <td>4.222222</td>\n",
       "      <td>751788</td>\n",
       "      <td>Marvin Garcia</td>\n",
       "    </tr>\n",
       "    <tr>\n",
       "      <th>20</th>\n",
       "      <td>764597</td>\n",
       "      <td>4.033333</td>\n",
       "      <td>764597</td>\n",
       "      <td>Anthony Robinson</td>\n",
       "    </tr>\n",
       "    <tr>\n",
       "      <th>21</th>\n",
       "      <td>767050</td>\n",
       "      <td>3.750000</td>\n",
       "      <td>767050</td>\n",
       "      <td>Brian Anderson</td>\n",
       "    </tr>\n",
       "    <tr>\n",
       "      <th>22</th>\n",
       "      <td>838186</td>\n",
       "      <td>3.828571</td>\n",
       "      <td>838186</td>\n",
       "      <td>Derrick Weiss</td>\n",
       "    </tr>\n",
       "    <tr>\n",
       "      <th>23</th>\n",
       "      <td>871007</td>\n",
       "      <td>4.073333</td>\n",
       "      <td>871007</td>\n",
       "      <td>David Anderson</td>\n",
       "    </tr>\n",
       "  </tbody>\n",
       "</table>\n",
       "</div>"
      ],
      "text/plain": [
       "    instructor_id  average_rating  user_id                   name\n",
       "0          173468        3.250000   173468  Mrs. Kimberly Parrish\n",
       "1          204568        4.083333   204568        Michael Johnson\n",
       "2          220585        4.296905   220585      Valerie Hernandez\n",
       "3          241479        4.125000   241479        Charles Sanchez\n",
       "4          278667        3.587302   278667         Michael Flores\n",
       "5          288315        3.750000   288315        Mr. Scott Logan\n",
       "6          295438        4.000000   295438           Justin Smith\n",
       "7          364202        4.333333   364202            John Taylor\n",
       "8          370558        4.500000   370558         John Armstrong\n",
       "9          417012        3.800000   417012        Eugene Martinez\n",
       "10         424379        4.200000   424379         Michael Walker\n",
       "11         457246        4.016667   457246        Jorge Dougherty\n",
       "12         525207        4.000000   525207          Jose Carrillo\n",
       "13         536923        4.333333   536923           Alex Barnett\n",
       "14         582060        4.222222   582060        Heather Johnson\n",
       "15         632410        4.625000   632410        Jodi Cunningham\n",
       "16         668495        3.850000   668495          Linda Camacho\n",
       "17         712134        3.977778   712134            Jordan King\n",
       "18         742878        4.650000   742878            Susan Smith\n",
       "19         751788        4.222222   751788          Marvin Garcia\n",
       "20         764597        4.033333   764597       Anthony Robinson\n",
       "21         767050        3.750000   767050         Brian Anderson\n",
       "22         838186        3.828571   838186          Derrick Weiss\n",
       "23         871007        4.073333   871007         David Anderson"
      ]
     },
     "execution_count": 205,
     "metadata": {},
     "output_type": "execute_result"
    }
   ],
   "source": [
    "df = courses_df.groupby('instructor_id')['average_rating'].mean().reset_index()\n",
    "pd.merge(df, users_df[['user_id','name']], left_on = 'instructor_id', right_on = 'user_id', how='inner')"
   ]
  },
  {
   "cell_type": "markdown",
   "id": "ec9c6126-c516-4994-a63f-fa1d3add4a09",
   "metadata": {},
   "source": [
    "**81. Display courses with no ratings**"
   ]
  },
  {
   "cell_type": "markdown",
   "id": "0e5711c2-4e09-4d90-8a1c-14a41200b9c1",
   "metadata": {},
   "source": [
    "*Find courses with NaN average rating*"
   ]
  },
  {
   "cell_type": "code",
   "execution_count": 208,
   "id": "8415f4f4-1794-41c9-9227-369382243131",
   "metadata": {},
   "outputs": [
    {
     "data": {
      "text/html": [
       "<div>\n",
       "<style scoped>\n",
       "    .dataframe tbody tr th:only-of-type {\n",
       "        vertical-align: middle;\n",
       "    }\n",
       "\n",
       "    .dataframe tbody tr th {\n",
       "        vertical-align: top;\n",
       "    }\n",
       "\n",
       "    .dataframe thead th {\n",
       "        text-align: right;\n",
       "    }\n",
       "</style>\n",
       "<table border=\"1\" class=\"dataframe\">\n",
       "  <thead>\n",
       "    <tr style=\"text-align: right;\">\n",
       "      <th></th>\n",
       "      <th>course_id</th>\n",
       "      <th>title</th>\n",
       "      <th>average_rating</th>\n",
       "    </tr>\n",
       "  </thead>\n",
       "  <tbody>\n",
       "    <tr>\n",
       "      <th>1</th>\n",
       "      <td>45770</td>\n",
       "      <td>Advanced Mathematics for Engineers</td>\n",
       "      <td>NaN</td>\n",
       "    </tr>\n",
       "    <tr>\n",
       "      <th>24</th>\n",
       "      <td>64745</td>\n",
       "      <td>Physics Made Simple: Fundamentals to Advanced</td>\n",
       "      <td>NaN</td>\n",
       "    </tr>\n",
       "    <tr>\n",
       "      <th>28</th>\n",
       "      <td>58566</td>\n",
       "      <td>Introduction to Astrophysics</td>\n",
       "      <td>NaN</td>\n",
       "    </tr>\n",
       "    <tr>\n",
       "      <th>44</th>\n",
       "      <td>33454</td>\n",
       "      <td>Mental Health Awareness and Support</td>\n",
       "      <td>NaN</td>\n",
       "    </tr>\n",
       "  </tbody>\n",
       "</table>\n",
       "</div>"
      ],
      "text/plain": [
       "    course_id                                          title  average_rating\n",
       "1       45770             Advanced Mathematics for Engineers             NaN\n",
       "24      64745  Physics Made Simple: Fundamentals to Advanced             NaN\n",
       "28      58566                   Introduction to Astrophysics             NaN\n",
       "44      33454            Mental Health Awareness and Support             NaN"
      ]
     },
     "execution_count": 208,
     "metadata": {},
     "output_type": "execute_result"
    }
   ],
   "source": [
    "courses_df[courses_df['average_rating'].isna()][['course_id', 'title', 'average_rating']]"
   ]
  },
  {
   "cell_type": "markdown",
   "id": "b9584e14-d981-420f-9e22-f9323f48502a",
   "metadata": {},
   "source": [
    "**82. Find courses that have no students enrolled in them**"
   ]
  },
  {
   "cell_type": "markdown",
   "id": "f3932068-7817-446b-ba38-f8e45bc65620",
   "metadata": {},
   "source": [
    "*Identify courses with enrollments by using unique() on 'course_id' column in enrollments_df\\\n",
    "Find courses with no enrollments by using ~ operator and isin()*"
   ]
  },
  {
   "cell_type": "code",
   "execution_count": 211,
   "id": "d77b43a7-241b-40ab-a191-75639a154f7b",
   "metadata": {},
   "outputs": [
    {
     "data": {
      "text/html": [
       "<div>\n",
       "<style scoped>\n",
       "    .dataframe tbody tr th:only-of-type {\n",
       "        vertical-align: middle;\n",
       "    }\n",
       "\n",
       "    .dataframe tbody tr th {\n",
       "        vertical-align: top;\n",
       "    }\n",
       "\n",
       "    .dataframe thead th {\n",
       "        text-align: right;\n",
       "    }\n",
       "</style>\n",
       "<table border=\"1\" class=\"dataframe\">\n",
       "  <thead>\n",
       "    <tr style=\"text-align: right;\">\n",
       "      <th></th>\n",
       "      <th>course_id</th>\n",
       "      <th>title</th>\n",
       "    </tr>\n",
       "  </thead>\n",
       "  <tbody>\n",
       "    <tr>\n",
       "      <th>18</th>\n",
       "      <td>53452</td>\n",
       "      <td>Entrepreneurship 101: Building Your First Startup</td>\n",
       "    </tr>\n",
       "    <tr>\n",
       "      <th>21</th>\n",
       "      <td>45749</td>\n",
       "      <td>Python for Data Science and Machine Learning</td>\n",
       "    </tr>\n",
       "    <tr>\n",
       "      <th>24</th>\n",
       "      <td>64745</td>\n",
       "      <td>Physics Made Simple: Fundamentals to Advanced</td>\n",
       "    </tr>\n",
       "    <tr>\n",
       "      <th>25</th>\n",
       "      <td>51452</td>\n",
       "      <td>Data structures through C</td>\n",
       "    </tr>\n",
       "    <tr>\n",
       "      <th>28</th>\n",
       "      <td>58566</td>\n",
       "      <td>Introduction to Astrophysics</td>\n",
       "    </tr>\n",
       "    <tr>\n",
       "      <th>30</th>\n",
       "      <td>12938</td>\n",
       "      <td>Climate Change: Science and Solutions</td>\n",
       "    </tr>\n",
       "    <tr>\n",
       "      <th>31</th>\n",
       "      <td>77946</td>\n",
       "      <td>Biotechnology: Applications and Impact</td>\n",
       "    </tr>\n",
       "    <tr>\n",
       "      <th>33</th>\n",
       "      <td>74770</td>\n",
       "      <td>Marine Biology: Life Under the Sea</td>\n",
       "    </tr>\n",
       "    <tr>\n",
       "      <th>37</th>\n",
       "      <td>68511</td>\n",
       "      <td>Mindfulness and Stress Management</td>\n",
       "    </tr>\n",
       "    <tr>\n",
       "      <th>38</th>\n",
       "      <td>57353</td>\n",
       "      <td>Public Speaking and Communication Mastery</td>\n",
       "    </tr>\n",
       "    <tr>\n",
       "      <th>41</th>\n",
       "      <td>60079</td>\n",
       "      <td>Time Management for Busy Professionals</td>\n",
       "    </tr>\n",
       "    <tr>\n",
       "      <th>43</th>\n",
       "      <td>56956</td>\n",
       "      <td>Data structures through C#</td>\n",
       "    </tr>\n",
       "    <tr>\n",
       "      <th>44</th>\n",
       "      <td>33454</td>\n",
       "      <td>Mental Health Awareness and Support</td>\n",
       "    </tr>\n",
       "    <tr>\n",
       "      <th>47</th>\n",
       "      <td>20671</td>\n",
       "      <td>Anatomy and Physiology: Understanding the Huma...</td>\n",
       "    </tr>\n",
       "    <tr>\n",
       "      <th>51</th>\n",
       "      <td>69513</td>\n",
       "      <td>Introduction to Medical Terminology</td>\n",
       "    </tr>\n",
       "    <tr>\n",
       "      <th>55</th>\n",
       "      <td>71838</td>\n",
       "      <td>Data structures through Java</td>\n",
       "    </tr>\n",
       "    <tr>\n",
       "      <th>61</th>\n",
       "      <td>42258</td>\n",
       "      <td>Developing Curriculum for K-12 Education</td>\n",
       "    </tr>\n",
       "    <tr>\n",
       "      <th>62</th>\n",
       "      <td>23531</td>\n",
       "      <td>Childhood Education Fundamentals</td>\n",
       "    </tr>\n",
       "  </tbody>\n",
       "</table>\n",
       "</div>"
      ],
      "text/plain": [
       "    course_id                                              title\n",
       "18      53452  Entrepreneurship 101: Building Your First Startup\n",
       "21      45749       Python for Data Science and Machine Learning\n",
       "24      64745      Physics Made Simple: Fundamentals to Advanced\n",
       "25      51452                          Data structures through C\n",
       "28      58566                       Introduction to Astrophysics\n",
       "30      12938              Climate Change: Science and Solutions\n",
       "31      77946             Biotechnology: Applications and Impact\n",
       "33      74770                 Marine Biology: Life Under the Sea\n",
       "37      68511                  Mindfulness and Stress Management\n",
       "38      57353          Public Speaking and Communication Mastery\n",
       "41      60079             Time Management for Busy Professionals\n",
       "43      56956                         Data structures through C#\n",
       "44      33454                Mental Health Awareness and Support\n",
       "47      20671  Anatomy and Physiology: Understanding the Huma...\n",
       "51      69513                Introduction to Medical Terminology\n",
       "55      71838                       Data structures through Java\n",
       "61      42258           Developing Curriculum for K-12 Education\n",
       "62      23531                   Childhood Education Fundamentals"
      ]
     },
     "execution_count": 211,
     "metadata": {},
     "output_type": "execute_result"
    }
   ],
   "source": [
    "enrolled_courses = enrollments_df['course_id'].unique()\n",
    "courses_df[~courses_df['course_id'].isin(enrolled_courses)][['course_id', 'title']] "
   ]
  },
  {
   "cell_type": "markdown",
   "id": "7db1c063-78e8-4405-8b6e-31ee14184381",
   "metadata": {},
   "source": [
    "**83. Find the number of students from each country based on their enrollments.**\n"
   ]
  },
  {
   "cell_type": "code",
   "execution_count": 213,
   "id": "fd57df2c-0fe4-4939-af07-ed6b329486b8",
   "metadata": {},
   "outputs": [
    {
     "data": {
      "text/plain": [
       "country\n",
       "China       59\n",
       "Germany      6\n",
       "India      100\n",
       "UK          37\n",
       "US          75\n",
       "dtype: int64"
      ]
     },
     "execution_count": 213,
     "metadata": {},
     "output_type": "execute_result"
    }
   ],
   "source": [
    "df = pd.merge(enrollments_df, users_df, left_on = 'student_id', right_on = 'user_id', how = 'inner')\n",
    "df.groupby('country').size()"
   ]
  },
  {
   "cell_type": "markdown",
   "id": "18fbcf27-dcbd-4d92-a07e-79abe92b6806",
   "metadata": {},
   "source": [
    "**84. Get the course popularity details by country i.e. find the course with the highest number of students in each country.**"
   ]
  },
  {
   "cell_type": "markdown",
   "id": "704adb51-b201-4926-a334-5b53cb618fb6",
   "metadata": {},
   "source": [
    "*Merge enrollments_df with users_df to get country information\\\n",
    "Group by country and course_id to count the number of students enrolled in each course in each country\\\n",
    "For each country, find the course with the highest number of students\\\n",
    "Merge with courses_df to get the course titles*"
   ]
  },
  {
   "cell_type": "code",
   "execution_count": 216,
   "id": "ccd7bf1e-f6c2-4c3a-8585-57d022ad0747",
   "metadata": {
    "scrolled": true
   },
   "outputs": [
    {
     "data": {
      "text/html": [
       "<div>\n",
       "<style scoped>\n",
       "    .dataframe tbody tr th:only-of-type {\n",
       "        vertical-align: middle;\n",
       "    }\n",
       "\n",
       "    .dataframe tbody tr th {\n",
       "        vertical-align: top;\n",
       "    }\n",
       "\n",
       "    .dataframe thead th {\n",
       "        text-align: right;\n",
       "    }\n",
       "</style>\n",
       "<table border=\"1\" class=\"dataframe\">\n",
       "  <thead>\n",
       "    <tr style=\"text-align: right;\">\n",
       "      <th></th>\n",
       "      <th>country</th>\n",
       "      <th>course_id</th>\n",
       "      <th>student_count</th>\n",
       "      <th>title</th>\n",
       "    </tr>\n",
       "  </thead>\n",
       "  <tbody>\n",
       "    <tr>\n",
       "      <th>0</th>\n",
       "      <td>China</td>\n",
       "      <td>49963</td>\n",
       "      <td>5</td>\n",
       "      <td>How to Teach Reading and Writing Effectively</td>\n",
       "    </tr>\n",
       "    <tr>\n",
       "      <th>1</th>\n",
       "      <td>Germany</td>\n",
       "      <td>27385</td>\n",
       "      <td>1</td>\n",
       "      <td>Mastering React: Advanced Concepts</td>\n",
       "    </tr>\n",
       "    <tr>\n",
       "      <th>2</th>\n",
       "      <td>India</td>\n",
       "      <td>93619</td>\n",
       "      <td>9</td>\n",
       "      <td>Environmental Science: Understanding Ecosystems</td>\n",
       "    </tr>\n",
       "    <tr>\n",
       "      <th>3</th>\n",
       "      <td>UK</td>\n",
       "      <td>64796</td>\n",
       "      <td>5</td>\n",
       "      <td>First Aid and CPR Certification</td>\n",
       "    </tr>\n",
       "    <tr>\n",
       "      <th>4</th>\n",
       "      <td>US</td>\n",
       "      <td>64796</td>\n",
       "      <td>8</td>\n",
       "      <td>First Aid and CPR Certification</td>\n",
       "    </tr>\n",
       "  </tbody>\n",
       "</table>\n",
       "</div>"
      ],
      "text/plain": [
       "   country  course_id  student_count  \\\n",
       "0    China      49963              5   \n",
       "1  Germany      27385              1   \n",
       "2    India      93619              9   \n",
       "3       UK      64796              5   \n",
       "4       US      64796              8   \n",
       "\n",
       "                                             title  \n",
       "0     How to Teach Reading and Writing Effectively  \n",
       "1               Mastering React: Advanced Concepts  \n",
       "2  Environmental Science: Understanding Ecosystems  \n",
       "3                  First Aid and CPR Certification  \n",
       "4                  First Aid and CPR Certification  "
      ]
     },
     "execution_count": 216,
     "metadata": {},
     "output_type": "execute_result"
    }
   ],
   "source": [
    "df = pd.merge(enrollments_df, users_df, left_on = 'student_id', right_on = 'user_id', how = 'inner')\n",
    "df = df.groupby(['country', 'course_id']).size().reset_index(name='student_count')\n",
    "df = df.loc[df.groupby('country')['student_count'].idxmax()]\n",
    "pd.merge(df, courses_df[['course_id', 'title']], on='course_id', how='left')"
   ]
  },
  {
   "cell_type": "markdown",
   "id": "c11e0830-f6b2-4c96-b71c-89bac4bca771",
   "metadata": {},
   "source": [
    "**85. Find the top 5 bestselling paid courses**"
   ]
  },
  {
   "cell_type": "markdown",
   "id": "12e2383c-e06d-4dc7-9b1f-bc9dab2d6c77",
   "metadata": {},
   "source": [
    "*Filter the successful payments\\\n",
    "Merge with enrollments_df to get the corresponding course_ids\\\n",
    "Calculate the total revenue for each course\\\n",
    "merge with courses_df to get course titles\\\n",
    "Get the top-selling courses using nlargest*"
   ]
  },
  {
   "cell_type": "code",
   "execution_count": 219,
   "id": "866e9fdb-e671-427a-95b0-e4c54d1930f7",
   "metadata": {},
   "outputs": [
    {
     "data": {
      "text/html": [
       "<div>\n",
       "<style scoped>\n",
       "    .dataframe tbody tr th:only-of-type {\n",
       "        vertical-align: middle;\n",
       "    }\n",
       "\n",
       "    .dataframe tbody tr th {\n",
       "        vertical-align: top;\n",
       "    }\n",
       "\n",
       "    .dataframe thead th {\n",
       "        text-align: right;\n",
       "    }\n",
       "</style>\n",
       "<table border=\"1\" class=\"dataframe\">\n",
       "  <thead>\n",
       "    <tr style=\"text-align: right;\">\n",
       "      <th></th>\n",
       "      <th>course_id</th>\n",
       "      <th>total_revenue</th>\n",
       "      <th>title</th>\n",
       "    </tr>\n",
       "  </thead>\n",
       "  <tbody>\n",
       "    <tr>\n",
       "      <th>15</th>\n",
       "      <td>64561</td>\n",
       "      <td>345.80</td>\n",
       "      <td>Photography: From Beginner to Pro</td>\n",
       "    </tr>\n",
       "    <tr>\n",
       "      <th>18</th>\n",
       "      <td>78724</td>\n",
       "      <td>335.80</td>\n",
       "      <td>Special Education: Understanding Disabilities</td>\n",
       "    </tr>\n",
       "    <tr>\n",
       "      <th>10</th>\n",
       "      <td>56446</td>\n",
       "      <td>295.25</td>\n",
       "      <td>Advanced Data structures through C++</td>\n",
       "    </tr>\n",
       "    <tr>\n",
       "      <th>1</th>\n",
       "      <td>21248</td>\n",
       "      <td>278.00</td>\n",
       "      <td>Full-Stack Web Development Bootcamp</td>\n",
       "    </tr>\n",
       "    <tr>\n",
       "      <th>14</th>\n",
       "      <td>62660</td>\n",
       "      <td>249.00</td>\n",
       "      <td>Renewable Energy: Technologies and Applications</td>\n",
       "    </tr>\n",
       "  </tbody>\n",
       "</table>\n",
       "</div>"
      ],
      "text/plain": [
       "    course_id  total_revenue                                            title\n",
       "15      64561         345.80                Photography: From Beginner to Pro\n",
       "18      78724         335.80    Special Education: Understanding Disabilities\n",
       "10      56446         295.25             Advanced Data structures through C++\n",
       "1       21248         278.00              Full-Stack Web Development Bootcamp\n",
       "14      62660         249.00  Renewable Energy: Technologies and Applications"
      ]
     },
     "execution_count": 219,
     "metadata": {},
     "output_type": "execute_result"
    }
   ],
   "source": [
    "df = payments_df[payments_df['payment_status']=='success']\n",
    "df = pd.merge(df, enrollments_df, on = 'enrollment_id')\n",
    "df = df.groupby('course_id')['amount_paid'].sum().reset_index(name='total_revenue')\n",
    "df = pd.merge(df, courses_df[['course_id','title']], on = 'course_id')\n",
    "df.nlargest(5,'total_revenue')"
   ]
  },
  {
   "cell_type": "markdown",
   "id": "2833bec7-e020-4597-80fb-54e7e72b4032",
   "metadata": {},
   "source": [
    "**86. Find the bestselling course in each category**"
   ]
  },
  {
   "cell_type": "markdown",
   "id": "4b545b16-97b8-4040-84fe-08a7a276e99c",
   "metadata": {},
   "source": [
    "*Filter successful payments\\\n",
    "Merge payments with enrollments to get course_ids\\\n",
    "Merge with courses to get category info for each course\\\n",
    "Group by category and course, and calculate total revenue (sum of amount_paid)\\\n",
    "For each category, find the course with the highest revenue*"
   ]
  },
  {
   "cell_type": "code",
   "execution_count": 222,
   "id": "a16c8efb-99c8-463e-bab1-0a259cd39c63",
   "metadata": {},
   "outputs": [
    {
     "data": {
      "text/html": [
       "<div>\n",
       "<style scoped>\n",
       "    .dataframe tbody tr th:only-of-type {\n",
       "        vertical-align: middle;\n",
       "    }\n",
       "\n",
       "    .dataframe tbody tr th {\n",
       "        vertical-align: top;\n",
       "    }\n",
       "\n",
       "    .dataframe thead th {\n",
       "        text-align: right;\n",
       "    }\n",
       "</style>\n",
       "<table border=\"1\" class=\"dataframe\">\n",
       "  <thead>\n",
       "    <tr style=\"text-align: right;\">\n",
       "      <th></th>\n",
       "      <th>category</th>\n",
       "      <th>course_id</th>\n",
       "      <th>title</th>\n",
       "      <th>total_revenue</th>\n",
       "    </tr>\n",
       "  </thead>\n",
       "  <tbody>\n",
       "    <tr>\n",
       "      <th>2</th>\n",
       "      <td>Arts and Design</td>\n",
       "      <td>64561</td>\n",
       "      <td>Photography: From Beginner to Pro</td>\n",
       "      <td>345.80</td>\n",
       "    </tr>\n",
       "    <tr>\n",
       "      <th>5</th>\n",
       "      <td>Education</td>\n",
       "      <td>78724</td>\n",
       "      <td>Special Education: Understanding Disabilities</td>\n",
       "      <td>335.80</td>\n",
       "    </tr>\n",
       "    <tr>\n",
       "      <th>12</th>\n",
       "      <td>Health</td>\n",
       "      <td>96323</td>\n",
       "      <td>Global Health and Epidemiology</td>\n",
       "      <td>173.70</td>\n",
       "    </tr>\n",
       "    <tr>\n",
       "      <th>14</th>\n",
       "      <td>Personal Development</td>\n",
       "      <td>99133</td>\n",
       "      <td>The Art of Negotiation and Persuasion</td>\n",
       "      <td>99.00</td>\n",
       "    </tr>\n",
       "    <tr>\n",
       "      <th>17</th>\n",
       "      <td>Science and Mathematics</td>\n",
       "      <td>62660</td>\n",
       "      <td>Renewable Energy: Technologies and Applications</td>\n",
       "      <td>249.00</td>\n",
       "    </tr>\n",
       "    <tr>\n",
       "      <th>24</th>\n",
       "      <td>Technology and Programming</td>\n",
       "      <td>56446</td>\n",
       "      <td>Advanced Data structures through C++</td>\n",
       "      <td>295.25</td>\n",
       "    </tr>\n",
       "  </tbody>\n",
       "</table>\n",
       "</div>"
      ],
      "text/plain": [
       "                      category  course_id  \\\n",
       "2              Arts and Design      64561   \n",
       "5                    Education      78724   \n",
       "12                      Health      96323   \n",
       "14        Personal Development      99133   \n",
       "17     Science and Mathematics      62660   \n",
       "24  Technology and Programming      56446   \n",
       "\n",
       "                                              title  total_revenue  \n",
       "2                 Photography: From Beginner to Pro         345.80  \n",
       "5     Special Education: Understanding Disabilities         335.80  \n",
       "12                   Global Health and Epidemiology         173.70  \n",
       "14            The Art of Negotiation and Persuasion          99.00  \n",
       "17  Renewable Energy: Technologies and Applications         249.00  \n",
       "24             Advanced Data structures through C++         295.25  "
      ]
     },
     "execution_count": 222,
     "metadata": {},
     "output_type": "execute_result"
    }
   ],
   "source": [
    "df = payments_df[payments_df['payment_status']=='success']\n",
    "df = pd.merge(df, enrollments_df, on = 'enrollment_id', how = 'inner')\n",
    "df = pd.merge(df, courses_df[['course_id','title', 'category']], on = 'course_id', how = 'left')\n",
    "df = df.groupby(['category','course_id', 'title'])['amount_paid'].sum().reset_index(name='total_revenue') \n",
    "df = df.loc[df.groupby('category')['total_revenue'].idxmax()]\n",
    "df"
   ]
  },
  {
   "cell_type": "markdown",
   "id": "cbc28a3e-fa01-4833-aba7-a41e80ebd540",
   "metadata": {},
   "source": [
    "**87. Calculate the number of free enrollments and paid enrollments**"
   ]
  },
  {
   "cell_type": "markdown",
   "id": "de6b13eb-5396-4433-83f4-b60a9efdbddc",
   "metadata": {},
   "source": [
    "*Merge enrollments with courses to include the price information*\\\n",
    "*Count free enrollments (price == 0) and  paid enrollments (price > 0)*"
   ]
  },
  {
   "cell_type": "code",
   "execution_count": 225,
   "id": "4c6b6202-94b1-452a-9c34-25ac9d34a28e",
   "metadata": {},
   "outputs": [
    {
     "name": "stdout",
     "output_type": "stream",
     "text": [
      "Number of free enrollments: 234\n",
      "Number of paid enrollments: 43\n"
     ]
    }
   ],
   "source": [
    "enrolled_courses = enrollments_df.merge(courses_df, on='course_id', how='inner')\n",
    "free_enrollments_count = (enrolled_courses['price'] == 0).sum()\n",
    "paid_enrollments_count = (enrolled_courses['price'] > 0).sum()\n",
    "print(\"Number of free enrollments:\", free_enrollments_count)\n",
    "print(\"Number of paid enrollments:\", paid_enrollments_count)"
   ]
  },
  {
   "cell_type": "markdown",
   "id": "ff5d8525-82d1-4692-925e-9a2356eed0b4",
   "metadata": {},
   "source": [
    "**88. Find correlation between the number of videos and the completion_rate.**"
   ]
  },
  {
   "cell_type": "code",
   "execution_count": 227,
   "id": "f4d8d0c1-e48a-4e6e-83c4-e2acfad1cb8a",
   "metadata": {},
   "outputs": [
    {
     "data": {
      "text/html": [
       "<div>\n",
       "<style scoped>\n",
       "    .dataframe tbody tr th:only-of-type {\n",
       "        vertical-align: middle;\n",
       "    }\n",
       "\n",
       "    .dataframe tbody tr th {\n",
       "        vertical-align: top;\n",
       "    }\n",
       "\n",
       "    .dataframe thead th {\n",
       "        text-align: right;\n",
       "    }\n",
       "</style>\n",
       "<table border=\"1\" class=\"dataframe\">\n",
       "  <thead>\n",
       "    <tr style=\"text-align: right;\">\n",
       "      <th></th>\n",
       "      <th>number_of_videos</th>\n",
       "      <th>completion_rate</th>\n",
       "    </tr>\n",
       "  </thead>\n",
       "  <tbody>\n",
       "    <tr>\n",
       "      <th>number_of_videos</th>\n",
       "      <td>1.000000</td>\n",
       "      <td>-0.066153</td>\n",
       "    </tr>\n",
       "    <tr>\n",
       "      <th>completion_rate</th>\n",
       "      <td>-0.066153</td>\n",
       "      <td>1.000000</td>\n",
       "    </tr>\n",
       "  </tbody>\n",
       "</table>\n",
       "</div>"
      ],
      "text/plain": [
       "                  number_of_videos  completion_rate\n",
       "number_of_videos          1.000000        -0.066153\n",
       "completion_rate          -0.066153         1.000000"
      ]
     },
     "execution_count": 227,
     "metadata": {},
     "output_type": "execute_result"
    }
   ],
   "source": [
    "courses_df[['number_of_videos', 'completion_rate']].corr()"
   ]
  },
  {
   "cell_type": "markdown",
   "id": "6d678178-4b00-4ff0-98bf-8496c4ab8c6a",
   "metadata": {},
   "source": [
    "**89. Find the correlation between number of Quizzes and average rating for each course**"
   ]
  },
  {
   "cell_type": "code",
   "execution_count": 229,
   "id": "e845dc6d-1ffe-45c0-a34c-99a842cc55e6",
   "metadata": {},
   "outputs": [
    {
     "data": {
      "text/html": [
       "<div>\n",
       "<style scoped>\n",
       "    .dataframe tbody tr th:only-of-type {\n",
       "        vertical-align: middle;\n",
       "    }\n",
       "\n",
       "    .dataframe tbody tr th {\n",
       "        vertical-align: top;\n",
       "    }\n",
       "\n",
       "    .dataframe thead th {\n",
       "        text-align: right;\n",
       "    }\n",
       "</style>\n",
       "<table border=\"1\" class=\"dataframe\">\n",
       "  <thead>\n",
       "    <tr style=\"text-align: right;\">\n",
       "      <th></th>\n",
       "      <th>number_of_quizzes</th>\n",
       "      <th>average_rating</th>\n",
       "    </tr>\n",
       "  </thead>\n",
       "  <tbody>\n",
       "    <tr>\n",
       "      <th>number_of_quizzes</th>\n",
       "      <td>1.000000</td>\n",
       "      <td>-0.213086</td>\n",
       "    </tr>\n",
       "    <tr>\n",
       "      <th>average_rating</th>\n",
       "      <td>-0.213086</td>\n",
       "      <td>1.000000</td>\n",
       "    </tr>\n",
       "  </tbody>\n",
       "</table>\n",
       "</div>"
      ],
      "text/plain": [
       "                   number_of_quizzes  average_rating\n",
       "number_of_quizzes           1.000000       -0.213086\n",
       "average_rating             -0.213086        1.000000"
      ]
     },
     "execution_count": 229,
     "metadata": {},
     "output_type": "execute_result"
    }
   ],
   "source": [
    "average_ratings = ratings_df.groupby('course_id')['rating'].mean()\n",
    "courses_df['average_rating'] = courses_df['course_id'].map(average_ratings)\n",
    "courses_df[['number_of_quizzes', 'average_rating']].corr()"
   ]
  },
  {
   "cell_type": "markdown",
   "id": "a5d21a7f-2922-4362-9fea-0e8cb1021985",
   "metadata": {},
   "source": [
    "**90. How many payment transactions failed using paypal**"
   ]
  },
  {
   "cell_type": "markdown",
   "id": "a6b82f4e-a6fb-4a88-9eb5-c20341976a4e",
   "metadata": {},
   "source": [
    "*Filter payments_df and get the number of rows*"
   ]
  },
  {
   "cell_type": "code",
   "execution_count": 232,
   "id": "10f0aa49-77e2-42aa-82ed-cc3209595d61",
   "metadata": {},
   "outputs": [
    {
     "data": {
      "text/plain": [
       "1"
      ]
     },
     "execution_count": 232,
     "metadata": {},
     "output_type": "execute_result"
    }
   ],
   "source": [
    "payments_df[ (payments_df['payment_method']=='PayPal') & (payments_df['payment_status']== 'failed')].shape[0]"
   ]
  },
  {
   "cell_type": "markdown",
   "id": "7bfa0b34-a972-4eac-8268-964db012713f",
   "metadata": {},
   "source": [
    "**91. Get a summary of payment methods, including how many successful, failed or pending payments are there for each method.**"
   ]
  },
  {
   "cell_type": "markdown",
   "id": "2ae117ab-7deb-4635-ac06-dce49c6f2efb",
   "metadata": {},
   "source": [
    "*Group the data by payment method and payment status*"
   ]
  },
  {
   "cell_type": "code",
   "execution_count": 235,
   "id": "92caf597-e642-4caf-af39-0bc1bfb33760",
   "metadata": {},
   "outputs": [
    {
     "data": {
      "text/html": [
       "<div>\n",
       "<style scoped>\n",
       "    .dataframe tbody tr th:only-of-type {\n",
       "        vertical-align: middle;\n",
       "    }\n",
       "\n",
       "    .dataframe tbody tr th {\n",
       "        vertical-align: top;\n",
       "    }\n",
       "\n",
       "    .dataframe thead th {\n",
       "        text-align: right;\n",
       "    }\n",
       "</style>\n",
       "<table border=\"1\" class=\"dataframe\">\n",
       "  <thead>\n",
       "    <tr style=\"text-align: right;\">\n",
       "      <th></th>\n",
       "      <th>payment_method</th>\n",
       "      <th>payment_status</th>\n",
       "      <th>count</th>\n",
       "    </tr>\n",
       "  </thead>\n",
       "  <tbody>\n",
       "    <tr>\n",
       "      <th>0</th>\n",
       "      <td>PayPal</td>\n",
       "      <td>failed</td>\n",
       "      <td>1</td>\n",
       "    </tr>\n",
       "    <tr>\n",
       "      <th>1</th>\n",
       "      <td>PayPal</td>\n",
       "      <td>success</td>\n",
       "      <td>14</td>\n",
       "    </tr>\n",
       "    <tr>\n",
       "      <th>2</th>\n",
       "      <td>UPI</td>\n",
       "      <td>pending</td>\n",
       "      <td>1</td>\n",
       "    </tr>\n",
       "    <tr>\n",
       "      <th>3</th>\n",
       "      <td>UPI</td>\n",
       "      <td>success</td>\n",
       "      <td>18</td>\n",
       "    </tr>\n",
       "    <tr>\n",
       "      <th>4</th>\n",
       "      <td>card</td>\n",
       "      <td>success</td>\n",
       "      <td>11</td>\n",
       "    </tr>\n",
       "  </tbody>\n",
       "</table>\n",
       "</div>"
      ],
      "text/plain": [
       "  payment_method payment_status  count\n",
       "0         PayPal         failed      1\n",
       "1         PayPal        success     14\n",
       "2            UPI        pending      1\n",
       "3            UPI        success     18\n",
       "4           card        success     11"
      ]
     },
     "execution_count": 235,
     "metadata": {},
     "output_type": "execute_result"
    }
   ],
   "source": [
    "payments_df.groupby(['payment_method', 'payment_status']).size().reset_index(name='count')"
   ]
  },
  {
   "cell_type": "markdown",
   "id": "69b70c69-794b-45e4-a515-0701d8fe2fb6",
   "metadata": {},
   "source": [
    "**92. Display the courses that were never refunded**"
   ]
  },
  {
   "cell_type": "code",
   "execution_count": 237,
   "id": "4fed190a-f567-476a-9c20-255f408674fa",
   "metadata": {},
   "outputs": [
    {
     "data": {
      "text/html": [
       "<div>\n",
       "<style scoped>\n",
       "    .dataframe tbody tr th:only-of-type {\n",
       "        vertical-align: middle;\n",
       "    }\n",
       "\n",
       "    .dataframe tbody tr th {\n",
       "        vertical-align: top;\n",
       "    }\n",
       "\n",
       "    .dataframe thead th {\n",
       "        text-align: right;\n",
       "    }\n",
       "</style>\n",
       "<table border=\"1\" class=\"dataframe\">\n",
       "  <thead>\n",
       "    <tr style=\"text-align: right;\">\n",
       "      <th></th>\n",
       "      <th>course_id</th>\n",
       "      <th>title</th>\n",
       "      <th>category</th>\n",
       "    </tr>\n",
       "  </thead>\n",
       "  <tbody>\n",
       "    <tr>\n",
       "      <th>0</th>\n",
       "      <td>54145</td>\n",
       "      <td>Data structures through C++</td>\n",
       "      <td>Technology and Programming</td>\n",
       "    </tr>\n",
       "    <tr>\n",
       "      <th>1</th>\n",
       "      <td>45770</td>\n",
       "      <td>Advanced Mathematics for Engineers</td>\n",
       "      <td>Science and Mathematics</td>\n",
       "    </tr>\n",
       "    <tr>\n",
       "      <th>2</th>\n",
       "      <td>33057</td>\n",
       "      <td>Advanced Data structures through Python</td>\n",
       "      <td>Technology and Programming</td>\n",
       "    </tr>\n",
       "    <tr>\n",
       "      <th>7</th>\n",
       "      <td>30371</td>\n",
       "      <td>Introduction to Quantum Physics</td>\n",
       "      <td>Science and Mathematics</td>\n",
       "    </tr>\n",
       "    <tr>\n",
       "      <th>9</th>\n",
       "      <td>21108</td>\n",
       "      <td>Teaching Strategies for the 21st Century</td>\n",
       "      <td>Education</td>\n",
       "    </tr>\n",
       "    <tr>\n",
       "      <th>10</th>\n",
       "      <td>97988</td>\n",
       "      <td>Classroom Management: Techniques for Success</td>\n",
       "      <td>Education</td>\n",
       "    </tr>\n",
       "    <tr>\n",
       "      <th>11</th>\n",
       "      <td>13258</td>\n",
       "      <td>Instructional Design for Online Learning</td>\n",
       "      <td>Education</td>\n",
       "    </tr>\n",
       "    <tr>\n",
       "      <th>12</th>\n",
       "      <td>97039</td>\n",
       "      <td>Early Childhood Education Fundamentals</td>\n",
       "      <td>Education</td>\n",
       "    </tr>\n",
       "    <tr>\n",
       "      <th>17</th>\n",
       "      <td>92956</td>\n",
       "      <td>Project Management: From Initiation to Execution</td>\n",
       "      <td>Business and Management</td>\n",
       "    </tr>\n",
       "    <tr>\n",
       "      <th>18</th>\n",
       "      <td>53452</td>\n",
       "      <td>Entrepreneurship 101: Building Your First Startup</td>\n",
       "      <td>Business and Management</td>\n",
       "    </tr>\n",
       "    <tr>\n",
       "      <th>19</th>\n",
       "      <td>85886</td>\n",
       "      <td>Graphic Design Essentials: Tools and Techniques</td>\n",
       "      <td>Arts and Design</td>\n",
       "    </tr>\n",
       "    <tr>\n",
       "      <th>20</th>\n",
       "      <td>62276</td>\n",
       "      <td>UX/UI Design Fundamentals</td>\n",
       "      <td>Arts and Design</td>\n",
       "    </tr>\n",
       "    <tr>\n",
       "      <th>21</th>\n",
       "      <td>45749</td>\n",
       "      <td>Python for Data Science and Machine Learning</td>\n",
       "      <td>Technology and Programming</td>\n",
       "    </tr>\n",
       "    <tr>\n",
       "      <th>22</th>\n",
       "      <td>64561</td>\n",
       "      <td>Photography: From Beginner to Pro</td>\n",
       "      <td>Arts and Design</td>\n",
       "    </tr>\n",
       "    <tr>\n",
       "      <th>23</th>\n",
       "      <td>30790</td>\n",
       "      <td>Introduction to Animation and Motion Graphics</td>\n",
       "      <td>Arts and Design</td>\n",
       "    </tr>\n",
       "    <tr>\n",
       "      <th>24</th>\n",
       "      <td>64745</td>\n",
       "      <td>Physics Made Simple: Fundamentals to Advanced</td>\n",
       "      <td>Science and Mathematics</td>\n",
       "    </tr>\n",
       "    <tr>\n",
       "      <th>25</th>\n",
       "      <td>51452</td>\n",
       "      <td>Data structures through C</td>\n",
       "      <td>Technology and Programming</td>\n",
       "    </tr>\n",
       "    <tr>\n",
       "      <th>26</th>\n",
       "      <td>56799</td>\n",
       "      <td>The Science of Everyday Chemistry</td>\n",
       "      <td>Science and Mathematics</td>\n",
       "    </tr>\n",
       "    <tr>\n",
       "      <th>27</th>\n",
       "      <td>27431</td>\n",
       "      <td>Biology: Understanding the Human Body</td>\n",
       "      <td>Science and Mathematics</td>\n",
       "    </tr>\n",
       "    <tr>\n",
       "      <th>28</th>\n",
       "      <td>58566</td>\n",
       "      <td>Introduction to Astrophysics</td>\n",
       "      <td>Science and Mathematics</td>\n",
       "    </tr>\n",
       "    <tr>\n",
       "      <th>30</th>\n",
       "      <td>12938</td>\n",
       "      <td>Climate Change: Science and Solutions</td>\n",
       "      <td>Science and Mathematics</td>\n",
       "    </tr>\n",
       "    <tr>\n",
       "      <th>31</th>\n",
       "      <td>77946</td>\n",
       "      <td>Biotechnology: Applications and Impact</td>\n",
       "      <td>Science and Mathematics</td>\n",
       "    </tr>\n",
       "    <tr>\n",
       "      <th>32</th>\n",
       "      <td>67194</td>\n",
       "      <td>Astronomy: Exploring the Universe</td>\n",
       "      <td>Science and Mathematics</td>\n",
       "    </tr>\n",
       "    <tr>\n",
       "      <th>33</th>\n",
       "      <td>74770</td>\n",
       "      <td>Marine Biology: Life Under the Sea</td>\n",
       "      <td>Science and Mathematics</td>\n",
       "    </tr>\n",
       "    <tr>\n",
       "      <th>34</th>\n",
       "      <td>86558</td>\n",
       "      <td>Genetics: From DNA to Evolution</td>\n",
       "      <td>Science and Mathematics</td>\n",
       "    </tr>\n",
       "    <tr>\n",
       "      <th>35</th>\n",
       "      <td>27385</td>\n",
       "      <td>Mastering React: Advanced Concepts</td>\n",
       "      <td>Technology and Programming</td>\n",
       "    </tr>\n",
       "    <tr>\n",
       "      <th>36</th>\n",
       "      <td>62660</td>\n",
       "      <td>Renewable Energy: Technologies and Applications</td>\n",
       "      <td>Science and Mathematics</td>\n",
       "    </tr>\n",
       "    <tr>\n",
       "      <th>37</th>\n",
       "      <td>68511</td>\n",
       "      <td>Mindfulness and Stress Management</td>\n",
       "      <td>Personal Development</td>\n",
       "    </tr>\n",
       "    <tr>\n",
       "      <th>38</th>\n",
       "      <td>57353</td>\n",
       "      <td>Public Speaking and Communication Mastery</td>\n",
       "      <td>Personal Development</td>\n",
       "    </tr>\n",
       "    <tr>\n",
       "      <th>39</th>\n",
       "      <td>48950</td>\n",
       "      <td>Productivity Hacks: Achieve More Every Day</td>\n",
       "      <td>Personal Development</td>\n",
       "    </tr>\n",
       "    <tr>\n",
       "      <th>40</th>\n",
       "      <td>99133</td>\n",
       "      <td>The Art of Negotiation and Persuasion</td>\n",
       "      <td>Personal Development</td>\n",
       "    </tr>\n",
       "    <tr>\n",
       "      <th>41</th>\n",
       "      <td>60079</td>\n",
       "      <td>Time Management for Busy Professionals</td>\n",
       "      <td>Personal Development</td>\n",
       "    </tr>\n",
       "    <tr>\n",
       "      <th>42</th>\n",
       "      <td>22005</td>\n",
       "      <td>Nutrition and Healthy Living</td>\n",
       "      <td>Health</td>\n",
       "    </tr>\n",
       "    <tr>\n",
       "      <th>43</th>\n",
       "      <td>56956</td>\n",
       "      <td>Data structures through C#</td>\n",
       "      <td>Technology and Programming</td>\n",
       "    </tr>\n",
       "    <tr>\n",
       "      <th>44</th>\n",
       "      <td>33454</td>\n",
       "      <td>Mental Health Awareness and Support</td>\n",
       "      <td>Health</td>\n",
       "    </tr>\n",
       "    <tr>\n",
       "      <th>45</th>\n",
       "      <td>39766</td>\n",
       "      <td>Fitness Coaching: Becoming a Personal Trainer</td>\n",
       "      <td>Health</td>\n",
       "    </tr>\n",
       "    <tr>\n",
       "      <th>46</th>\n",
       "      <td>31874</td>\n",
       "      <td>Public Health: Foundations and Future Trends</td>\n",
       "      <td>Health</td>\n",
       "    </tr>\n",
       "    <tr>\n",
       "      <th>47</th>\n",
       "      <td>20671</td>\n",
       "      <td>Anatomy and Physiology: Understanding the Huma...</td>\n",
       "      <td>Health</td>\n",
       "    </tr>\n",
       "    <tr>\n",
       "      <th>48</th>\n",
       "      <td>93568</td>\n",
       "      <td>Yoga and Mindfulness for Wellness</td>\n",
       "      <td>Health</td>\n",
       "    </tr>\n",
       "    <tr>\n",
       "      <th>49</th>\n",
       "      <td>96323</td>\n",
       "      <td>Global Health and Epidemiology</td>\n",
       "      <td>Health</td>\n",
       "    </tr>\n",
       "    <tr>\n",
       "      <th>50</th>\n",
       "      <td>89472</td>\n",
       "      <td>Introduction to Cybersecurity</td>\n",
       "      <td>Technology and Programming</td>\n",
       "    </tr>\n",
       "    <tr>\n",
       "      <th>51</th>\n",
       "      <td>69513</td>\n",
       "      <td>Introduction to Medical Terminology</td>\n",
       "      <td>Health</td>\n",
       "    </tr>\n",
       "    <tr>\n",
       "      <th>52</th>\n",
       "      <td>56446</td>\n",
       "      <td>Advanced Data structures through C++</td>\n",
       "      <td>Technology and Programming</td>\n",
       "    </tr>\n",
       "    <tr>\n",
       "      <th>53</th>\n",
       "      <td>20195</td>\n",
       "      <td>Advanced Data structures through C#</td>\n",
       "      <td>Technology and Programming</td>\n",
       "    </tr>\n",
       "    <tr>\n",
       "      <th>54</th>\n",
       "      <td>59716</td>\n",
       "      <td>Advanced Data structures through Java</td>\n",
       "      <td>Technology and Programming</td>\n",
       "    </tr>\n",
       "    <tr>\n",
       "      <th>55</th>\n",
       "      <td>71838</td>\n",
       "      <td>Data structures through Java</td>\n",
       "      <td>Technology and Programming</td>\n",
       "    </tr>\n",
       "    <tr>\n",
       "      <th>56</th>\n",
       "      <td>78724</td>\n",
       "      <td>Special Education: Understanding Disabilities</td>\n",
       "      <td>Education</td>\n",
       "    </tr>\n",
       "    <tr>\n",
       "      <th>57</th>\n",
       "      <td>72387</td>\n",
       "      <td>Culturally Responsive Teaching</td>\n",
       "      <td>Education</td>\n",
       "    </tr>\n",
       "    <tr>\n",
       "      <th>58</th>\n",
       "      <td>54046</td>\n",
       "      <td>AI and Deep Learning with TensorFlow</td>\n",
       "      <td>Technology and Programming</td>\n",
       "    </tr>\n",
       "    <tr>\n",
       "      <th>59</th>\n",
       "      <td>93178</td>\n",
       "      <td>Gamification in Education</td>\n",
       "      <td>Education</td>\n",
       "    </tr>\n",
       "    <tr>\n",
       "      <th>60</th>\n",
       "      <td>86724</td>\n",
       "      <td>Educational Psychology: Enhancing Learning Out...</td>\n",
       "      <td>Education</td>\n",
       "    </tr>\n",
       "    <tr>\n",
       "      <th>61</th>\n",
       "      <td>42258</td>\n",
       "      <td>Developing Curriculum for K-12 Education</td>\n",
       "      <td>Education</td>\n",
       "    </tr>\n",
       "    <tr>\n",
       "      <th>62</th>\n",
       "      <td>23531</td>\n",
       "      <td>Childhood Education Fundamentals</td>\n",
       "      <td>Education</td>\n",
       "    </tr>\n",
       "  </tbody>\n",
       "</table>\n",
       "</div>"
      ],
      "text/plain": [
       "    course_id                                              title  \\\n",
       "0       54145                        Data structures through C++   \n",
       "1       45770                 Advanced Mathematics for Engineers   \n",
       "2       33057            Advanced Data structures through Python   \n",
       "7       30371                    Introduction to Quantum Physics   \n",
       "9       21108           Teaching Strategies for the 21st Century   \n",
       "10      97988       Classroom Management: Techniques for Success   \n",
       "11      13258           Instructional Design for Online Learning   \n",
       "12      97039             Early Childhood Education Fundamentals   \n",
       "17      92956   Project Management: From Initiation to Execution   \n",
       "18      53452  Entrepreneurship 101: Building Your First Startup   \n",
       "19      85886    Graphic Design Essentials: Tools and Techniques   \n",
       "20      62276                          UX/UI Design Fundamentals   \n",
       "21      45749       Python for Data Science and Machine Learning   \n",
       "22      64561                  Photography: From Beginner to Pro   \n",
       "23      30790      Introduction to Animation and Motion Graphics   \n",
       "24      64745      Physics Made Simple: Fundamentals to Advanced   \n",
       "25      51452                          Data structures through C   \n",
       "26      56799                  The Science of Everyday Chemistry   \n",
       "27      27431              Biology: Understanding the Human Body   \n",
       "28      58566                       Introduction to Astrophysics   \n",
       "30      12938              Climate Change: Science and Solutions   \n",
       "31      77946             Biotechnology: Applications and Impact   \n",
       "32      67194                  Astronomy: Exploring the Universe   \n",
       "33      74770                 Marine Biology: Life Under the Sea   \n",
       "34      86558                    Genetics: From DNA to Evolution   \n",
       "35      27385                 Mastering React: Advanced Concepts   \n",
       "36      62660    Renewable Energy: Technologies and Applications   \n",
       "37      68511                  Mindfulness and Stress Management   \n",
       "38      57353          Public Speaking and Communication Mastery   \n",
       "39      48950         Productivity Hacks: Achieve More Every Day   \n",
       "40      99133              The Art of Negotiation and Persuasion   \n",
       "41      60079             Time Management for Busy Professionals   \n",
       "42      22005                       Nutrition and Healthy Living   \n",
       "43      56956                         Data structures through C#   \n",
       "44      33454                Mental Health Awareness and Support   \n",
       "45      39766      Fitness Coaching: Becoming a Personal Trainer   \n",
       "46      31874       Public Health: Foundations and Future Trends   \n",
       "47      20671  Anatomy and Physiology: Understanding the Huma...   \n",
       "48      93568                  Yoga and Mindfulness for Wellness   \n",
       "49      96323                     Global Health and Epidemiology   \n",
       "50      89472                      Introduction to Cybersecurity   \n",
       "51      69513                Introduction to Medical Terminology   \n",
       "52      56446               Advanced Data structures through C++   \n",
       "53      20195                Advanced Data structures through C#   \n",
       "54      59716              Advanced Data structures through Java   \n",
       "55      71838                       Data structures through Java   \n",
       "56      78724      Special Education: Understanding Disabilities   \n",
       "57      72387                     Culturally Responsive Teaching   \n",
       "58      54046               AI and Deep Learning with TensorFlow   \n",
       "59      93178                          Gamification in Education   \n",
       "60      86724  Educational Psychology: Enhancing Learning Out...   \n",
       "61      42258           Developing Curriculum for K-12 Education   \n",
       "62      23531                   Childhood Education Fundamentals   \n",
       "\n",
       "                      category  \n",
       "0   Technology and Programming  \n",
       "1      Science and Mathematics  \n",
       "2   Technology and Programming  \n",
       "7      Science and Mathematics  \n",
       "9                    Education  \n",
       "10                   Education  \n",
       "11                   Education  \n",
       "12                   Education  \n",
       "17     Business and Management  \n",
       "18     Business and Management  \n",
       "19             Arts and Design  \n",
       "20             Arts and Design  \n",
       "21  Technology and Programming  \n",
       "22             Arts and Design  \n",
       "23             Arts and Design  \n",
       "24     Science and Mathematics  \n",
       "25  Technology and Programming  \n",
       "26     Science and Mathematics  \n",
       "27     Science and Mathematics  \n",
       "28     Science and Mathematics  \n",
       "30     Science and Mathematics  \n",
       "31     Science and Mathematics  \n",
       "32     Science and Mathematics  \n",
       "33     Science and Mathematics  \n",
       "34     Science and Mathematics  \n",
       "35  Technology and Programming  \n",
       "36     Science and Mathematics  \n",
       "37        Personal Development  \n",
       "38        Personal Development  \n",
       "39        Personal Development  \n",
       "40        Personal Development  \n",
       "41        Personal Development  \n",
       "42                      Health  \n",
       "43  Technology and Programming  \n",
       "44                      Health  \n",
       "45                      Health  \n",
       "46                      Health  \n",
       "47                      Health  \n",
       "48                      Health  \n",
       "49                      Health  \n",
       "50  Technology and Programming  \n",
       "51                      Health  \n",
       "52  Technology and Programming  \n",
       "53  Technology and Programming  \n",
       "54  Technology and Programming  \n",
       "55  Technology and Programming  \n",
       "56                   Education  \n",
       "57                   Education  \n",
       "58  Technology and Programming  \n",
       "59                   Education  \n",
       "60                   Education  \n",
       "61                   Education  \n",
       "62                   Education  "
      ]
     },
     "execution_count": 237,
     "metadata": {},
     "output_type": "execute_result"
    }
   ],
   "source": [
    "refunded_courses = enrollments_df[enrollments_df['enrollment_id'].isin(refunds_df['enrollment_id'])]['course_id'].unique()\n",
    "never_refunded_courses = courses_df[~courses_df['course_id'].isin(refunded_courses)]\n",
    "never_refunded_courses[['course_id', 'title', 'category']]"
   ]
  },
  {
   "cell_type": "markdown",
   "id": "eb31d8b8-51e3-4eca-a42c-8c8ff428e22d",
   "metadata": {},
   "source": [
    "**93. Use box plot to plot distribution of completion rates by difficulty level.**"
   ]
  },
  {
   "cell_type": "code",
   "execution_count": 239,
   "id": "03c8c949-8200-42ea-b5e2-6335e37fcbc5",
   "metadata": {},
   "outputs": [
    {
     "data": {
      "image/png": "[encoded data removed]",
      "text/plain": [
       "<Figure size 1200x600 with 1 Axes>"
      ]
     },
     "metadata": {},
     "output_type": "display_data"
    }
   ],
   "source": [
    "plt.figure(figsize=(12, 6))\n",
    "\n",
    "sns.boxplot(x='difficulty_level', y='completion_rate', data=courses_df, palette='Set2', hue='difficulty_level')\n",
    "plt.title('Distribution of Completion Rates by Difficulty Level', fontsize=16)\n",
    "plt.xlabel('Difficulty Level', fontsize=12)\n",
    "plt.ylabel('Completion Rate', fontsize=12)\n",
    "plt.tight_layout()\n",
    "plt.show()"
   ]
  },
  {
   "cell_type": "markdown",
   "id": "95fb7e8a-26a1-4973-ae4c-535b11305531",
   "metadata": {},
   "source": [
    "**94. Identify the course category with the most enrollments**"
   ]
  },
  {
   "cell_type": "markdown",
   "id": "1a93b2bd-ba2c-4c04-84a7-59fb16eb0fd3",
   "metadata": {},
   "source": [
    "*Merge enrollments_df with courses_df to bring the category information*\\\n",
    "*Count the number of enrollments for each category*\\\n",
    "*Find the most popular category*"
   ]
  },
  {
   "cell_type": "code",
   "execution_count": 242,
   "id": "478fd30c-6282-4280-a390-69c26a1d8109",
   "metadata": {},
   "outputs": [
    {
     "data": {
      "text/html": [
       "<div>\n",
       "<style scoped>\n",
       "    .dataframe tbody tr th:only-of-type {\n",
       "        vertical-align: middle;\n",
       "    }\n",
       "\n",
       "    .dataframe tbody tr th {\n",
       "        vertical-align: top;\n",
       "    }\n",
       "\n",
       "    .dataframe thead th {\n",
       "        text-align: right;\n",
       "    }\n",
       "</style>\n",
       "<table border=\"1\" class=\"dataframe\">\n",
       "  <thead>\n",
       "    <tr style=\"text-align: right;\">\n",
       "      <th></th>\n",
       "      <th>category</th>\n",
       "      <th>enrollment_count</th>\n",
       "    </tr>\n",
       "  </thead>\n",
       "  <tbody>\n",
       "    <tr>\n",
       "      <th>2</th>\n",
       "      <td>Education</td>\n",
       "      <td>71</td>\n",
       "    </tr>\n",
       "  </tbody>\n",
       "</table>\n",
       "</div>"
      ],
      "text/plain": [
       "    category  enrollment_count\n",
       "2  Education                71"
      ]
     },
     "execution_count": 242,
     "metadata": {},
     "output_type": "execute_result"
    }
   ],
   "source": [
    "df = pd.merge(enrollments_df, courses_df[['course_id', 'category']], on='course_id', how='inner')\n",
    "df = df.groupby('category')['enrollment_id'].nunique().reset_index(name='enrollment_count')\n",
    "df.nlargest(1,'enrollment_count')"
   ]
  },
  {
   "cell_type": "markdown",
   "id": "bf95283c-e668-41c8-89ec-a4a0154a5f6e",
   "metadata": {},
   "source": [
    "**95. Find the number of inactive users - users who have not logged in during the last 30 days.**"
   ]
  },
  {
   "cell_type": "markdown",
   "id": "92baeb05-b856-41a6-bbfd-8c921c0f3b0b",
   "metadata": {},
   "source": [
    "*Define the cutoff date (30 days ago from today)\\\n",
    "Filter users who have not logged in within the last 30 days\\\n",
    "Count the rows*"
   ]
  },
  {
   "cell_type": "code",
   "execution_count": 245,
   "id": "f1b1a8ff-2834-4fc1-900b-693c6759c3a8",
   "metadata": {},
   "outputs": [
    {
     "data": {
      "text/plain": [
       "1155"
      ]
     },
     "execution_count": 245,
     "metadata": {},
     "output_type": "execute_result"
    }
   ],
   "source": [
    "users_df['last_login_date'] = pd.to_datetime(users_df['last_login_date'], dayfirst=True)\n",
    "cutoff_date = datetime.now() - timedelta(days=30)\n",
    "users_df[users_df['last_login_date'] < cutoff_date].shape[0]"
   ]
  },
  {
   "cell_type": "markdown",
   "id": "883aa4e3-a8b5-40b3-a3b5-fc91be3526b3",
   "metadata": {},
   "source": [
    "**96. What is the average price of courses in each category? (exclude the free courses)**"
   ]
  },
  {
   "cell_type": "markdown",
   "id": "b2babcf9-9667-4a13-929f-fc9a572030d6",
   "metadata": {},
   "source": [
    "*Filter the free courses, Calculate the average price of paid courses grouped by category*"
   ]
  },
  {
   "cell_type": "code",
   "execution_count": 248,
   "id": "bc7a85f3-a4a9-4330-b509-12fb0208f3dd",
   "metadata": {},
   "outputs": [
    {
     "data": {
      "text/plain": [
       "category\n",
       "Arts and Design                71.000000\n",
       "Business and Management        81.000000\n",
       "Education                      94.000000\n",
       "Health                         93.000000\n",
       "Personal Development           90.800000\n",
       "Science and Mathematics       124.900000\n",
       "Technology and Programming    116.727273\n",
       "Name: price, dtype: float64"
      ]
     },
     "execution_count": 248,
     "metadata": {},
     "output_type": "execute_result"
    }
   ],
   "source": [
    "paid_courses = courses_df[courses_df['price'] > 0]\n",
    "paid_courses.groupby('category')['price'].mean()"
   ]
  },
  {
   "cell_type": "markdown",
   "id": "7c83c027-bbdc-45cf-9889-6fec14a6eb2b",
   "metadata": {},
   "source": [
    "**97. How many courses are available with subtitles?**"
   ]
  },
  {
   "cell_type": "code",
   "execution_count": 250,
   "id": "1ed552f9-3e67-48e4-9512-8e3cac724702",
   "metadata": {},
   "outputs": [
    {
     "data": {
      "text/plain": [
       "55"
      ]
     },
     "execution_count": 250,
     "metadata": {},
     "output_type": "execute_result"
    }
   ],
   "source": [
    "courses_df[courses_df['subtitles']=='yes'].shape[0]"
   ]
  },
  {
   "cell_type": "markdown",
   "id": "c91b4762-6bdc-4c07-9fdc-cb90eb210d82",
   "metadata": {},
   "source": [
    "**98. What percentage of courses offer certifications?**"
   ]
  },
  {
   "cell_type": "markdown",
   "id": "0cf1ced5-17f3-46f6-b778-8fc2737d25d6",
   "metadata": {},
   "source": [
    "*Count the number of courses that offer certifications*"
   ]
  },
  {
   "cell_type": "code",
   "execution_count": 253,
   "id": "c46f71a4-f296-4c33-ba54-d6c07997e25e",
   "metadata": {},
   "outputs": [
    {
     "data": {
      "text/plain": [
       "66.66666666666666"
      ]
     },
     "execution_count": 253,
     "metadata": {},
     "output_type": "execute_result"
    }
   ],
   "source": [
    "courses_with_certification = courses_df[courses_df['certification_available'] == 'yes']\n",
    "(len(courses_with_certification) / len(courses_df)) * 100"
   ]
  },
  {
   "cell_type": "markdown",
   "id": "ab27337a-7a9d-4772-8fce-b3b1417bbb05",
   "metadata": {},
   "source": [
    "**99. What is the average time gap between a user's registration date and their first enrollment date?**"
   ]
  },
  {
   "cell_type": "markdown",
   "id": "882aae5e-9fcb-4cf1-834a-e4af8b0ffa21",
   "metadata": {},
   "source": [
    "*Get the first enrollment date for each user by merging with the enrollments_df*\\\n",
    "*Merge the registration dates with the first enrollment dates*\\\n",
    "*Calculate the time gap between registration and first enrollment in days*\\\n",
    "*Calculate the average time gap*"
   ]
  },
  {
   "cell_type": "code",
   "execution_count": 256,
   "id": "2fd97f41-34e1-47c8-850d-1b0d04884766",
   "metadata": {},
   "outputs": [
    {
     "data": {
      "text/plain": [
       "933.6628352490421"
      ]
     },
     "execution_count": 256,
     "metadata": {},
     "output_type": "execute_result"
    }
   ],
   "source": [
    "first_enrollment_dates = enrollments_df.groupby('student_id')['enrollment_date'].min()\n",
    "user_registration_enrollment = pd.merge(users_df[['user_id', 'registration_date']], first_enrollment_dates, \n",
    "                                         left_on='user_id', right_index=True, how='inner')\n",
    "user_registration_enrollment['time_gap'] = (user_registration_enrollment['enrollment_date'] - user_registration_enrollment['registration_date']).dt.days\n",
    "user_registration_enrollment['time_gap'].mean()"
   ]
  },
  {
   "cell_type": "markdown",
   "id": "9f4798b4-079a-4e67-97b3-e958f31cb9aa",
   "metadata": {},
   "source": [
    "**100. Get the email addresses and names of users who have signed up but have not enrolled in any course.**"
   ]
  },
  {
   "cell_type": "markdown",
   "id": "2cdf407c-258b-442b-a76f-cc24d1eea1e3",
   "metadata": {},
   "source": [
    "*Identify users who have enrolled in any course and then in users_df filter users who have not enrolled in any course using isin()*"
   ]
  },
  {
   "cell_type": "code",
   "execution_count": 259,
   "id": "f403aeda-1935-4f5e-addd-ad29e2a6c209",
   "metadata": {},
   "outputs": [
    {
     "data": {
      "text/html": [
       "<div>\n",
       "<style scoped>\n",
       "    .dataframe tbody tr th:only-of-type {\n",
       "        vertical-align: middle;\n",
       "    }\n",
       "\n",
       "    .dataframe tbody tr th {\n",
       "        vertical-align: top;\n",
       "    }\n",
       "\n",
       "    .dataframe thead th {\n",
       "        text-align: right;\n",
       "    }\n",
       "</style>\n",
       "<table border=\"1\" class=\"dataframe\">\n",
       "  <thead>\n",
       "    <tr style=\"text-align: right;\">\n",
       "      <th></th>\n",
       "      <th>email</th>\n",
       "      <th>name</th>\n",
       "    </tr>\n",
       "  </thead>\n",
       "  <tbody>\n",
       "    <tr>\n",
       "      <th>0</th>\n",
       "      <td>garzaanthony@robinson.org</td>\n",
       "      <td>Allison Hill</td>\n",
       "    </tr>\n",
       "    <tr>\n",
       "      <th>1</th>\n",
       "      <td>lindsay78@gmail.com</td>\n",
       "      <td>George Davis</td>\n",
       "    </tr>\n",
       "    <tr>\n",
       "      <th>2</th>\n",
       "      <td>jacqueline19@jackson.biz</td>\n",
       "      <td>Mark Diaz</td>\n",
       "    </tr>\n",
       "    <tr>\n",
       "      <th>3</th>\n",
       "      <td>julie69@cox-osborn.com</td>\n",
       "      <td>Thomas Ellis</td>\n",
       "    </tr>\n",
       "    <tr>\n",
       "      <th>4</th>\n",
       "      <td>cartereric@gmail.com</td>\n",
       "      <td>Alexandra Le</td>\n",
       "    </tr>\n",
       "    <tr>\n",
       "      <th>...</th>\n",
       "      <td>...</td>\n",
       "      <td>...</td>\n",
       "    </tr>\n",
       "    <tr>\n",
       "      <th>2937</th>\n",
       "      <td>williamhill@gmail.com</td>\n",
       "      <td>Stacy Russell</td>\n",
       "    </tr>\n",
       "    <tr>\n",
       "      <th>2938</th>\n",
       "      <td>rebeccahunt@yahoo.com</td>\n",
       "      <td>Tammy Marsh DDS</td>\n",
       "    </tr>\n",
       "    <tr>\n",
       "      <th>2939</th>\n",
       "      <td>andrew73@rodriguez.org</td>\n",
       "      <td>Kevin Floyd</td>\n",
       "    </tr>\n",
       "    <tr>\n",
       "      <th>2940</th>\n",
       "      <td>hjohnston@shields-sanchez.net</td>\n",
       "      <td>Nancy Galloway</td>\n",
       "    </tr>\n",
       "    <tr>\n",
       "      <th>2941</th>\n",
       "      <td>gcurry@espinoza-rodriguez.info</td>\n",
       "      <td>Walter Cochran DDS</td>\n",
       "    </tr>\n",
       "  </tbody>\n",
       "</table>\n",
       "<p>2681 rows × 2 columns</p>\n",
       "</div>"
      ],
      "text/plain": [
       "                               email                name\n",
       "0          garzaanthony@robinson.org        Allison Hill\n",
       "1                lindsay78@gmail.com        George Davis\n",
       "2           jacqueline19@jackson.biz           Mark Diaz\n",
       "3             julie69@cox-osborn.com        Thomas Ellis\n",
       "4               cartereric@gmail.com        Alexandra Le\n",
       "...                              ...                 ...\n",
       "2937           williamhill@gmail.com       Stacy Russell\n",
       "2938           rebeccahunt@yahoo.com     Tammy Marsh DDS\n",
       "2939          andrew73@rodriguez.org         Kevin Floyd\n",
       "2940   hjohnston@shields-sanchez.net      Nancy Galloway\n",
       "2941  gcurry@espinoza-rodriguez.info  Walter Cochran DDS\n",
       "\n",
       "[2681 rows x 2 columns]"
      ]
     },
     "execution_count": 259,
     "metadata": {},
     "output_type": "execute_result"
    }
   ],
   "source": [
    "enrolled_users = enrollments_df['student_id'].unique()\n",
    "users_df[~users_df['user_id'].isin(enrolled_users)][['email', 'name']]"
   ]
  },
  {
   "cell_type": "markdown",
   "id": "6238b5c7-f8d0-4d2b-a163-b2be08c80ba2",
   "metadata": {},
   "source": [
    "**101. Find the customers who are refunding without any reason**"
   ]
  },
  {
   "cell_type": "markdown",
   "id": "ed54f55d-6d1b-4362-bcb5-0bc281d14752",
   "metadata": {},
   "source": [
    "*Use refunds_df to filter rows where refund_reason is null (NaN).*\n",
    "*Join with enrollments_df to get the student_id for each refund.*\n",
    "*Group by student_id and count the number of refunds.*\n",
    "*Sort the results to find the users with the highest refund count.*\n",
    "*Merge with users_df to get the student names.*"
   ]
  },
  {
   "cell_type": "code",
   "execution_count": 262,
   "id": "b9cb0d25-ae66-41f2-b428-279c1d48098f",
   "metadata": {},
   "outputs": [
    {
     "data": {
      "text/html": [
       "<div>\n",
       "<style scoped>\n",
       "    .dataframe tbody tr th:only-of-type {\n",
       "        vertical-align: middle;\n",
       "    }\n",
       "\n",
       "    .dataframe tbody tr th {\n",
       "        vertical-align: top;\n",
       "    }\n",
       "\n",
       "    .dataframe thead th {\n",
       "        text-align: right;\n",
       "    }\n",
       "</style>\n",
       "<table border=\"1\" class=\"dataframe\">\n",
       "  <thead>\n",
       "    <tr style=\"text-align: right;\">\n",
       "      <th></th>\n",
       "      <th>student_id</th>\n",
       "      <th>name</th>\n",
       "      <th>refund_count</th>\n",
       "    </tr>\n",
       "  </thead>\n",
       "  <tbody>\n",
       "    <tr>\n",
       "      <th>0</th>\n",
       "      <td>170176</td>\n",
       "      <td>Theresa Luna</td>\n",
       "      <td>1</td>\n",
       "    </tr>\n",
       "    <tr>\n",
       "      <th>1</th>\n",
       "      <td>250029</td>\n",
       "      <td>Brianna Brown</td>\n",
       "      <td>1</td>\n",
       "    </tr>\n",
       "    <tr>\n",
       "      <th>2</th>\n",
       "      <td>617435</td>\n",
       "      <td>Tyler Acevedo</td>\n",
       "      <td>1</td>\n",
       "    </tr>\n",
       "    <tr>\n",
       "      <th>3</th>\n",
       "      <td>818262</td>\n",
       "      <td>Adam Anderson</td>\n",
       "      <td>1</td>\n",
       "    </tr>\n",
       "  </tbody>\n",
       "</table>\n",
       "</div>"
      ],
      "text/plain": [
       "   student_id           name  refund_count\n",
       "0      170176   Theresa Luna             1\n",
       "1      250029  Brianna Brown             1\n",
       "2      617435  Tyler Acevedo             1\n",
       "3      818262  Adam Anderson             1"
      ]
     },
     "execution_count": 262,
     "metadata": {},
     "output_type": "execute_result"
    }
   ],
   "source": [
    "refunds_without_reason = refunds_df[refunds_df['refund_reason'].isna()]\n",
    "refunds_with_students = pd.merge(refunds_without_reason, enrollments_df, on='enrollment_id', how='left')\n",
    "refund_counts = refunds_with_students.groupby('student_id').size().reset_index(name='refund_count')\n",
    "refunders = refund_counts.sort_values(by='refund_count', ascending=False)\n",
    "refunders_with_name = pd.merge(refunders, users_df[['user_id', 'name']], left_on='student_id', right_on='user_id', how='left')\n",
    "refunders_with_name[['student_id', 'name', 'refund_count']]"
   ]
  },
  {
   "cell_type": "markdown",
   "id": "5b139885-3a56-4378-90aa-202cd0f77aac",
   "metadata": {},
   "source": [
    "**102. Analyze monthly new user growth to understand monthly trends**"
   ]
  },
  {
   "cell_type": "code",
   "execution_count": 264,
   "id": "e9ea7609-12a0-4e2c-b2ce-0c8a312f5624",
   "metadata": {},
   "outputs": [
    {
     "name": "stdout",
     "output_type": "stream",
     "text": [
      "   year_month  new_users\n",
      "0     2020-01         59\n",
      "1     2020-02         41\n",
      "2     2020-03         46\n",
      "3     2020-04         46\n",
      "4     2020-05         50\n",
      "..        ...        ...\n",
      "56    2024-09         52\n",
      "57    2024-10         50\n",
      "58    2024-11         49\n",
      "59    2024-12         51\n",
      "60    2025-01         25\n",
      "\n",
      "[61 rows x 2 columns]\n"
     ]
    },
    {
     "data": {
      "image/png": "[encoded data removed]",
      "text/plain": [
       "<Figure size 1000x600 with 1 Axes>"
      ]
     },
     "metadata": {},
     "output_type": "display_data"
    }
   ],
   "source": [
    "import matplotlib.ticker as ticker\n",
    "# Extract the year and month from the registration_date\n",
    "users_df['year_month'] = users_df['registration_date'].dt.to_period('M')\n",
    "\n",
    "# Count the number of new users each month\n",
    "monthly_user_growth = users_df.groupby('year_month').size().reset_index(name='new_users')\n",
    "\n",
    "# Display the monthly user growth report\n",
    "print(monthly_user_growth)\n",
    "\n",
    "# Convert 'year_month' to a string to avoid type error\n",
    "monthly_user_growth['year_month'] = monthly_user_growth['year_month'].astype(str)\n",
    "\n",
    "# Plot the monthly user growth\n",
    "plt.figure(figsize=(10, 6))\n",
    "sns.lineplot(data=monthly_user_growth, x='year_month', y='new_users', marker='o')\n",
    "\n",
    "# Customize the plot\n",
    "plt.title('Monthly User Growth', fontsize=16)\n",
    "plt.xlabel('Month', fontsize=12)\n",
    "plt.ylabel('Number of New Users', fontsize=12)\n",
    "plt.xticks(rotation=45)\n",
    "\n",
    "# Show ticks at every 2nd value\n",
    "ax = plt.gca()\n",
    "ax.xaxis.set_major_locator(ticker.MultipleLocator(2))  # Show every 2nd month\n",
    "\n",
    "plt.tight_layout()\n",
    "\n",
    "# Show the plot\n",
    "plt.show()\n"
   ]
  },
  {
   "cell_type": "markdown",
   "id": "b4767553-6e0e-4946-bba4-63fd31bf4293",
   "metadata": {},
   "source": [
    "**103. Calculate and plot the cumulative user growth**"
   ]
  },
  {
   "cell_type": "markdown",
   "id": "c7aeb9ef-1fd1-41e0-91e8-e6e627578090",
   "metadata": {},
   "source": [
    "*To calculate and plot cumulative user growth, we can modify the previous code by adding a column to calculate the cumulative sum of new users over time.*"
   ]
  },
  {
   "cell_type": "code",
   "execution_count": 267,
   "id": "284cfbf1-60e9-4943-8323-29958bba8f85",
   "metadata": {},
   "outputs": [
    {
     "data": {
      "image/png": "[encoded data removed]",
      "text/plain": [
       "<Figure size 1000x600 with 1 Axes>"
      ]
     },
     "metadata": {},
     "output_type": "display_data"
    }
   ],
   "source": [
    "import matplotlib.ticker as ticker\n",
    "\n",
    "# Extract the year and month from the registration_date\n",
    "users_df['year_month'] = users_df['registration_date'].dt.to_period('M')\n",
    "\n",
    "# Count the number of new users each month\n",
    "monthly_user_growth = users_df.groupby('year_month').size().reset_index(name='new_users')\n",
    "\n",
    "# Add a cumulative sum column for cumulative user growth\n",
    "monthly_user_growth['cumulative_users'] = monthly_user_growth['new_users'].cumsum()\n",
    "\n",
    "# Convert 'year_month' to a string to avoid type error\n",
    "monthly_user_growth['year_month'] = monthly_user_growth['year_month'].astype(str)\n",
    "\n",
    "# Plot the cumulative user growth\n",
    "plt.figure(figsize=(10, 6))\n",
    "sns.lineplot(data=monthly_user_growth, x='year_month', y='cumulative_users', marker='o', label='Cumulative Users')\n",
    "\n",
    "# Customize the plot\n",
    "plt.title('Cumulative User Growth Over Time', fontsize=16)\n",
    "plt.xlabel('Month', fontsize=12)\n",
    "plt.ylabel('Cumulative Number of Users', fontsize=12)\n",
    "plt.xticks(rotation=45)\n",
    "\n",
    "# Show ticks at every nth value\n",
    "ax = plt.gca()\n",
    "ax.xaxis.set_major_locator(ticker.MultipleLocator(2))  # Show every 2nd month, for example\n",
    "\n",
    "plt.legend()\n",
    "plt.tight_layout()\n",
    "\n",
    "# Show the plot\n",
    "plt.show()\n"
   ]
  },
  {
   "cell_type": "markdown",
   "id": "3b300024-f606-4b53-ac43-eaeb0da557bb",
   "metadata": {},
   "source": [
    "**104. Generate the monthly revenue report** "
   ]
  },
  {
   "cell_type": "markdown",
   "id": "c0f90907-67c0-4925-a7ca-78770145ad35",
   "metadata": {},
   "source": [
    "*Extract the year and month from the transaction_date*\\\n",
    "*Calculate the monthly revenue by summing the 'amount_paid' for each month*\\\n",
    "*Drop the temporary 'year_month' column*\\\n",
    "*Display the monthly revenue report*"
   ]
  },
  {
   "cell_type": "code",
   "execution_count": 270,
   "id": "cc1fa421-637a-46ac-951d-a959aef23e6c",
   "metadata": {
    "scrolled": true
   },
   "outputs": [
    {
     "data": {
      "text/html": [
       "<div>\n",
       "<style scoped>\n",
       "    .dataframe tbody tr th:only-of-type {\n",
       "        vertical-align: middle;\n",
       "    }\n",
       "\n",
       "    .dataframe tbody tr th {\n",
       "        vertical-align: top;\n",
       "    }\n",
       "\n",
       "    .dataframe thead th {\n",
       "        text-align: right;\n",
       "    }\n",
       "</style>\n",
       "<table border=\"1\" class=\"dataframe\">\n",
       "  <thead>\n",
       "    <tr style=\"text-align: right;\">\n",
       "      <th></th>\n",
       "      <th>year_month</th>\n",
       "      <th>amount_paid</th>\n",
       "    </tr>\n",
       "  </thead>\n",
       "  <tbody>\n",
       "    <tr>\n",
       "      <th>0</th>\n",
       "      <td>2025-01</td>\n",
       "      <td>4009.0</td>\n",
       "    </tr>\n",
       "  </tbody>\n",
       "</table>\n",
       "</div>"
      ],
      "text/plain": [
       "  year_month  amount_paid\n",
       "0    2025-01       4009.0"
      ]
     },
     "execution_count": 270,
     "metadata": {},
     "output_type": "execute_result"
    }
   ],
   "source": [
    "payments_df['transaction_date'] = pd.to_datetime(payments_df['transaction_date'], dayfirst= True)\n",
    "payments_df['year_month'] = payments_df['transaction_date'].dt.to_period('M')\n",
    "monthly_revenue = payments_df.groupby('year_month')['amount_paid'].sum().reset_index()\n",
    "payments_df = payments_df.drop(columns=['year_month'])\n",
    "monthly_revenue"
   ]
  },
  {
   "cell_type": "markdown",
   "id": "2754be8f-6e8c-45b1-95f9-d79c38c7d2d3",
   "metadata": {},
   "source": [
    "**105. Generate the annual revenue report** "
   ]
  },
  {
   "cell_type": "code",
   "execution_count": 272,
   "id": "e69bdec3-15e1-4207-990a-7bdaeb346d07",
   "metadata": {},
   "outputs": [
    {
     "data": {
      "text/html": [
       "<div>\n",
       "<style scoped>\n",
       "    .dataframe tbody tr th:only-of-type {\n",
       "        vertical-align: middle;\n",
       "    }\n",
       "\n",
       "    .dataframe tbody tr th {\n",
       "        vertical-align: top;\n",
       "    }\n",
       "\n",
       "    .dataframe thead th {\n",
       "        text-align: right;\n",
       "    }\n",
       "</style>\n",
       "<table border=\"1\" class=\"dataframe\">\n",
       "  <thead>\n",
       "    <tr style=\"text-align: right;\">\n",
       "      <th></th>\n",
       "      <th>year</th>\n",
       "      <th>amount_paid</th>\n",
       "    </tr>\n",
       "  </thead>\n",
       "  <tbody>\n",
       "    <tr>\n",
       "      <th>0</th>\n",
       "      <td>2025</td>\n",
       "      <td>4009.0</td>\n",
       "    </tr>\n",
       "  </tbody>\n",
       "</table>\n",
       "</div>"
      ],
      "text/plain": [
       "   year  amount_paid\n",
       "0  2025       4009.0"
      ]
     },
     "execution_count": 272,
     "metadata": {},
     "output_type": "execute_result"
    }
   ],
   "source": [
    "# Extract the year from the transaction_date\n",
    "# Calculate the annual revenue by summing the 'amount_paid' for each year\n",
    "# Drop the temporary 'year' column\n",
    "# Display the annual revenue report\n",
    "\n",
    "payments_df['year'] = payments_df['transaction_date'].dt.year\n",
    "annual_revenue = payments_df.groupby('year')['amount_paid'].sum().reset_index()\n",
    "payments_df = payments_df.drop(columns=['year'])\n",
    "annual_revenue"
   ]
  },
  {
   "cell_type": "markdown",
   "id": "cb6b9879-beab-440e-9685-44fe89940462",
   "metadata": {},
   "source": [
    "**106. Analyze whether there are more purchases on weekdays or weekends**"
   ]
  },
  {
   "cell_type": "markdown",
   "id": "70bb4862-718b-4e24-9573-e41a701a826c",
   "metadata": {},
   "source": [
    "*Extract the weekday from the transaction_date (0 = Monday, 6 = Sunday).*\n",
    "*Create a new column to categorize purchases as \"Weekday\" or \"Weekend\".*\n",
    "*Count the number of transactions for weekdays vs weekends*"
   ]
  },
  {
   "cell_type": "code",
   "execution_count": 275,
   "id": "78e9aef9-3120-4018-b276-afef08a29076",
   "metadata": {},
   "outputs": [
    {
     "data": {
      "text/plain": [
       "purchase_time\n",
       "Weekday    30\n",
       "Weekend    15\n",
       "Name: count, dtype: int64"
      ]
     },
     "execution_count": 275,
     "metadata": {},
     "output_type": "execute_result"
    }
   ],
   "source": [
    "payments_df['weekday'] = payments_df['transaction_date'].dt.weekday\n",
    "payments_df['purchase_time'] = payments_df['weekday'].apply(lambda x: 'Weekday' if x < 5 else 'Weekend')\n",
    "payments_df['purchase_time'].value_counts()"
   ]
  },
  {
   "cell_type": "markdown",
   "id": "ff710ac2-0fd3-493f-8fb9-f7f0988b8c88",
   "metadata": {},
   "source": [
    "**107. Which coupon code is used most frequently?  Visualize the distribution of coupon code usage**"
   ]
  },
  {
   "cell_type": "code",
   "execution_count": 277,
   "id": "70b91e4a-69b7-4e08-9406-c6d3460ddf37",
   "metadata": {},
   "outputs": [
    {
     "name": "stdout",
     "output_type": "stream",
     "text": [
      "The most frequently used coupon code is: UTUBE23\n",
      "It was used 10 times.\n"
     ]
    },
    {
     "data": {
      "image/png": "[encoded data removed]",
      "text/plain": [
       "<Figure size 1000x600 with 1 Axes>"
      ]
     },
     "metadata": {},
     "output_type": "display_data"
    }
   ],
   "source": [
    "# Count the occurrences of each coupon code\n",
    "coupon_code_counts = payments_df['coupon_code'].value_counts()\n",
    "\n",
    "# Get the most frequently used coupon code\n",
    "most_frequent_coupon_code = coupon_code_counts.idxmax()\n",
    "most_frequent_coupon_code_count = coupon_code_counts.max()\n",
    "\n",
    "print(f\"The most frequently used coupon code is: {most_frequent_coupon_code}\")\n",
    "print(f\"It was used {most_frequent_coupon_code_count} times.\")\n",
    "\n",
    "# Plot the coupon code usage\n",
    "plt.figure(figsize=(10,6))\n",
    "coupon_code_counts.plot(kind='bar', color='skyblue')\n",
    "plt.title('Coupon Code Usage Frequency')\n",
    "plt.xlabel('Coupon Code')\n",
    "plt.ylabel('Frequency')\n",
    "plt.xticks(rotation=45)\n",
    "plt.show()\t"
   ]
  },
  {
   "cell_type": "markdown",
   "id": "edd5afab-6c31-47a3-972c-c054393177e5",
   "metadata": {},
   "source": [
    "**108. Analyze completion rates by country**"
   ]
  },
  {
   "cell_type": "markdown",
   "id": "1894226d-3ac6-4b81-94ef-6a784f751eea",
   "metadata": {},
   "source": [
    "*Merge Users and Enrollments*\\\n",
    "*Merge the resulting DataFrame with Courses*\\\n",
    "*Group by Country and Calculate Average Completion Rate*\\\n",
    "*Bar chart for completion rates by country*"
   ]
  },
  {
   "cell_type": "code",
   "execution_count": 280,
   "id": "93031cf2-6828-4d97-b5de-748e813a71c8",
   "metadata": {},
   "outputs": [
    {
     "name": "stdout",
     "output_type": "stream",
     "text": [
      "Completion Rates by Country:\n",
      "   country  completion_rate\n",
      "0    China        41.676271\n",
      "1  Germany        47.893333\n",
      "2    India        45.494800\n",
      "3       UK        39.162162\n",
      "4       US        43.602800\n"
     ]
    },
    {
     "data": {
      "image/png": "[encoded data removed]",
      "text/plain": [
       "<Figure size 1000x600 with 1 Axes>"
      ]
     },
     "metadata": {},
     "output_type": "display_data"
    }
   ],
   "source": [
    "merged_df = pd.merge(users_df, enrollments_df, left_on='user_id', right_on='student_id')\n",
    "merged_df = pd.merge(merged_df, courses_df, on='course_id')\n",
    "completion_by_country = merged_df.groupby('country')['completion_rate'].mean().reset_index()\n",
    "\n",
    "print(\"Completion Rates by Country:\")\n",
    "print(completion_by_country)\n",
    "\n",
    "plt.figure(figsize=(10, 6))\n",
    "plt.bar(completion_by_country['country'], completion_by_country['completion_rate'], color='skyblue')\n",
    "plt.xlabel('Country')\n",
    "plt.ylabel('Average Completion Rate')\n",
    "plt.title('Average Completion Rate by Country')\n",
    "plt.xticks(rotation=45)\n",
    "plt.tight_layout()\n",
    "plt.show()\n"
   ]
  }
 ],
 "metadata": {
  "kernelspec": {
   "display_name": "Python 3 (ipykernel)",
   "language": "python",
   "name": "python3"
  },
  "language_info": {
   "codemirror_mode": {
    "name": "ipython",
    "version": 3
   },
   "file_extension": ".py",
   "mimetype": "text/x-python",
   "name": "python",
   "nbconvert_exporter": "python",
   "pygments_lexer": "ipython3",
   "version": "3.12.4"
  }
 },
 "nbformat": 4,
 "nbformat_minor": 5
}
